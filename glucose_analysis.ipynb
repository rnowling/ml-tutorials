{
 "cells": [
  {
   "cell_type": "markdown",
   "metadata": {},
   "source": [
    "## Blood Glucose"
   ]
  },
  {
   "cell_type": "markdown",
   "metadata": {},
   "source": [
    "By RJ Nowling, 2018-09-06\n",
    "\n",
    "A [CDC Report](https://www.cdc.gov/media/releases/2017/p0718-diabetes-report.html) \"finds that as of 2015, 30.3 million Americans – 9.4 percent of the U.S. population –have diabetes. Another 84.1 million have prediabetes, a condition that if not treated often leads to type 2 diabetes within five years.\"\n",
    "\n",
    "When we eat food, carbohydrates in the food are converted into glucose, a type of sugar, that floats in our blood.  In a healthy person, the pancreas and liver regulate the concentration of glucose by releasing insulin and stored glucose, respectively.  Insulin triggers the body's cells to absorb the glucose floating in the blood stream.  Type 2 diabetes is characterized by elevated blood sugar (glucose) levels due to reduced sensitivity to insulin (insulin resistance).  Insulin resistance can be made worse when a person is overweight.  Blood sugar is often measured by a device called a glucometer using a blood sample.\n",
    "\n",
    "Diet and exercise are used as a first line defense for managing type 2 diabetes or prediabetes.  Diet and exercise impact glucose levels directly and indirectly.  High carbohydrates foods like candy, potatoes, or bread can spike blood sugar levels; foods with complex carbohydrates such as whole wheat bread or sweed potatoes tend to be digested more slowly, leading to smoother blood sugar levels. Exercise can reduce blood sugar levels temporarily by causing cells to absorb glucose in the blood without needing insulin.  Longer term, proper diet and consistent exercise can help type 2 diabetics lose weight and consequently, reduce insulin resistance.\n",
    "\n",
    "In this notebook, we'll analyze glucose readings from a type 2 diabetic taken over the summer of 2016.  The data set contains a timestamp (date and time), glucose level, and whether or not the person engaged in a physical activity before the reading was taken.  We'll analyze this data set to determine the seasonality in the blood glucose levels and the impact of exercise on blood glucose levels."
   ]
  },
  {
   "cell_type": "code",
   "execution_count": 1,
   "metadata": {},
   "outputs": [],
   "source": [
    "import numpy as np\n",
    "import scipy.stats as stats\n",
    "import matplotlib.pyplot as plt\n",
    "import pandas as pd\n",
    "import datetime as dt"
   ]
  },
  {
   "cell_type": "markdown",
   "metadata": {},
   "source": [
    "## Loading and Cleaning the Data using Pandas"
   ]
  },
  {
   "cell_type": "markdown",
   "metadata": {},
   "source": [
    "Read the data from a CSV File"
   ]
  },
  {
   "cell_type": "code",
   "execution_count": 2,
   "metadata": {},
   "outputs": [],
   "source": [
    "glucose_readings = pd.read_csv(\"glucose.csv\")"
   ]
  },
  {
   "cell_type": "markdown",
   "metadata": {},
   "source": [
    "Preview the data by looking at the first few rows"
   ]
  },
  {
   "cell_type": "code",
   "execution_count": 3,
   "metadata": {},
   "outputs": [
    {
     "data": {
      "text/html": [
       "<div>\n",
       "<style scoped>\n",
       "    .dataframe tbody tr th:only-of-type {\n",
       "        vertical-align: middle;\n",
       "    }\n",
       "\n",
       "    .dataframe tbody tr th {\n",
       "        vertical-align: top;\n",
       "    }\n",
       "\n",
       "    .dataframe thead th {\n",
       "        text-align: right;\n",
       "    }\n",
       "</style>\n",
       "<table border=\"1\" class=\"dataframe\">\n",
       "  <thead>\n",
       "    <tr style=\"text-align: right;\">\n",
       "      <th></th>\n",
       "      <th>Timestamp</th>\n",
       "      <th>Blood Glucose</th>\n",
       "      <th>Prior Activity</th>\n",
       "    </tr>\n",
       "  </thead>\n",
       "  <tbody>\n",
       "    <tr>\n",
       "      <th>0</th>\n",
       "      <td>2016-05-07 08:05 PM</td>\n",
       "      <td>202</td>\n",
       "      <td>NaN</td>\n",
       "    </tr>\n",
       "    <tr>\n",
       "      <th>1</th>\n",
       "      <td>2016-05-07 09:04 PM</td>\n",
       "      <td>237</td>\n",
       "      <td>NaN</td>\n",
       "    </tr>\n",
       "    <tr>\n",
       "      <th>2</th>\n",
       "      <td>2016-05-07 10:15 PM</td>\n",
       "      <td>215</td>\n",
       "      <td>NaN</td>\n",
       "    </tr>\n",
       "    <tr>\n",
       "      <th>3</th>\n",
       "      <td>2016-05-08 07:14 PM</td>\n",
       "      <td>228</td>\n",
       "      <td>NaN</td>\n",
       "    </tr>\n",
       "    <tr>\n",
       "      <th>4</th>\n",
       "      <td>2016-05-09 04:19 AM</td>\n",
       "      <td>210</td>\n",
       "      <td>NaN</td>\n",
       "    </tr>\n",
       "  </tbody>\n",
       "</table>\n",
       "</div>"
      ],
      "text/plain": [
       "             Timestamp  Blood Glucose Prior Activity\n",
       "0  2016-05-07 08:05 PM            202            NaN\n",
       "1  2016-05-07 09:04 PM            237            NaN\n",
       "2  2016-05-07 10:15 PM            215            NaN\n",
       "3  2016-05-08 07:14 PM            228            NaN\n",
       "4  2016-05-09 04:19 AM            210            NaN"
      ]
     },
     "execution_count": 3,
     "metadata": {},
     "output_type": "execute_result"
    }
   ],
   "source": [
    "glucose_readings.head()"
   ]
  },
  {
   "cell_type": "markdown",
   "metadata": {},
   "source": [
    "The file appears to contain 3 columns: timestamp, glucose level, and prior activity.\n",
    "How many rows are there?"
   ]
  },
  {
   "cell_type": "code",
   "execution_count": 4,
   "metadata": {},
   "outputs": [
    {
     "data": {
      "text/plain": [
       "219"
      ]
     },
     "execution_count": 4,
     "metadata": {},
     "output_type": "execute_result"
    }
   ],
   "source": [
    "len(glucose_readings)"
   ]
  },
  {
   "cell_type": "markdown",
   "metadata": {},
   "source": [
    "Pandas can often correctly infer the type (e.g., int, float, str) of a column.\n",
    "Let's see what types Pandas inferred for this data set."
   ]
  },
  {
   "cell_type": "code",
   "execution_count": 5,
   "metadata": {},
   "outputs": [
    {
     "data": {
      "text/plain": [
       "Timestamp         object\n",
       "Blood Glucose      int64\n",
       "Prior Activity    object\n",
       "dtype: object"
      ]
     },
     "execution_count": 5,
     "metadata": {},
     "output_type": "execute_result"
    }
   ],
   "source": [
    "glucose_readings.dtypes"
   ]
  },
  {
   "cell_type": "markdown",
   "metadata": {},
   "source": [
    "The dtypes weren't very helpful.  Let's using indexing to get one of the objects\n",
    "and use the Python type() function to inspect it.\n",
    "We can select a column (returned as a Series) like so:"
   ]
  },
  {
   "cell_type": "code",
   "execution_count": 6,
   "metadata": {},
   "outputs": [
    {
     "data": {
      "text/plain": [
       "0    2016-05-07 08:05 PM\n",
       "1    2016-05-07 09:04 PM\n",
       "2    2016-05-07 10:15 PM\n",
       "3    2016-05-08 07:14 PM\n",
       "4    2016-05-09 04:19 AM\n",
       "Name: Timestamp, dtype: object"
      ]
     },
     "execution_count": 6,
     "metadata": {},
     "output_type": "execute_result"
    }
   ],
   "source": [
    "glucose_readings[\"Timestamp\"].head()"
   ]
  },
  {
   "cell_type": "markdown",
   "metadata": {},
   "source": [
    "We can then select the first Timestamp by indexing again:"
   ]
  },
  {
   "cell_type": "code",
   "execution_count": 7,
   "metadata": {},
   "outputs": [
    {
     "data": {
      "text/plain": [
       "'2016-05-07 08:05 PM'"
      ]
     },
     "execution_count": 7,
     "metadata": {},
     "output_type": "execute_result"
    }
   ],
   "source": [
    "glucose_readings[\"Timestamp\"][0]"
   ]
  },
  {
   "cell_type": "markdown",
   "metadata": {},
   "source": [
    "Finally, we can check the type:"
   ]
  },
  {
   "cell_type": "code",
   "execution_count": 8,
   "metadata": {},
   "outputs": [
    {
     "data": {
      "text/plain": [
       "str"
      ]
     },
     "execution_count": 8,
     "metadata": {},
     "output_type": "execute_result"
    }
   ],
   "source": [
    "type(glucose_readings[\"Timestamp\"][0])"
   ]
  },
  {
   "cell_type": "markdown",
   "metadata": {},
   "source": [
    "Pandas was not able to properly parse the timestamp, so it saved the field\n",
    "as a str.  We can use Python's datetime library to parse it ourselves.\n",
    "\n",
    "https://docs.python.org/3/library/datetime.html\n",
    "\n",
    "https://docs.python.org/3/library/datetime.html#strftime-strptime-behavior\n",
    "\n",
    "The dt.datetime class provides a method called strptime(date_string, format)\n",
    "that can parse a timestap given a specification."
   ]
  },
  {
   "cell_type": "code",
   "execution_count": 9,
   "metadata": {},
   "outputs": [
    {
     "data": {
      "text/plain": [
       "datetime.datetime(2016, 5, 7, 20, 5)"
      ]
     },
     "execution_count": 9,
     "metadata": {},
     "output_type": "execute_result"
    }
   ],
   "source": [
    "format_str = \"%Y-%m-%d %I:%M %p\"\n",
    "dt.datetime.strptime(glucose_readings[\"Timestamp\"][0], format_str)"
   ]
  },
  {
   "cell_type": "markdown",
   "metadata": {},
   "source": [
    "Now that we know how to convert a single instance, we need to apply this to every instance in the Timestamp column."
   ]
  },
  {
   "cell_type": "code",
   "execution_count": 10,
   "metadata": {},
   "outputs": [
    {
     "data": {
      "text/plain": [
       "0   2016-05-07 20:05:00\n",
       "1   2016-05-07 21:04:00\n",
       "2   2016-05-07 22:15:00\n",
       "3   2016-05-08 19:14:00\n",
       "4   2016-05-09 04:19:00\n",
       "Name: Timestamp, dtype: datetime64[ns]"
      ]
     },
     "execution_count": 10,
     "metadata": {},
     "output_type": "execute_result"
    }
   ],
   "source": [
    "converted_timestamps = glucose_readings[\"Timestamp\"].map(lambda s: dt.datetime.strptime(s, format_str))\n",
    "converted_timestamps.head()"
   ]
  },
  {
   "cell_type": "markdown",
   "metadata": {},
   "source": [
    "The conversion looks correct (the dtype is a datetime object), so let's update our DataFrame by overwriting the original column with the new column."
   ]
  },
  {
   "cell_type": "code",
   "execution_count": 11,
   "metadata": {},
   "outputs": [
    {
     "data": {
      "text/html": [
       "<div>\n",
       "<style scoped>\n",
       "    .dataframe tbody tr th:only-of-type {\n",
       "        vertical-align: middle;\n",
       "    }\n",
       "\n",
       "    .dataframe tbody tr th {\n",
       "        vertical-align: top;\n",
       "    }\n",
       "\n",
       "    .dataframe thead th {\n",
       "        text-align: right;\n",
       "    }\n",
       "</style>\n",
       "<table border=\"1\" class=\"dataframe\">\n",
       "  <thead>\n",
       "    <tr style=\"text-align: right;\">\n",
       "      <th></th>\n",
       "      <th>Timestamp</th>\n",
       "      <th>Blood Glucose</th>\n",
       "      <th>Prior Activity</th>\n",
       "    </tr>\n",
       "  </thead>\n",
       "  <tbody>\n",
       "    <tr>\n",
       "      <th>0</th>\n",
       "      <td>2016-05-07 20:05:00</td>\n",
       "      <td>202</td>\n",
       "      <td>NaN</td>\n",
       "    </tr>\n",
       "    <tr>\n",
       "      <th>1</th>\n",
       "      <td>2016-05-07 21:04:00</td>\n",
       "      <td>237</td>\n",
       "      <td>NaN</td>\n",
       "    </tr>\n",
       "    <tr>\n",
       "      <th>2</th>\n",
       "      <td>2016-05-07 22:15:00</td>\n",
       "      <td>215</td>\n",
       "      <td>NaN</td>\n",
       "    </tr>\n",
       "    <tr>\n",
       "      <th>3</th>\n",
       "      <td>2016-05-08 19:14:00</td>\n",
       "      <td>228</td>\n",
       "      <td>NaN</td>\n",
       "    </tr>\n",
       "    <tr>\n",
       "      <th>4</th>\n",
       "      <td>2016-05-09 04:19:00</td>\n",
       "      <td>210</td>\n",
       "      <td>NaN</td>\n",
       "    </tr>\n",
       "  </tbody>\n",
       "</table>\n",
       "</div>"
      ],
      "text/plain": [
       "            Timestamp  Blood Glucose Prior Activity\n",
       "0 2016-05-07 20:05:00            202            NaN\n",
       "1 2016-05-07 21:04:00            237            NaN\n",
       "2 2016-05-07 22:15:00            215            NaN\n",
       "3 2016-05-08 19:14:00            228            NaN\n",
       "4 2016-05-09 04:19:00            210            NaN"
      ]
     },
     "execution_count": 11,
     "metadata": {},
     "output_type": "execute_result"
    }
   ],
   "source": [
    "glucose_readings[\"Timestamp\"] = converted_timestamps\n",
    "glucose_readings.head()"
   ]
  },
  {
   "cell_type": "markdown",
   "metadata": {},
   "source": [
    "## Analyzing Relationship Between Blood Glucose and Time"
   ]
  },
  {
   "cell_type": "markdown",
   "metadata": {},
   "source": [
    "Let's begin exploring our data by plotting the glucose levels over time.  Pandas provides a number of convenience functions for creating plots.  These convenience functions call Matplotlib under the hood but handle data types like datetime objects more gracefully than Matplotlib alone."
   ]
  },
  {
   "cell_type": "code",
   "execution_count": 12,
   "metadata": {},
   "outputs": [
    {
     "data": {
      "text/plain": [
       "<matplotlib.axes._subplots.AxesSubplot at 0x1a148ba470>"
      ]
     },
     "execution_count": 12,
     "metadata": {},
     "output_type": "execute_result"
    },
    {
     "data": {
      "image/png": "[encoded data removed]",
      "text/plain": [
       "<Figure size 432x288 with 1 Axes>"
      ]
     },
     "metadata": {},
     "output_type": "display_data"
    }
   ],
   "source": [
    "glucose_readings.plot.line(x = \"Timestamp\", y = \"Blood Glucose\")"
   ]
  },
  {
   "cell_type": "markdown",
   "metadata": {},
   "source": [
    "The blood glucose levels fluctuate quite a bit.  Let's try looking at a single week of readings. In Pandas, we can select rows based on the value of one of the columns.  In our case, we want to find rows that have a timestamp between June 1, 2016 and June 7, 2016. Datetime objects can be compared to each other, so we need to create start and ending datetime objects.  We then create a \"mask\" by comparing the timestamps to the starting and ending dates."
   ]
  },
  {
   "cell_type": "code",
   "execution_count": 14,
   "metadata": {},
   "outputs": [
    {
     "data": {
      "text/plain": [
       "0    False\n",
       "1    False\n",
       "2    False\n",
       "3    False\n",
       "4    False\n",
       "Name: Timestamp, dtype: bool"
      ]
     },
     "execution_count": 14,
     "metadata": {},
     "output_type": "execute_result"
    }
   ],
   "source": [
    "start_date = dt.datetime(2016, 6, 1)\n",
    "end_date = start_date + dt.timedelta(days=7)\n",
    "mask = (start_date <= glucose_readings[\"Timestamp\"]) & (glucose_readings[\"Timestamp\"] < end_date)\n",
    "mask.head()"
   ]
  },
  {
   "cell_type": "markdown",
   "metadata": {},
   "source": [
    "We can see that the mask is a Pandas Series containing boolean (True / False) values indicating whether a given row satisfies the query or not.  We can then use this to index the DataFrame.  Note that, normally, the DataFrame expects either a single column name (str) or a list of column names as the argument to `[]` -- the mask (Series) is a special case."
   ]
  },
  {
   "cell_type": "code",
   "execution_count": 15,
   "metadata": {},
   "outputs": [
    {
     "data": {
      "text/plain": [
       "<matplotlib.axes._subplots.AxesSubplot at 0x1a169954a8>"
      ]
     },
     "execution_count": 15,
     "metadata": {},
     "output_type": "execute_result"
    },
    {
     "data": {
      "image/png": "[encoded data removed]",
      "text/plain": [
       "<Figure size 432x288 with 1 Axes>"
      ]
     },
     "metadata": {},
     "output_type": "display_data"
    }
   ],
   "source": [
    "one_week = glucose_readings[mask]\n",
    "one_week.plot.line(x = \"Timestamp\", y = \"Blood Glucose\")"
   ]
  },
  {
   "cell_type": "markdown",
   "metadata": {},
   "source": [
    "From the plots of the blood glucose readings, we can generate several hypotheses:\n",
    "\n",
    "1. Blood Glucose is Decreasing Over the Time Range of the Data Set\n",
    "2. There is a Relationship between Blood Glucose and Time of Day\n",
    "3. There is a Relationship between Blood Glucose and the Day of the Week\n",
    "\n",
    "In the following subsections, we evaluate each hypothesis."
   ]
  },
  {
   "cell_type": "markdown",
   "metadata": {},
   "source": [
    "### Hypothesis 1: Blood Glucose is Decreasing Over the Time Range of the Data Set"
   ]
  },
  {
   "cell_type": "markdown",
   "metadata": {},
   "source": [
    "The blood glucose appears to have a downward trend over the total time range of the data set.  Let's verify these by fitting a linear regression model and interpreting the model.\n",
    "\n",
    "We need to convert the timestamps to a single number.  Let's find the first date, subtract this from every timestamp, and convert to days."
   ]
  },
  {
   "cell_type": "code",
   "execution_count": 16,
   "metadata": {},
   "outputs": [
    {
     "data": {
      "text/plain": [
       "0    0.000000\n",
       "1    0.004097\n",
       "2    0.009028\n",
       "3    0.096458\n",
       "4    1.034306\n",
       "5    1.052153\n",
       "6    1.069583\n",
       "7    2.050278\n",
       "8    3.016944\n",
       "9    3.053819\n",
       "Name: Timestamp, dtype: float64"
      ]
     },
     "execution_count": 16,
     "metadata": {},
     "output_type": "execute_result"
    }
   ],
   "source": [
    "start_date = glucose_readings[\"Timestamp\"].min()\n",
    "time_deltas = glucose_readings[\"Timestamp\"].map(lambda t: t - start_date)\n",
    "days_elapsed = time_deltas.map(lambda t: t.days + t.seconds / (24. * 36000.))\n",
    "days_elapsed.head(10)"
   ]
  },
  {
   "cell_type": "markdown",
   "metadata": {},
   "source": [
    "We can now fit a linear regression model.  We use the days elapsed since the start of the data set as the independent variable and the blood glucose as the dependent variable."
   ]
  },
  {
   "cell_type": "code",
   "execution_count": 17,
   "metadata": {},
   "outputs": [
    {
     "name": "stdout",
     "output_type": "stream",
     "text": [
      "Slope: -1.8230144817382794\n",
      "p-value: 2.59512905636245e-19\n"
     ]
    }
   ],
   "source": [
    "glucose_readings[\"Days Elapsed\"] = days_elapsed\n",
    "slope, intercept, r, p_value, stderr = stats.linregress(glucose_readings[\"Days Elapsed\"],\n",
    "                                                        glucose_readings[\"Blood Glucose\"])\n",
    "print(\"Slope:\", slope)\n",
    "print(\"p-value:\", p_value)"
   ]
  },
  {
   "cell_type": "markdown",
   "metadata": {},
   "source": [
    "To use Panda's plotting functions, we need to add the predictions from the linear regression model to the DataFrame.  Note that the Days Elapsed is a Series.  Multiplying it by a scalar (scalar) produces another Series; this also happens when adding a scalar to the Series."
   ]
  },
  {
   "cell_type": "code",
   "execution_count": 18,
   "metadata": {},
   "outputs": [
    {
     "data": {
      "text/html": [
       "<div>\n",
       "<style scoped>\n",
       "    .dataframe tbody tr th:only-of-type {\n",
       "        vertical-align: middle;\n",
       "    }\n",
       "\n",
       "    .dataframe tbody tr th {\n",
       "        vertical-align: top;\n",
       "    }\n",
       "\n",
       "    .dataframe thead th {\n",
       "        text-align: right;\n",
       "    }\n",
       "</style>\n",
       "<table border=\"1\" class=\"dataframe\">\n",
       "  <thead>\n",
       "    <tr style=\"text-align: right;\">\n",
       "      <th></th>\n",
       "      <th>Timestamp</th>\n",
       "      <th>Blood Glucose</th>\n",
       "      <th>Prior Activity</th>\n",
       "      <th>Days Elapsed</th>\n",
       "      <th>Linear Regression</th>\n",
       "    </tr>\n",
       "  </thead>\n",
       "  <tbody>\n",
       "    <tr>\n",
       "      <th>0</th>\n",
       "      <td>2016-05-07 20:05:00</td>\n",
       "      <td>202</td>\n",
       "      <td>NaN</td>\n",
       "      <td>0.000000</td>\n",
       "      <td>218.907654</td>\n",
       "    </tr>\n",
       "    <tr>\n",
       "      <th>1</th>\n",
       "      <td>2016-05-07 21:04:00</td>\n",
       "      <td>237</td>\n",
       "      <td>NaN</td>\n",
       "      <td>0.004097</td>\n",
       "      <td>218.900185</td>\n",
       "    </tr>\n",
       "    <tr>\n",
       "      <th>2</th>\n",
       "      <td>2016-05-07 22:15:00</td>\n",
       "      <td>215</td>\n",
       "      <td>NaN</td>\n",
       "      <td>0.009028</td>\n",
       "      <td>218.891196</td>\n",
       "    </tr>\n",
       "    <tr>\n",
       "      <th>3</th>\n",
       "      <td>2016-05-08 19:14:00</td>\n",
       "      <td>228</td>\n",
       "      <td>NaN</td>\n",
       "      <td>0.096458</td>\n",
       "      <td>218.731809</td>\n",
       "    </tr>\n",
       "    <tr>\n",
       "      <th>4</th>\n",
       "      <td>2016-05-09 04:19:00</td>\n",
       "      <td>210</td>\n",
       "      <td>NaN</td>\n",
       "      <td>1.034306</td>\n",
       "      <td>217.022100</td>\n",
       "    </tr>\n",
       "  </tbody>\n",
       "</table>\n",
       "</div>"
      ],
      "text/plain": [
       "            Timestamp  Blood Glucose Prior Activity  Days Elapsed  \\\n",
       "0 2016-05-07 20:05:00            202            NaN      0.000000   \n",
       "1 2016-05-07 21:04:00            237            NaN      0.004097   \n",
       "2 2016-05-07 22:15:00            215            NaN      0.009028   \n",
       "3 2016-05-08 19:14:00            228            NaN      0.096458   \n",
       "4 2016-05-09 04:19:00            210            NaN      1.034306   \n",
       "\n",
       "   Linear Regression  \n",
       "0         218.907654  \n",
       "1         218.900185  \n",
       "2         218.891196  \n",
       "3         218.731809  \n",
       "4         217.022100  "
      ]
     },
     "execution_count": 18,
     "metadata": {},
     "output_type": "execute_result"
    }
   ],
   "source": [
    "glucose_readings[\"Linear Regression\"] = glucose_readings[\"Days Elapsed\"] * slope + intercept\n",
    "glucose_readings.head()"
   ]
  },
  {
   "cell_type": "markdown",
   "metadata": {},
   "source": [
    "Lastly, we plot the real Blood Glucose values against the predicted values from the linear regression model.  To plot multiple lines, we need to select the independent variable (Timestamp) plus the columns (Blood Glucose, Linear Regression) we want to plot.  We then call the plot.line function, specifying which column is the independent variable."
   ]
  },
  {
   "cell_type": "code",
   "execution_count": 19,
   "metadata": {},
   "outputs": [
    {
     "data": {
      "text/plain": [
       "<matplotlib.axes._subplots.AxesSubplot at 0x1a16a64a90>"
      ]
     },
     "execution_count": 19,
     "metadata": {},
     "output_type": "execute_result"
    },
    {
     "data": {
      "image/png": "[encoded data removed]",
      "text/plain": [
       "<Figure size 432x288 with 1 Axes>"
      ]
     },
     "metadata": {},
     "output_type": "display_data"
    }
   ],
   "source": [
    "glucose_readings[[\"Timestamp\", \"Blood Glucose\", \"Linear Regression\"]].plot.line(x=\"Timestamp\")"
   ]
  },
  {
   "cell_type": "markdown",
   "metadata": {},
   "source": [
    "Our linear regression model confirms that the average blood glucose does seem to be decreasing over the date range of the data set.  The p_value is clearly much less than 0.01, indicating that the model is statistically significant.  The slope is in units of glucose units per day -- we can interpret the slope to mean that the glucose levels are going down by 1.8 units per day, on average.  Lastly, when we plot the predictions from the linear regression model versus the true readings, we see that the line from the predictions clearly expose the downward trend.  We can consider our hypothesis to be validated."
   ]
  },
  {
   "cell_type": "markdown",
   "metadata": {},
   "source": [
    "### Hypothesis 2: There is a Relationship Between Blood Glucose and Time of Day"
   ]
  },
  {
   "cell_type": "markdown",
   "metadata": {},
   "source": [
    "There could be a trend by time of day.  Let's make a column giving the time of day for each record by extracting the hour of the day from the timestamp and then plot it."
   ]
  },
  {
   "cell_type": "code",
   "execution_count": 20,
   "metadata": {},
   "outputs": [
    {
     "data": {
      "text/plain": [
       "0    20\n",
       "1    21\n",
       "2    22\n",
       "3    19\n",
       "4     4\n",
       "Name: Timestamp, dtype: int64"
      ]
     },
     "execution_count": 20,
     "metadata": {},
     "output_type": "execute_result"
    }
   ],
   "source": [
    "hour_of_day = glucose_readings[\"Timestamp\"].map(lambda t: t.hour)\n",
    "hour_of_day.head()"
   ]
  },
  {
   "cell_type": "code",
   "execution_count": 21,
   "metadata": {},
   "outputs": [
    {
     "data": {
      "text/plain": [
       "(0, 350)"
      ]
     },
     "execution_count": 21,
     "metadata": {},
     "output_type": "execute_result"
    },
    {
     "data": {
      "image/png": "[encoded data removed]",
      "text/plain": [
       "<Figure size 432x288 with 1 Axes>"
      ]
     },
     "metadata": {},
     "output_type": "display_data"
    }
   ],
   "source": [
    "glucose_readings[\"Hour of Day\"] = hour_of_day\n",
    "glucose_readings.plot.scatter(x = \"Hour of Day\", y = \"Blood Glucose\")\n",
    "plt.ylim([0, 350])"
   ]
  },
  {
   "cell_type": "markdown",
   "metadata": {},
   "source": [
    "Our scatter plot is difficult to interpret due to how noisy the data is.  Let's try a box plot."
   ]
  },
  {
   "cell_type": "code",
   "execution_count": 22,
   "metadata": {},
   "outputs": [
    {
     "data": {
      "text/plain": [
       "(0, 350)"
      ]
     },
     "execution_count": 22,
     "metadata": {},
     "output_type": "execute_result"
    },
    {
     "data": {
      "image/png": "[encoded data removed]",
      "text/plain": [
       "<Figure size 432x288 with 1 Axes>"
      ]
     },
     "metadata": {},
     "output_type": "display_data"
    }
   ],
   "source": [
    "glucose_readings.boxplot(by = \"Hour of Day\", column = \"Blood Glucose\")\n",
    "plt.ylim([0, 350])"
   ]
  },
  {
   "cell_type": "markdown",
   "metadata": {},
   "source": [
    "From the boxplot, we can conclude that blood glucose varies by time of day.  It tends to be higher in the mornings (6 - 10), lower in the afternoons (11 - 15), and high again in the evenings (21 -).  We see a bumb from 11 to 12, possibly from eating lunch.  Our hypothesis is validated."
   ]
  },
  {
   "cell_type": "markdown",
   "metadata": {},
   "source": [
    "### Hypothesis 3: There is a Relationship Between Blood Glucose and Day of the Week"
   ]
  },
  {
   "cell_type": "markdown",
   "metadata": {},
   "source": [
    "Lastly, we want to evaluate our hypothesis about a relationship between the blood glucose and day of the week.  Like with the time of day, we will create a new column with the day of the week of each record.  We will then using visualizations to explore the relationship between the day of the week and blood glucose readings."
   ]
  },
  {
   "cell_type": "code",
   "execution_count": 23,
   "metadata": {},
   "outputs": [
    {
     "data": {
      "text/plain": [
       "0    5\n",
       "1    5\n",
       "2    5\n",
       "3    6\n",
       "4    0\n",
       "5    0\n",
       "6    0\n",
       "7    1\n",
       "8    2\n",
       "9    2\n",
       "Name: Timestamp, dtype: int64"
      ]
     },
     "execution_count": 23,
     "metadata": {},
     "output_type": "execute_result"
    }
   ],
   "source": [
    "day_of_week = glucose_readings[\"Timestamp\"].map(lambda t: t.weekday())\n",
    "day_of_week.head(10)"
   ]
  },
  {
   "cell_type": "code",
   "execution_count": 24,
   "metadata": {},
   "outputs": [
    {
     "data": {
      "text/plain": [
       "(0, 350)"
      ]
     },
     "execution_count": 24,
     "metadata": {},
     "output_type": "execute_result"
    },
    {
     "data": {
      "image/png": "[encoded data removed]",
      "text/plain": [
       "<Figure size 432x288 with 1 Axes>"
      ]
     },
     "metadata": {},
     "output_type": "display_data"
    }
   ],
   "source": [
    "glucose_readings[\"Day of Week\"] = day_of_week\n",
    "glucose_readings.boxplot(by = \"Day of Week\", column = \"Blood Glucose\")\n",
    "plt.ylim([0, 350])"
   ]
  },
  {
   "cell_type": "markdown",
   "metadata": {},
   "source": [
    "We can conclude that the blood glucose does not vary with the day of the week.  We can reject our hypothesis as false."
   ]
  },
  {
   "cell_type": "markdown",
   "metadata": {},
   "source": [
    "## Analyzing the Effect of Prior Activities"
   ]
  },
  {
   "cell_type": "markdown",
   "metadata": {},
   "source": [
    "We hypothesize that performing exercise prior to taking a glucose reading results in a lower blood glucose level. Let's explore the Prior Activity column and try to validate our hypothesis. Remember from before that Prior Activity is also an object:"
   ]
  },
  {
   "cell_type": "code",
   "execution_count": 25,
   "metadata": {},
   "outputs": [
    {
     "data": {
      "text/plain": [
       "Timestamp            datetime64[ns]\n",
       "Blood Glucose                 int64\n",
       "Prior Activity               object\n",
       "Days Elapsed                float64\n",
       "Linear Regression           float64\n",
       "Hour of Day                   int64\n",
       "Day of Week                   int64\n",
       "dtype: object"
      ]
     },
     "execution_count": 25,
     "metadata": {},
     "output_type": "execute_result"
    }
   ],
   "source": [
    "glucose_readings.dtypes"
   ]
  },
  {
   "cell_type": "markdown",
   "metadata": {},
   "source": [
    "Let's see if we can see a value other than NaN if we look at more rows."
   ]
  },
  {
   "cell_type": "code",
   "execution_count": 26,
   "metadata": {},
   "outputs": [
    {
     "data": {
      "text/html": [
       "<div>\n",
       "<style scoped>\n",
       "    .dataframe tbody tr th:only-of-type {\n",
       "        vertical-align: middle;\n",
       "    }\n",
       "\n",
       "    .dataframe tbody tr th {\n",
       "        vertical-align: top;\n",
       "    }\n",
       "\n",
       "    .dataframe thead th {\n",
       "        text-align: right;\n",
       "    }\n",
       "</style>\n",
       "<table border=\"1\" class=\"dataframe\">\n",
       "  <thead>\n",
       "    <tr style=\"text-align: right;\">\n",
       "      <th></th>\n",
       "      <th>Timestamp</th>\n",
       "      <th>Blood Glucose</th>\n",
       "      <th>Prior Activity</th>\n",
       "      <th>Days Elapsed</th>\n",
       "      <th>Linear Regression</th>\n",
       "      <th>Hour of Day</th>\n",
       "      <th>Day of Week</th>\n",
       "    </tr>\n",
       "  </thead>\n",
       "  <tbody>\n",
       "    <tr>\n",
       "      <th>0</th>\n",
       "      <td>2016-05-07 20:05:00</td>\n",
       "      <td>202</td>\n",
       "      <td>NaN</td>\n",
       "      <td>0.000000</td>\n",
       "      <td>218.907654</td>\n",
       "      <td>20</td>\n",
       "      <td>5</td>\n",
       "    </tr>\n",
       "    <tr>\n",
       "      <th>1</th>\n",
       "      <td>2016-05-07 21:04:00</td>\n",
       "      <td>237</td>\n",
       "      <td>NaN</td>\n",
       "      <td>0.004097</td>\n",
       "      <td>218.900185</td>\n",
       "      <td>21</td>\n",
       "      <td>5</td>\n",
       "    </tr>\n",
       "    <tr>\n",
       "      <th>2</th>\n",
       "      <td>2016-05-07 22:15:00</td>\n",
       "      <td>215</td>\n",
       "      <td>NaN</td>\n",
       "      <td>0.009028</td>\n",
       "      <td>218.891196</td>\n",
       "      <td>22</td>\n",
       "      <td>5</td>\n",
       "    </tr>\n",
       "    <tr>\n",
       "      <th>3</th>\n",
       "      <td>2016-05-08 19:14:00</td>\n",
       "      <td>228</td>\n",
       "      <td>NaN</td>\n",
       "      <td>0.096458</td>\n",
       "      <td>218.731809</td>\n",
       "      <td>19</td>\n",
       "      <td>6</td>\n",
       "    </tr>\n",
       "    <tr>\n",
       "      <th>4</th>\n",
       "      <td>2016-05-09 04:19:00</td>\n",
       "      <td>210</td>\n",
       "      <td>NaN</td>\n",
       "      <td>1.034306</td>\n",
       "      <td>217.022100</td>\n",
       "      <td>4</td>\n",
       "      <td>0</td>\n",
       "    </tr>\n",
       "    <tr>\n",
       "      <th>5</th>\n",
       "      <td>2016-05-09 08:36:00</td>\n",
       "      <td>246</td>\n",
       "      <td>NaN</td>\n",
       "      <td>1.052153</td>\n",
       "      <td>216.989564</td>\n",
       "      <td>8</td>\n",
       "      <td>0</td>\n",
       "    </tr>\n",
       "    <tr>\n",
       "      <th>6</th>\n",
       "      <td>2016-05-09 12:47:00</td>\n",
       "      <td>207</td>\n",
       "      <td>NaN</td>\n",
       "      <td>1.069583</td>\n",
       "      <td>216.957788</td>\n",
       "      <td>12</td>\n",
       "      <td>0</td>\n",
       "    </tr>\n",
       "    <tr>\n",
       "      <th>7</th>\n",
       "      <td>2016-05-10 08:09:00</td>\n",
       "      <td>248</td>\n",
       "      <td>NaN</td>\n",
       "      <td>2.050278</td>\n",
       "      <td>215.169968</td>\n",
       "      <td>8</td>\n",
       "      <td>1</td>\n",
       "    </tr>\n",
       "    <tr>\n",
       "      <th>8</th>\n",
       "      <td>2016-05-11 00:09:00</td>\n",
       "      <td>324</td>\n",
       "      <td>NaN</td>\n",
       "      <td>3.016944</td>\n",
       "      <td>213.407721</td>\n",
       "      <td>0</td>\n",
       "      <td>2</td>\n",
       "    </tr>\n",
       "    <tr>\n",
       "      <th>9</th>\n",
       "      <td>2016-05-11 09:00:00</td>\n",
       "      <td>244</td>\n",
       "      <td>NaN</td>\n",
       "      <td>3.053819</td>\n",
       "      <td>213.340497</td>\n",
       "      <td>9</td>\n",
       "      <td>2</td>\n",
       "    </tr>\n",
       "    <tr>\n",
       "      <th>10</th>\n",
       "      <td>2016-05-12 14:14:00</td>\n",
       "      <td>196</td>\n",
       "      <td>NaN</td>\n",
       "      <td>4.075625</td>\n",
       "      <td>211.477731</td>\n",
       "      <td>14</td>\n",
       "      <td>3</td>\n",
       "    </tr>\n",
       "    <tr>\n",
       "      <th>11</th>\n",
       "      <td>2016-05-12 16:03:00</td>\n",
       "      <td>125</td>\n",
       "      <td>Biking</td>\n",
       "      <td>4.083194</td>\n",
       "      <td>211.463931</td>\n",
       "      <td>16</td>\n",
       "      <td>3</td>\n",
       "    </tr>\n",
       "    <tr>\n",
       "      <th>12</th>\n",
       "      <td>2016-05-13 08:00:00</td>\n",
       "      <td>285</td>\n",
       "      <td>NaN</td>\n",
       "      <td>5.049653</td>\n",
       "      <td>209.702064</td>\n",
       "      <td>8</td>\n",
       "      <td>4</td>\n",
       "    </tr>\n",
       "    <tr>\n",
       "      <th>13</th>\n",
       "      <td>2016-05-13 20:24:00</td>\n",
       "      <td>246</td>\n",
       "      <td>NaN</td>\n",
       "      <td>6.001319</td>\n",
       "      <td>207.967162</td>\n",
       "      <td>20</td>\n",
       "      <td>4</td>\n",
       "    </tr>\n",
       "    <tr>\n",
       "      <th>14</th>\n",
       "      <td>2016-05-14 07:42:00</td>\n",
       "      <td>235</td>\n",
       "      <td>NaN</td>\n",
       "      <td>6.048403</td>\n",
       "      <td>207.881328</td>\n",
       "      <td>7</td>\n",
       "      <td>5</td>\n",
       "    </tr>\n",
       "    <tr>\n",
       "      <th>15</th>\n",
       "      <td>2016-05-14 14:48:00</td>\n",
       "      <td>121</td>\n",
       "      <td>Walking the dogs</td>\n",
       "      <td>6.077986</td>\n",
       "      <td>207.827397</td>\n",
       "      <td>14</td>\n",
       "      <td>5</td>\n",
       "    </tr>\n",
       "    <tr>\n",
       "      <th>16</th>\n",
       "      <td>2016-05-14 18:29:00</td>\n",
       "      <td>181</td>\n",
       "      <td>NaN</td>\n",
       "      <td>6.093333</td>\n",
       "      <td>207.799419</td>\n",
       "      <td>18</td>\n",
       "      <td>5</td>\n",
       "    </tr>\n",
       "    <tr>\n",
       "      <th>17</th>\n",
       "      <td>2016-05-15 07:56:00</td>\n",
       "      <td>290</td>\n",
       "      <td>NaN</td>\n",
       "      <td>7.049375</td>\n",
       "      <td>206.056541</td>\n",
       "      <td>7</td>\n",
       "      <td>6</td>\n",
       "    </tr>\n",
       "    <tr>\n",
       "      <th>18</th>\n",
       "      <td>2016-05-15 10:22:00</td>\n",
       "      <td>222</td>\n",
       "      <td>NaN</td>\n",
       "      <td>7.059514</td>\n",
       "      <td>206.038058</td>\n",
       "      <td>10</td>\n",
       "      <td>6</td>\n",
       "    </tr>\n",
       "    <tr>\n",
       "      <th>19</th>\n",
       "      <td>2016-05-15 16:46:00</td>\n",
       "      <td>112</td>\n",
       "      <td>Biking</td>\n",
       "      <td>7.086181</td>\n",
       "      <td>205.989444</td>\n",
       "      <td>16</td>\n",
       "      <td>6</td>\n",
       "    </tr>\n",
       "  </tbody>\n",
       "</table>\n",
       "</div>"
      ],
      "text/plain": [
       "             Timestamp  Blood Glucose    Prior Activity  Days Elapsed  \\\n",
       "0  2016-05-07 20:05:00            202               NaN      0.000000   \n",
       "1  2016-05-07 21:04:00            237               NaN      0.004097   \n",
       "2  2016-05-07 22:15:00            215               NaN      0.009028   \n",
       "3  2016-05-08 19:14:00            228               NaN      0.096458   \n",
       "4  2016-05-09 04:19:00            210               NaN      1.034306   \n",
       "5  2016-05-09 08:36:00            246               NaN      1.052153   \n",
       "6  2016-05-09 12:47:00            207               NaN      1.069583   \n",
       "7  2016-05-10 08:09:00            248               NaN      2.050278   \n",
       "8  2016-05-11 00:09:00            324               NaN      3.016944   \n",
       "9  2016-05-11 09:00:00            244               NaN      3.053819   \n",
       "10 2016-05-12 14:14:00            196               NaN      4.075625   \n",
       "11 2016-05-12 16:03:00            125            Biking      4.083194   \n",
       "12 2016-05-13 08:00:00            285               NaN      5.049653   \n",
       "13 2016-05-13 20:24:00            246               NaN      6.001319   \n",
       "14 2016-05-14 07:42:00            235               NaN      6.048403   \n",
       "15 2016-05-14 14:48:00            121  Walking the dogs      6.077986   \n",
       "16 2016-05-14 18:29:00            181               NaN      6.093333   \n",
       "17 2016-05-15 07:56:00            290               NaN      7.049375   \n",
       "18 2016-05-15 10:22:00            222               NaN      7.059514   \n",
       "19 2016-05-15 16:46:00            112            Biking      7.086181   \n",
       "\n",
       "    Linear Regression  Hour of Day  Day of Week  \n",
       "0          218.907654           20            5  \n",
       "1          218.900185           21            5  \n",
       "2          218.891196           22            5  \n",
       "3          218.731809           19            6  \n",
       "4          217.022100            4            0  \n",
       "5          216.989564            8            0  \n",
       "6          216.957788           12            0  \n",
       "7          215.169968            8            1  \n",
       "8          213.407721            0            2  \n",
       "9          213.340497            9            2  \n",
       "10         211.477731           14            3  \n",
       "11         211.463931           16            3  \n",
       "12         209.702064            8            4  \n",
       "13         207.967162           20            4  \n",
       "14         207.881328            7            5  \n",
       "15         207.827397           14            5  \n",
       "16         207.799419           18            5  \n",
       "17         206.056541            7            6  \n",
       "18         206.038058           10            6  \n",
       "19         205.989444           16            6  "
      ]
     },
     "execution_count": 26,
     "metadata": {},
     "output_type": "execute_result"
    }
   ],
   "source": [
    "glucose_readings.head(20)"
   ]
  },
  {
   "cell_type": "markdown",
   "metadata": {},
   "source": [
    "Let's replace the NaNs with a dummy value.  Let's assume that NaN means that there was no prior activity."
   ]
  },
  {
   "cell_type": "code",
   "execution_count": 27,
   "metadata": {},
   "outputs": [
    {
     "data": {
      "text/plain": [
       "0          No Activity\n",
       "1          No Activity\n",
       "2          No Activity\n",
       "3          No Activity\n",
       "4          No Activity\n",
       "5          No Activity\n",
       "6          No Activity\n",
       "7          No Activity\n",
       "8          No Activity\n",
       "9          No Activity\n",
       "10         No Activity\n",
       "11              Biking\n",
       "12         No Activity\n",
       "13         No Activity\n",
       "14         No Activity\n",
       "15    Walking the dogs\n",
       "16         No Activity\n",
       "17         No Activity\n",
       "18         No Activity\n",
       "19              Biking\n",
       "Name: Prior Activity, dtype: object"
      ]
     },
     "execution_count": 27,
     "metadata": {},
     "output_type": "execute_result"
    }
   ],
   "source": [
    "filled = glucose_readings[\"Prior Activity\"].fillna(\"No Activity\")\n",
    "filled.head(20)"
   ]
  },
  {
   "cell_type": "markdown",
   "metadata": {},
   "source": [
    "We were successful, so let's update the DataFrame."
   ]
  },
  {
   "cell_type": "code",
   "execution_count": 28,
   "metadata": {},
   "outputs": [
    {
     "data": {
      "text/html": [
       "<div>\n",
       "<style scoped>\n",
       "    .dataframe tbody tr th:only-of-type {\n",
       "        vertical-align: middle;\n",
       "    }\n",
       "\n",
       "    .dataframe tbody tr th {\n",
       "        vertical-align: top;\n",
       "    }\n",
       "\n",
       "    .dataframe thead th {\n",
       "        text-align: right;\n",
       "    }\n",
       "</style>\n",
       "<table border=\"1\" class=\"dataframe\">\n",
       "  <thead>\n",
       "    <tr style=\"text-align: right;\">\n",
       "      <th></th>\n",
       "      <th>Timestamp</th>\n",
       "      <th>Blood Glucose</th>\n",
       "      <th>Prior Activity</th>\n",
       "      <th>Days Elapsed</th>\n",
       "      <th>Linear Regression</th>\n",
       "      <th>Hour of Day</th>\n",
       "      <th>Day of Week</th>\n",
       "    </tr>\n",
       "  </thead>\n",
       "  <tbody>\n",
       "    <tr>\n",
       "      <th>0</th>\n",
       "      <td>2016-05-07 20:05:00</td>\n",
       "      <td>202</td>\n",
       "      <td>No Activity</td>\n",
       "      <td>0.000000</td>\n",
       "      <td>218.907654</td>\n",
       "      <td>20</td>\n",
       "      <td>5</td>\n",
       "    </tr>\n",
       "    <tr>\n",
       "      <th>1</th>\n",
       "      <td>2016-05-07 21:04:00</td>\n",
       "      <td>237</td>\n",
       "      <td>No Activity</td>\n",
       "      <td>0.004097</td>\n",
       "      <td>218.900185</td>\n",
       "      <td>21</td>\n",
       "      <td>5</td>\n",
       "    </tr>\n",
       "    <tr>\n",
       "      <th>2</th>\n",
       "      <td>2016-05-07 22:15:00</td>\n",
       "      <td>215</td>\n",
       "      <td>No Activity</td>\n",
       "      <td>0.009028</td>\n",
       "      <td>218.891196</td>\n",
       "      <td>22</td>\n",
       "      <td>5</td>\n",
       "    </tr>\n",
       "    <tr>\n",
       "      <th>3</th>\n",
       "      <td>2016-05-08 19:14:00</td>\n",
       "      <td>228</td>\n",
       "      <td>No Activity</td>\n",
       "      <td>0.096458</td>\n",
       "      <td>218.731809</td>\n",
       "      <td>19</td>\n",
       "      <td>6</td>\n",
       "    </tr>\n",
       "    <tr>\n",
       "      <th>4</th>\n",
       "      <td>2016-05-09 04:19:00</td>\n",
       "      <td>210</td>\n",
       "      <td>No Activity</td>\n",
       "      <td>1.034306</td>\n",
       "      <td>217.022100</td>\n",
       "      <td>4</td>\n",
       "      <td>0</td>\n",
       "    </tr>\n",
       "    <tr>\n",
       "      <th>5</th>\n",
       "      <td>2016-05-09 08:36:00</td>\n",
       "      <td>246</td>\n",
       "      <td>No Activity</td>\n",
       "      <td>1.052153</td>\n",
       "      <td>216.989564</td>\n",
       "      <td>8</td>\n",
       "      <td>0</td>\n",
       "    </tr>\n",
       "    <tr>\n",
       "      <th>6</th>\n",
       "      <td>2016-05-09 12:47:00</td>\n",
       "      <td>207</td>\n",
       "      <td>No Activity</td>\n",
       "      <td>1.069583</td>\n",
       "      <td>216.957788</td>\n",
       "      <td>12</td>\n",
       "      <td>0</td>\n",
       "    </tr>\n",
       "    <tr>\n",
       "      <th>7</th>\n",
       "      <td>2016-05-10 08:09:00</td>\n",
       "      <td>248</td>\n",
       "      <td>No Activity</td>\n",
       "      <td>2.050278</td>\n",
       "      <td>215.169968</td>\n",
       "      <td>8</td>\n",
       "      <td>1</td>\n",
       "    </tr>\n",
       "    <tr>\n",
       "      <th>8</th>\n",
       "      <td>2016-05-11 00:09:00</td>\n",
       "      <td>324</td>\n",
       "      <td>No Activity</td>\n",
       "      <td>3.016944</td>\n",
       "      <td>213.407721</td>\n",
       "      <td>0</td>\n",
       "      <td>2</td>\n",
       "    </tr>\n",
       "    <tr>\n",
       "      <th>9</th>\n",
       "      <td>2016-05-11 09:00:00</td>\n",
       "      <td>244</td>\n",
       "      <td>No Activity</td>\n",
       "      <td>3.053819</td>\n",
       "      <td>213.340497</td>\n",
       "      <td>9</td>\n",
       "      <td>2</td>\n",
       "    </tr>\n",
       "    <tr>\n",
       "      <th>10</th>\n",
       "      <td>2016-05-12 14:14:00</td>\n",
       "      <td>196</td>\n",
       "      <td>No Activity</td>\n",
       "      <td>4.075625</td>\n",
       "      <td>211.477731</td>\n",
       "      <td>14</td>\n",
       "      <td>3</td>\n",
       "    </tr>\n",
       "    <tr>\n",
       "      <th>11</th>\n",
       "      <td>2016-05-12 16:03:00</td>\n",
       "      <td>125</td>\n",
       "      <td>Biking</td>\n",
       "      <td>4.083194</td>\n",
       "      <td>211.463931</td>\n",
       "      <td>16</td>\n",
       "      <td>3</td>\n",
       "    </tr>\n",
       "    <tr>\n",
       "      <th>12</th>\n",
       "      <td>2016-05-13 08:00:00</td>\n",
       "      <td>285</td>\n",
       "      <td>No Activity</td>\n",
       "      <td>5.049653</td>\n",
       "      <td>209.702064</td>\n",
       "      <td>8</td>\n",
       "      <td>4</td>\n",
       "    </tr>\n",
       "    <tr>\n",
       "      <th>13</th>\n",
       "      <td>2016-05-13 20:24:00</td>\n",
       "      <td>246</td>\n",
       "      <td>No Activity</td>\n",
       "      <td>6.001319</td>\n",
       "      <td>207.967162</td>\n",
       "      <td>20</td>\n",
       "      <td>4</td>\n",
       "    </tr>\n",
       "    <tr>\n",
       "      <th>14</th>\n",
       "      <td>2016-05-14 07:42:00</td>\n",
       "      <td>235</td>\n",
       "      <td>No Activity</td>\n",
       "      <td>6.048403</td>\n",
       "      <td>207.881328</td>\n",
       "      <td>7</td>\n",
       "      <td>5</td>\n",
       "    </tr>\n",
       "    <tr>\n",
       "      <th>15</th>\n",
       "      <td>2016-05-14 14:48:00</td>\n",
       "      <td>121</td>\n",
       "      <td>Walking the dogs</td>\n",
       "      <td>6.077986</td>\n",
       "      <td>207.827397</td>\n",
       "      <td>14</td>\n",
       "      <td>5</td>\n",
       "    </tr>\n",
       "    <tr>\n",
       "      <th>16</th>\n",
       "      <td>2016-05-14 18:29:00</td>\n",
       "      <td>181</td>\n",
       "      <td>No Activity</td>\n",
       "      <td>6.093333</td>\n",
       "      <td>207.799419</td>\n",
       "      <td>18</td>\n",
       "      <td>5</td>\n",
       "    </tr>\n",
       "    <tr>\n",
       "      <th>17</th>\n",
       "      <td>2016-05-15 07:56:00</td>\n",
       "      <td>290</td>\n",
       "      <td>No Activity</td>\n",
       "      <td>7.049375</td>\n",
       "      <td>206.056541</td>\n",
       "      <td>7</td>\n",
       "      <td>6</td>\n",
       "    </tr>\n",
       "    <tr>\n",
       "      <th>18</th>\n",
       "      <td>2016-05-15 10:22:00</td>\n",
       "      <td>222</td>\n",
       "      <td>No Activity</td>\n",
       "      <td>7.059514</td>\n",
       "      <td>206.038058</td>\n",
       "      <td>10</td>\n",
       "      <td>6</td>\n",
       "    </tr>\n",
       "    <tr>\n",
       "      <th>19</th>\n",
       "      <td>2016-05-15 16:46:00</td>\n",
       "      <td>112</td>\n",
       "      <td>Biking</td>\n",
       "      <td>7.086181</td>\n",
       "      <td>205.989444</td>\n",
       "      <td>16</td>\n",
       "      <td>6</td>\n",
       "    </tr>\n",
       "  </tbody>\n",
       "</table>\n",
       "</div>"
      ],
      "text/plain": [
       "             Timestamp  Blood Glucose    Prior Activity  Days Elapsed  \\\n",
       "0  2016-05-07 20:05:00            202       No Activity      0.000000   \n",
       "1  2016-05-07 21:04:00            237       No Activity      0.004097   \n",
       "2  2016-05-07 22:15:00            215       No Activity      0.009028   \n",
       "3  2016-05-08 19:14:00            228       No Activity      0.096458   \n",
       "4  2016-05-09 04:19:00            210       No Activity      1.034306   \n",
       "5  2016-05-09 08:36:00            246       No Activity      1.052153   \n",
       "6  2016-05-09 12:47:00            207       No Activity      1.069583   \n",
       "7  2016-05-10 08:09:00            248       No Activity      2.050278   \n",
       "8  2016-05-11 00:09:00            324       No Activity      3.016944   \n",
       "9  2016-05-11 09:00:00            244       No Activity      3.053819   \n",
       "10 2016-05-12 14:14:00            196       No Activity      4.075625   \n",
       "11 2016-05-12 16:03:00            125            Biking      4.083194   \n",
       "12 2016-05-13 08:00:00            285       No Activity      5.049653   \n",
       "13 2016-05-13 20:24:00            246       No Activity      6.001319   \n",
       "14 2016-05-14 07:42:00            235       No Activity      6.048403   \n",
       "15 2016-05-14 14:48:00            121  Walking the dogs      6.077986   \n",
       "16 2016-05-14 18:29:00            181       No Activity      6.093333   \n",
       "17 2016-05-15 07:56:00            290       No Activity      7.049375   \n",
       "18 2016-05-15 10:22:00            222       No Activity      7.059514   \n",
       "19 2016-05-15 16:46:00            112            Biking      7.086181   \n",
       "\n",
       "    Linear Regression  Hour of Day  Day of Week  \n",
       "0          218.907654           20            5  \n",
       "1          218.900185           21            5  \n",
       "2          218.891196           22            5  \n",
       "3          218.731809           19            6  \n",
       "4          217.022100            4            0  \n",
       "5          216.989564            8            0  \n",
       "6          216.957788           12            0  \n",
       "7          215.169968            8            1  \n",
       "8          213.407721            0            2  \n",
       "9          213.340497            9            2  \n",
       "10         211.477731           14            3  \n",
       "11         211.463931           16            3  \n",
       "12         209.702064            8            4  \n",
       "13         207.967162           20            4  \n",
       "14         207.881328            7            5  \n",
       "15         207.827397           14            5  \n",
       "16         207.799419           18            5  \n",
       "17         206.056541            7            6  \n",
       "18         206.038058           10            6  \n",
       "19         205.989444           16            6  "
      ]
     },
     "execution_count": 28,
     "metadata": {},
     "output_type": "execute_result"
    }
   ],
   "source": [
    "glucose_readings[\"Prior Activity\"] = filled\n",
    "glucose_readings.head(20)"
   ]
  },
  {
   "cell_type": "markdown",
   "metadata": {},
   "source": [
    "It appears that Prior Activity should be a Categorical variable type.  Let's verify by counting the number of unique elements."
   ]
  },
  {
   "cell_type": "code",
   "execution_count": 29,
   "metadata": {},
   "outputs": [
    {
     "data": {
      "text/plain": [
       "6"
      ]
     },
     "execution_count": 29,
     "metadata": {},
     "output_type": "execute_result"
    }
   ],
   "source": [
    "glucose_readings[\"Prior Activity\"].nunique()"
   ]
  },
  {
   "cell_type": "markdown",
   "metadata": {},
   "source": [
    "It does seem like we have a categorical value.  Let's try converting it."
   ]
  },
  {
   "cell_type": "code",
   "execution_count": 30,
   "metadata": {},
   "outputs": [
    {
     "data": {
      "text/plain": [
       "0    No Activity\n",
       "1    No Activity\n",
       "2    No Activity\n",
       "3    No Activity\n",
       "4    No Activity\n",
       "Name: Prior Activity, dtype: category\n",
       "Categories (6, object): [Biking, Kayaking, Mow the lawn, No Activity, Walking, Walking the dogs]"
      ]
     },
     "execution_count": 30,
     "metadata": {},
     "output_type": "execute_result"
    }
   ],
   "source": [
    "glucose_readings[\"Prior Activity\"].astype(\"category\").head()"
   ]
  },
  {
   "cell_type": "markdown",
   "metadata": {},
   "source": [
    "Our conversion appears to be successful.  Pandas reports that it is a category with 6 values.  Let's update our DataFrame."
   ]
  },
  {
   "cell_type": "code",
   "execution_count": 31,
   "metadata": {},
   "outputs": [
    {
     "data": {
      "text/html": [
       "<div>\n",
       "<style scoped>\n",
       "    .dataframe tbody tr th:only-of-type {\n",
       "        vertical-align: middle;\n",
       "    }\n",
       "\n",
       "    .dataframe tbody tr th {\n",
       "        vertical-align: top;\n",
       "    }\n",
       "\n",
       "    .dataframe thead th {\n",
       "        text-align: right;\n",
       "    }\n",
       "</style>\n",
       "<table border=\"1\" class=\"dataframe\">\n",
       "  <thead>\n",
       "    <tr style=\"text-align: right;\">\n",
       "      <th></th>\n",
       "      <th>Timestamp</th>\n",
       "      <th>Blood Glucose</th>\n",
       "      <th>Prior Activity</th>\n",
       "      <th>Days Elapsed</th>\n",
       "      <th>Linear Regression</th>\n",
       "      <th>Hour of Day</th>\n",
       "      <th>Day of Week</th>\n",
       "    </tr>\n",
       "  </thead>\n",
       "  <tbody>\n",
       "    <tr>\n",
       "      <th>0</th>\n",
       "      <td>2016-05-07 20:05:00</td>\n",
       "      <td>202</td>\n",
       "      <td>No Activity</td>\n",
       "      <td>0.000000</td>\n",
       "      <td>218.907654</td>\n",
       "      <td>20</td>\n",
       "      <td>5</td>\n",
       "    </tr>\n",
       "    <tr>\n",
       "      <th>1</th>\n",
       "      <td>2016-05-07 21:04:00</td>\n",
       "      <td>237</td>\n",
       "      <td>No Activity</td>\n",
       "      <td>0.004097</td>\n",
       "      <td>218.900185</td>\n",
       "      <td>21</td>\n",
       "      <td>5</td>\n",
       "    </tr>\n",
       "    <tr>\n",
       "      <th>2</th>\n",
       "      <td>2016-05-07 22:15:00</td>\n",
       "      <td>215</td>\n",
       "      <td>No Activity</td>\n",
       "      <td>0.009028</td>\n",
       "      <td>218.891196</td>\n",
       "      <td>22</td>\n",
       "      <td>5</td>\n",
       "    </tr>\n",
       "    <tr>\n",
       "      <th>3</th>\n",
       "      <td>2016-05-08 19:14:00</td>\n",
       "      <td>228</td>\n",
       "      <td>No Activity</td>\n",
       "      <td>0.096458</td>\n",
       "      <td>218.731809</td>\n",
       "      <td>19</td>\n",
       "      <td>6</td>\n",
       "    </tr>\n",
       "    <tr>\n",
       "      <th>4</th>\n",
       "      <td>2016-05-09 04:19:00</td>\n",
       "      <td>210</td>\n",
       "      <td>No Activity</td>\n",
       "      <td>1.034306</td>\n",
       "      <td>217.022100</td>\n",
       "      <td>4</td>\n",
       "      <td>0</td>\n",
       "    </tr>\n",
       "    <tr>\n",
       "      <th>5</th>\n",
       "      <td>2016-05-09 08:36:00</td>\n",
       "      <td>246</td>\n",
       "      <td>No Activity</td>\n",
       "      <td>1.052153</td>\n",
       "      <td>216.989564</td>\n",
       "      <td>8</td>\n",
       "      <td>0</td>\n",
       "    </tr>\n",
       "    <tr>\n",
       "      <th>6</th>\n",
       "      <td>2016-05-09 12:47:00</td>\n",
       "      <td>207</td>\n",
       "      <td>No Activity</td>\n",
       "      <td>1.069583</td>\n",
       "      <td>216.957788</td>\n",
       "      <td>12</td>\n",
       "      <td>0</td>\n",
       "    </tr>\n",
       "    <tr>\n",
       "      <th>7</th>\n",
       "      <td>2016-05-10 08:09:00</td>\n",
       "      <td>248</td>\n",
       "      <td>No Activity</td>\n",
       "      <td>2.050278</td>\n",
       "      <td>215.169968</td>\n",
       "      <td>8</td>\n",
       "      <td>1</td>\n",
       "    </tr>\n",
       "    <tr>\n",
       "      <th>8</th>\n",
       "      <td>2016-05-11 00:09:00</td>\n",
       "      <td>324</td>\n",
       "      <td>No Activity</td>\n",
       "      <td>3.016944</td>\n",
       "      <td>213.407721</td>\n",
       "      <td>0</td>\n",
       "      <td>2</td>\n",
       "    </tr>\n",
       "    <tr>\n",
       "      <th>9</th>\n",
       "      <td>2016-05-11 09:00:00</td>\n",
       "      <td>244</td>\n",
       "      <td>No Activity</td>\n",
       "      <td>3.053819</td>\n",
       "      <td>213.340497</td>\n",
       "      <td>9</td>\n",
       "      <td>2</td>\n",
       "    </tr>\n",
       "    <tr>\n",
       "      <th>10</th>\n",
       "      <td>2016-05-12 14:14:00</td>\n",
       "      <td>196</td>\n",
       "      <td>No Activity</td>\n",
       "      <td>4.075625</td>\n",
       "      <td>211.477731</td>\n",
       "      <td>14</td>\n",
       "      <td>3</td>\n",
       "    </tr>\n",
       "    <tr>\n",
       "      <th>11</th>\n",
       "      <td>2016-05-12 16:03:00</td>\n",
       "      <td>125</td>\n",
       "      <td>Biking</td>\n",
       "      <td>4.083194</td>\n",
       "      <td>211.463931</td>\n",
       "      <td>16</td>\n",
       "      <td>3</td>\n",
       "    </tr>\n",
       "    <tr>\n",
       "      <th>12</th>\n",
       "      <td>2016-05-13 08:00:00</td>\n",
       "      <td>285</td>\n",
       "      <td>No Activity</td>\n",
       "      <td>5.049653</td>\n",
       "      <td>209.702064</td>\n",
       "      <td>8</td>\n",
       "      <td>4</td>\n",
       "    </tr>\n",
       "    <tr>\n",
       "      <th>13</th>\n",
       "      <td>2016-05-13 20:24:00</td>\n",
       "      <td>246</td>\n",
       "      <td>No Activity</td>\n",
       "      <td>6.001319</td>\n",
       "      <td>207.967162</td>\n",
       "      <td>20</td>\n",
       "      <td>4</td>\n",
       "    </tr>\n",
       "    <tr>\n",
       "      <th>14</th>\n",
       "      <td>2016-05-14 07:42:00</td>\n",
       "      <td>235</td>\n",
       "      <td>No Activity</td>\n",
       "      <td>6.048403</td>\n",
       "      <td>207.881328</td>\n",
       "      <td>7</td>\n",
       "      <td>5</td>\n",
       "    </tr>\n",
       "    <tr>\n",
       "      <th>15</th>\n",
       "      <td>2016-05-14 14:48:00</td>\n",
       "      <td>121</td>\n",
       "      <td>Walking the dogs</td>\n",
       "      <td>6.077986</td>\n",
       "      <td>207.827397</td>\n",
       "      <td>14</td>\n",
       "      <td>5</td>\n",
       "    </tr>\n",
       "    <tr>\n",
       "      <th>16</th>\n",
       "      <td>2016-05-14 18:29:00</td>\n",
       "      <td>181</td>\n",
       "      <td>No Activity</td>\n",
       "      <td>6.093333</td>\n",
       "      <td>207.799419</td>\n",
       "      <td>18</td>\n",
       "      <td>5</td>\n",
       "    </tr>\n",
       "    <tr>\n",
       "      <th>17</th>\n",
       "      <td>2016-05-15 07:56:00</td>\n",
       "      <td>290</td>\n",
       "      <td>No Activity</td>\n",
       "      <td>7.049375</td>\n",
       "      <td>206.056541</td>\n",
       "      <td>7</td>\n",
       "      <td>6</td>\n",
       "    </tr>\n",
       "    <tr>\n",
       "      <th>18</th>\n",
       "      <td>2016-05-15 10:22:00</td>\n",
       "      <td>222</td>\n",
       "      <td>No Activity</td>\n",
       "      <td>7.059514</td>\n",
       "      <td>206.038058</td>\n",
       "      <td>10</td>\n",
       "      <td>6</td>\n",
       "    </tr>\n",
       "    <tr>\n",
       "      <th>19</th>\n",
       "      <td>2016-05-15 16:46:00</td>\n",
       "      <td>112</td>\n",
       "      <td>Biking</td>\n",
       "      <td>7.086181</td>\n",
       "      <td>205.989444</td>\n",
       "      <td>16</td>\n",
       "      <td>6</td>\n",
       "    </tr>\n",
       "  </tbody>\n",
       "</table>\n",
       "</div>"
      ],
      "text/plain": [
       "             Timestamp  Blood Glucose    Prior Activity  Days Elapsed  \\\n",
       "0  2016-05-07 20:05:00            202       No Activity      0.000000   \n",
       "1  2016-05-07 21:04:00            237       No Activity      0.004097   \n",
       "2  2016-05-07 22:15:00            215       No Activity      0.009028   \n",
       "3  2016-05-08 19:14:00            228       No Activity      0.096458   \n",
       "4  2016-05-09 04:19:00            210       No Activity      1.034306   \n",
       "5  2016-05-09 08:36:00            246       No Activity      1.052153   \n",
       "6  2016-05-09 12:47:00            207       No Activity      1.069583   \n",
       "7  2016-05-10 08:09:00            248       No Activity      2.050278   \n",
       "8  2016-05-11 00:09:00            324       No Activity      3.016944   \n",
       "9  2016-05-11 09:00:00            244       No Activity      3.053819   \n",
       "10 2016-05-12 14:14:00            196       No Activity      4.075625   \n",
       "11 2016-05-12 16:03:00            125            Biking      4.083194   \n",
       "12 2016-05-13 08:00:00            285       No Activity      5.049653   \n",
       "13 2016-05-13 20:24:00            246       No Activity      6.001319   \n",
       "14 2016-05-14 07:42:00            235       No Activity      6.048403   \n",
       "15 2016-05-14 14:48:00            121  Walking the dogs      6.077986   \n",
       "16 2016-05-14 18:29:00            181       No Activity      6.093333   \n",
       "17 2016-05-15 07:56:00            290       No Activity      7.049375   \n",
       "18 2016-05-15 10:22:00            222       No Activity      7.059514   \n",
       "19 2016-05-15 16:46:00            112            Biking      7.086181   \n",
       "\n",
       "    Linear Regression  Hour of Day  Day of Week  \n",
       "0          218.907654           20            5  \n",
       "1          218.900185           21            5  \n",
       "2          218.891196           22            5  \n",
       "3          218.731809           19            6  \n",
       "4          217.022100            4            0  \n",
       "5          216.989564            8            0  \n",
       "6          216.957788           12            0  \n",
       "7          215.169968            8            1  \n",
       "8          213.407721            0            2  \n",
       "9          213.340497            9            2  \n",
       "10         211.477731           14            3  \n",
       "11         211.463931           16            3  \n",
       "12         209.702064            8            4  \n",
       "13         207.967162           20            4  \n",
       "14         207.881328            7            5  \n",
       "15         207.827397           14            5  \n",
       "16         207.799419           18            5  \n",
       "17         206.056541            7            6  \n",
       "18         206.038058           10            6  \n",
       "19         205.989444           16            6  "
      ]
     },
     "execution_count": 31,
     "metadata": {},
     "output_type": "execute_result"
    }
   ],
   "source": [
    "converted = glucose_readings[\"Prior Activity\"].astype(\"category\")\n",
    "glucose_readings[\"Prior Activity\"] = converted\n",
    "glucose_readings.head(20)"
   ]
  },
  {
   "cell_type": "markdown",
   "metadata": {},
   "source": [
    "Lastly, let's use a boxplot to look at the distribution of blood glucose readings associated with each activity."
   ]
  },
  {
   "cell_type": "code",
   "execution_count": 32,
   "metadata": {},
   "outputs": [
    {
     "data": {
      "text/plain": [
       "(0, 350)"
      ]
     },
     "execution_count": 32,
     "metadata": {},
     "output_type": "execute_result"
    },
    {
     "data": {
      "image/png": "[encoded data removed]",
      "text/plain": [
       "<Figure size 432x288 with 1 Axes>"
      ]
     },
     "metadata": {},
     "output_type": "display_data"
    }
   ],
   "source": [
    "glucose_readings.boxplot(by = \"Prior Activity\", column = \"Blood Glucose\")\n",
    "plt.ylim([0, 350])"
   ]
  },
  {
   "cell_type": "markdown",
   "metadata": {},
   "source": [
    "The distributions associated with each prior activity vary quite a bit.  Blood glucose readings taken without a priory activity appear to be higher versus when we perform an activity.  Kayaking seems to result in the lowest blood guclose level, while biking is the second lowest."
   ]
  },
  {
   "cell_type": "code",
   "execution_count": null,
   "metadata": {},
   "outputs": [],
   "source": []
  }
 ],
 "metadata": {
  "kernelspec": {
   "display_name": "Python 3",
   "language": "python",
   "name": "python3"
  },
  "language_info": {
   "codemirror_mode": {
    "name": "ipython",
    "version": 3
   },
   "file_extension": ".py",
   "mimetype": "text/x-python",
   "name": "python",
   "nbconvert_exporter": "python",
   "pygments_lexer": "ipython3",
   "version": "3.6.5"
  }
 },
 "nbformat": 4,
 "nbformat_minor": 2
}
