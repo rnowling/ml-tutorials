{
 "cells": [
  {
   "cell_type": "markdown",
   "metadata": {},
   "source": [
    "# Analysis of Historical Texts\n",
    "\n",
    "In this tutorial, we'll explore principal component analysis (PCA), a dimensionality reduction technique.  We'll apply PCA to a body of historical texts in philosophy, history, and literature from the ancient Greeks and Romans and a few more modern writers."
   ]
  },
  {
   "cell_type": "code",
   "execution_count": 1,
   "metadata": {},
   "outputs": [],
   "source": [
    "%matplotlib inline\n",
    "%load_ext autoreload\n",
    "%autoreload 2\n",
    "\n",
    "import codecs\n",
    "from collections import defaultdict\n",
    "import glob\n",
    "import os\n",
    "\n",
    "import numpy as np\n",
    "import matplotlib.pyplot as plt\n",
    "import seaborn as sns\n",
    "\n",
    "from sklearn.feature_extraction.text import CountVectorizer\n",
    "from sklearn.feature_extraction.text import TfidfTransformer\n",
    "from sklearn.feature_extraction.text import TfidfVectorizer\n",
    "from sklearn.decomposition import TruncatedSVD\n",
    "from sklearn.preprocessing import LabelEncoder\n",
    "from sklearn.preprocessing import StandardScaler\n",
    "from sklearn.linear_model import SGDClassifier\n",
    "from sklearn.metrics import accuracy_score\n",
    "from sklearn.metrics import confusion_matrix\n",
    "from sklearn.model_selection import train_test_split"
   ]
  },
  {
   "cell_type": "markdown",
   "metadata": {},
   "source": [
    "## Reading Documents\n",
    "\n",
    "I had downloaded the documents from [Project Gutenberg](https://www.gutenberg.org/) as text files and stored them in a local directory.  We need to read each file and convert it to a single string per document."
   ]
  },
  {
   "cell_type": "code",
   "execution_count": 2,
   "metadata": {},
   "outputs": [],
   "source": [
    "def read_text(flname):\n",
    "    with codecs.open(flname, \"r\", \"utf_8\",) as fl:\n",
    "        lines = [ln.strip() for ln in fl]\n",
    "        text = \" \".join(lines)\n",
    "    return text"
   ]
  },
  {
   "cell_type": "code",
   "execution_count": 3,
   "metadata": {},
   "outputs": [],
   "source": [
    "raw_texts = dict()\n",
    "for flname in glob.glob(\"text_data/*.txt\"):\n",
    "    text = read_text(flname)\n",
    "    name = os.path.basename(flname)\n",
    "    raw_texts[name] = text"
   ]
  },
  {
   "cell_type": "code",
   "execution_count": 4,
   "metadata": {},
   "outputs": [
    {
     "name": "stdout",
     "output_type": "stream",
     "text": [
      "adam_smith_wealth_of_nations.txt\n",
      "aeschylus_oresteia.txt\n",
      "aeschylus_prometheus_bound.txt\n",
      "aquinas_summa_theologica_parts_i_ii.txt\n",
      "aquinas_summa_theologica_parts_iii.txt\n",
      "aristophanes_birds.txt\n",
      "aristophanes_clouds.txt\n",
      "aristophanes_frogs.txt\n",
      "aristophanes_lystrata.txt\n",
      "aristotle_ethics.txt\n",
      "augustine_city_of_god_i.txt\n",
      "augustine_city_of_god_ii.txt\n",
      "augustine_confessions.txt\n",
      "david_hume_enquiry_concerning_human_understanding.txt\n",
      "descarte_discourse.txt\n",
      "euripedes_bacchae.txt\n",
      "euripedes_electra.txt\n",
      "euripedes_medea.txt\n",
      "euripedes_trojan_women.txt\n",
      "gibbon_decline_and_fall_i.txt\n",
      "gibbon_decline_and_fall_ii.txt\n",
      "gibbon_decline_and_fall_iii.txt\n",
      "gibbon_decline_and_fall_iv.txt\n",
      "gibbon_decline_and_fall_v.txt\n",
      "gibbon_decline_and_fall_vi.txt\n",
      "hegel_philosophy.txt\n",
      "herodotus_history_i.txt\n",
      "herodotus_history_ii.txt\n",
      "hobbes_leviathan.txt\n",
      "homer_iliad.txt\n",
      "homer_odyssey.txt\n",
      "kant_critique_practical_reason.txt\n",
      "kant_critique_pure_reason.txt\n",
      "livy_history_book_1.txt\n",
      "livy_history_book_27.txt\n",
      "livy_history_book_37.txt\n",
      "livy_history_book_9.txt\n",
      "locke_humane_understanding_i.txt\n",
      "locke_humane_understanding_ii.txt\n",
      "marx_communist.txt\n",
      "plato_apology.txt\n",
      "plato_crito.txt\n",
      "plato_meno.txt\n",
      "plato_republic.txt\n",
      "plato_symposium.txt\n",
      "sophocles_oedipus_trilogy.txt\n",
      "spinoza_ethics.txt\n",
      "tacitus_histories.txt\n",
      "thucydides_peloponnesian_war.txt\n",
      "virgil_aeneid.txt\n",
      "xenophon_anabasis.txt\n",
      "xenophon_hellenica.txt\n"
     ]
    }
   ],
   "source": [
    "for flname in sorted(raw_texts.keys()):\n",
    "    print(flname)"
   ]
  },
  {
   "cell_type": "markdown",
   "metadata": {},
   "source": [
    "I've manually characterized the works and used those characterizations to create labels."
   ]
  },
  {
   "cell_type": "code",
   "execution_count": 5,
   "metadata": {},
   "outputs": [],
   "source": [
    "colors = []\n",
    "labels = []\n",
    "categories = defaultdict(list)\n",
    "for k in raw_texts.keys():\n",
    "    if \"sophocles\" in k or \"aeschylus\" in k or \"euripedes\" in k:\n",
    "        colors.append(\"m.\")\n",
    "        labels.append(\"Greek Tragedy\")\n",
    "        categories[\"Greek Tragedy\"].append(k)\n",
    "    elif \"plato\" in k or \"aristotle\" in k:\n",
    "        colors.append(\"g.\")\n",
    "        labels.append(\"Greek Philosophy\")\n",
    "        categories[\"Greek Philosophy\"].append(k)\n",
    "    elif \"aristophanes\" in k:\n",
    "        colors.append(\"m+\")\n",
    "        labels.append(\"Greek Comedy\")\n",
    "        categories[\"Greek Comedy\"].append(k)\n",
    "    elif \"homer\" in k or \"aeneid\" in k:\n",
    "        colors.append(\"y.\")\n",
    "        labels.append(\"Epic Poems\")\n",
    "        categories[\"Epic Poems\"].append(k)\n",
    "    elif \"augustine\" in k or \"aquinas\" in k:\n",
    "        colors.append(\"go\")\n",
    "        labels.append(\"Catholic Philosophy\")\n",
    "        categories[\"Catholic Philosophy\"].append(k)\n",
    "    elif \"kant\" in k or \"hume\" in k or \"smith\" in k or \"hobbes\" in k or \"locke\" in k or \"spinoza\" in k or \"marx\" in k or \"hegel\" in k or \"descarte\" in k:\n",
    "        colors.append(\"g+\")\n",
    "        categories[\"Modern Philosophy\"].append(k)\n",
    "        labels.append(\"Modern Philosophy\")\n",
    "    elif \"gibbon\" in k:\n",
    "        colors.append(\"c.\")\n",
    "        categories[\"Gibbon\"].append(k)\n",
    "        labels.append(\"Gibbon\")\n",
    "    elif \"tacitus\" in k or \"livy\" in k:\n",
    "        colors.append(\"cd\")\n",
    "        labels.append(\"Roman Historian\")\n",
    "        categories[\"Roman Historian\"].append(k)\n",
    "    elif \"herodotus\" in k or \"thucydides\" in k or \"xenophon\" in k:\n",
    "        colors.append(\"c+\")\n",
    "        labels.append(\"Greek Historian\")\n",
    "        categories[\"Greek Historian\"].append(k)\n",
    "    else:\n",
    "        print(k)\n",
    "\n",
    "colors = np.array(colors)\n",
    "labels = np.array(labels)"
   ]
  },
  {
   "cell_type": "code",
   "execution_count": 6,
   "metadata": {},
   "outputs": [
    {
     "name": "stdout",
     "output_type": "stream",
     "text": [
      "Category: Modern Philosophy\n",
      "\tadam_smith_wealth_of_nations.txt\n",
      "\tdavid_hume_enquiry_concerning_human_understanding.txt\n",
      "\tdescarte_discourse.txt\n",
      "\thegel_philosophy.txt\n",
      "\thobbes_leviathan.txt\n",
      "\tkant_critique_practical_reason.txt\n",
      "\tkant_critique_pure_reason.txt\n",
      "\tlocke_humane_understanding_i.txt\n",
      "\tlocke_humane_understanding_ii.txt\n",
      "\tmarx_communist.txt\n",
      "\tspinoza_ethics.txt\n",
      "\n",
      "Category: Greek Tragedy\n",
      "\taeschylus_oresteia.txt\n",
      "\taeschylus_prometheus_bound.txt\n",
      "\teuripedes_bacchae.txt\n",
      "\teuripedes_electra.txt\n",
      "\teuripedes_medea.txt\n",
      "\teuripedes_trojan_women.txt\n",
      "\tsophocles_oedipus_trilogy.txt\n",
      "\n",
      "Category: Catholic Philosophy\n",
      "\taquinas_summa_theologica_parts_iii.txt\n",
      "\taquinas_summa_theologica_parts_i_ii.txt\n",
      "\taugustine_city_of_god_i.txt\n",
      "\taugustine_city_of_god_ii.txt\n",
      "\taugustine_confessions.txt\n",
      "\n",
      "Category: Greek Comedy\n",
      "\taristophanes_birds.txt\n",
      "\taristophanes_clouds.txt\n",
      "\taristophanes_frogs.txt\n",
      "\taristophanes_lystrata.txt\n",
      "\n",
      "Category: Greek Philosophy\n",
      "\taristotle_ethics.txt\n",
      "\tplato_apology.txt\n",
      "\tplato_crito.txt\n",
      "\tplato_meno.txt\n",
      "\tplato_republic.txt\n",
      "\tplato_symposium.txt\n",
      "\n",
      "Category: Gibbon\n",
      "\tgibbon_decline_and_fall_i.txt\n",
      "\tgibbon_decline_and_fall_ii.txt\n",
      "\tgibbon_decline_and_fall_iii.txt\n",
      "\tgibbon_decline_and_fall_iv.txt\n",
      "\tgibbon_decline_and_fall_v.txt\n",
      "\tgibbon_decline_and_fall_vi.txt\n",
      "\n",
      "Category: Greek Historian\n",
      "\therodotus_history_i.txt\n",
      "\therodotus_history_ii.txt\n",
      "\tthucydides_peloponnesian_war.txt\n",
      "\txenophon_anabasis.txt\n",
      "\txenophon_hellenica.txt\n",
      "\n",
      "Category: Epic Poems\n",
      "\thomer_iliad.txt\n",
      "\thomer_odyssey.txt\n",
      "\tvirgil_aeneid.txt\n",
      "\n",
      "Category: Roman Historian\n",
      "\tlivy_history_book_1.txt\n",
      "\tlivy_history_book_27.txt\n",
      "\tlivy_history_book_37.txt\n",
      "\tlivy_history_book_9.txt\n",
      "\ttacitus_histories.txt\n",
      "\n"
     ]
    }
   ],
   "source": [
    "for category, flnames in categories.items():\n",
    "    print(\"Category:\", category)\n",
    "    for flname in flnames:\n",
    "        print(\"\\t\" + flname)\n",
    "    print()"
   ]
  },
  {
   "cell_type": "markdown",
   "metadata": {},
   "source": [
    "## Feature Extraction\n",
    "\n",
    "Now, how do we turn text into a vector of numerical features we can pass to a machine learning algorithm?  Scikit-learn provides several classes such as [TfidfVectorizer](http://scikit-learn.org/stable/modules/generated/sklearn.feature_extraction.text.TfidfVectorizer.html) that can handle processing the text to produce numerical vectors.\n",
    "\n",
    "The vectorizer uses a \"bag of words\" model.  In this model, each word is given a unique index in the numerical vectors.  At the most basic level, the vectorizer will:\n",
    "\n",
    "* Create a vocabulary\n",
    "    * Split each document string into a set of words (no duplications)\n",
    "    * Merge the sets across all documents to create a single vocabulary\n",
    "    * Assign each word in the vocobulary to a unique index.  If there are 30,000 unique words, we should expect the vectorizer to output vectors of length 30,000\n",
    "* Transform each document\n",
    "    * Create a feature vector for each document\n",
    "    * If using counts, set each element to the number of times the associated word appears\n",
    "    * If binary, round entries to 0 or 1\n",
    "\n",
    "\n",
    "The vectorizer has a number of advanced options as well:\n",
    "\n",
    "* Skip words that appear in fewer documents than a cutoff (min_df)\n",
    "    * Used to remove very specific words that would cause overlap \n",
    "* Skip words that appear more documents than a cutoff (max_df)\n",
    "    * Remove generic words like \"a\", \"an\", and \"the\" which appear frequently but may not contribute much\n",
    "* Converting all words to lowercase (on by default)\n",
    "* Strip accents\n",
    "* Remove \"stop words\" (e.g., articles like \"a\", \"an\", and \"the\")\n",
    "\n",
    "The vectorizer also implements Text Frequency-Inverse Document Frequency (TfIdf) weighting. "
   ]
  },
  {
   "cell_type": "code",
   "execution_count": 7,
   "metadata": {},
   "outputs": [],
   "source": [
    "vectorizer = TfidfVectorizer(max_df = 0.95, min_df = 5, binary=True)\n",
    "text_features = vectorizer.fit_transform(raw_texts.values())"
   ]
  },
  {
   "cell_type": "code",
   "execution_count": 8,
   "metadata": {},
   "outputs": [
    {
     "name": "stdout",
     "output_type": "stream",
     "text": [
      "(52, 18555)\n"
     ]
    }
   ],
   "source": [
    "print(text_features.shape)"
   ]
  },
  {
   "cell_type": "markdown",
   "metadata": {},
   "source": [
    "Notice that the text feature matrix has ~18,600 columns! The vectorizer produces a *sparse* matrix.  This is a special data structure provided by the Scipy library.  A sparse matrix is similar to a Numpy matrix in how it works.  Internally, the sparse matrix avoids storing zeros."
   ]
  },
  {
   "cell_type": "code",
   "execution_count": 9,
   "metadata": {},
   "outputs": [
    {
     "data": {
      "text/plain": [
       "scipy.sparse.csr.csr_matrix"
      ]
     },
     "execution_count": 9,
     "metadata": {},
     "output_type": "execute_result"
    }
   ],
   "source": [
    "type(text_features)"
   ]
  },
  {
   "cell_type": "code",
   "execution_count": 10,
   "metadata": {},
   "outputs": [
    {
     "data": {
      "text/plain": [
       "['inquiry',\n",
       " 'causes',\n",
       " 'wealth',\n",
       " 'nations',\n",
       " 'adam',\n",
       " 'smith',\n",
       " 'anyone',\n",
       " 'whatsoever',\n",
       " 'posting',\n",
       " 'february']"
      ]
     },
     "execution_count": 10,
     "metadata": {},
     "output_type": "execute_result"
    }
   ],
   "source": [
    "list(vectorizer.vocabulary_)[:10]"
   ]
  },
  {
   "cell_type": "markdown",
   "metadata": {},
   "source": [
    "## Supervised Learning\n",
    "\n",
    "Let's try classifying our documents using a Logistic Regression model.  We can confirm that our categorization of the documents are reasonable and distinguishable."
   ]
  },
  {
   "cell_type": "code",
   "execution_count": 11,
   "metadata": {},
   "outputs": [
    {
     "name": "stderr",
     "output_type": "stream",
     "text": [
      "C:\\Users\\nowling\\AppData\\Local\\Continuum\\anaconda3\\lib\\site-packages\\sklearn\\linear_model\\stochastic_gradient.py:117: DeprecationWarning: n_iter parameter is deprecated in 0.19 and will be removed in 0.21. Use max_iter and tol instead.\n",
      "  DeprecationWarning)\n"
     ]
    },
    {
     "name": "stdout",
     "output_type": "stream",
     "text": [
      "Accuracy: 0.9230769230769231\n",
      "Classes: ['Catholic Philosophy' 'Epic Poems' 'Gibbon' 'Greek Comedy'\n",
      " 'Greek Historian' 'Greek Philosophy' 'Greek Tragedy' 'Modern Philosophy'\n",
      " 'Roman Historian']\n",
      "Confusion Matrix:\n",
      "[[1 0 0 0 0 0 0 0 0]\n",
      " [0 1 0 0 0 0 0 0 0]\n",
      " [0 0 1 0 0 0 0 0 0]\n",
      " [0 0 0 1 0 0 0 0 0]\n",
      " [0 0 0 0 1 0 0 0 0]\n",
      " [0 0 0 0 0 1 0 1 0]\n",
      " [0 0 0 0 0 0 2 0 0]\n",
      " [0 0 0 0 0 0 0 3 0]\n",
      " [0 0 0 0 0 0 0 0 1]]\n"
     ]
    }
   ],
   "source": [
    "encoder = LabelEncoder()\n",
    "numerical_labels = encoder.fit_transform(labels)\n",
    "\n",
    "training_X, testing_X, training_y, testing_y = train_test_split(text_features,\n",
    "                                                               numerical_labels,\n",
    "                                                               stratify=numerical_labels)\n",
    "\n",
    "lr = SGDClassifier(loss=\"log\", penalty=\"l2\", n_iter=5000)\n",
    "lr.fit(training_X, training_y)\n",
    "pred_labels = lr.predict(testing_X)\n",
    "\n",
    "accuracy = accuracy_score(testing_y, pred_labels)\n",
    "cm = confusion_matrix(testing_y, pred_labels)\n",
    "\n",
    "print(\"Accuracy:\", accuracy)\n",
    "print(\"Classes:\", str(encoder.classes_))\n",
    "print(\"Confusion Matrix:\")\n",
    "print(cm)"
   ]
  },
  {
   "cell_type": "markdown",
   "metadata": {},
   "source": [
    "## Dimensionality Reduction\n",
    "\n",
    "Now that we've confirmed that our categories are reasonable, let's imagine how we might want to do some exploratory data analysis.  With 18,600 features, we can't reasonable generate plots for each feature.\n",
    "\n",
    "This is where Principal Component Analysis (PCA) comes in.  PCA reduces the dimensions of our data by finding aggregate variables.  We'll see below that we can reduce our data from 18,555 features to 4.  By reducing the variables, we can then more easily plot the relationships between the samples and visualize our data.  We can also use those new variables in our logistic regression model.\n",
    "\n",
    "Scikit Learn provides a [PCA](http://scikit-learn.org/stable/modules/generated/sklearn.decomposition.PCA.html) class.  This class doesn't work well with sparse matrices so we use a very similar method called Singular Value Decomposition (SVD).  Scikit Learn provides a method called [Truncated SVD](http://scikit-learn.org/stable/modules/generated/sklearn.decomposition.TruncatedSVD.html#sklearn.decomposition.TruncatedSVD) that can be used in place of PCA for sparse matrices.\n",
    "\n",
    "We start by fitting and transforming the data.  We have to \"guess\" the maximum number of new variables (components) we may want."
   ]
  },
  {
   "cell_type": "code",
   "execution_count": 12,
   "metadata": {},
   "outputs": [],
   "source": [
    "svd = TruncatedSVD(n_components = 10)\n",
    "projected = svd.fit_transform(text_features)"
   ]
  },
  {
   "cell_type": "code",
   "execution_count": 13,
   "metadata": {},
   "outputs": [
    {
     "name": "stdout",
     "output_type": "stream",
     "text": [
      "(52, 10)\n"
     ]
    }
   ],
   "source": [
    "print(projected.shape)"
   ]
  },
  {
   "cell_type": "markdown",
   "metadata": {},
   "source": [
    "We can then confirm which new variables we want to use by plotting their \"explained variance ratios.\"  In our case, components 1-4 have the highest explained variance ratios."
   ]
  },
  {
   "cell_type": "code",
   "execution_count": 14,
   "metadata": {},
   "outputs": [
    {
     "data": {
      "text/plain": [
       "Text(0,0.5,'Explained Variance Ratio')"
      ]
     },
     "execution_count": 14,
     "metadata": {},
     "output_type": "execute_result"
    },
    {
     "data": {
      "image/png": "[encoded data removed]",
      "text/plain": [
       "<Figure size 432x288 with 1 Axes>"
      ]
     },
     "metadata": {},
     "output_type": "display_data"
    }
   ],
   "source": [
    "plt.clf()\n",
    "plt.plot(range(1, 11), svd.explained_variance_ratio_, \"m.-\")\n",
    "plt.xlabel(\"Component\", fontsize=16)\n",
    "plt.ylabel(\"Explained Variance Ratio\", fontsize=16)"
   ]
  },
  {
   "cell_type": "markdown",
   "metadata": {},
   "source": [
    "Since components 1 and 2 have the absolute highest explained variance ratios, let's create a scatter plot of variables using just those two variables.  We'll see that our documents tend to cluster by category."
   ]
  },
  {
   "cell_type": "code",
   "execution_count": 15,
   "metadata": {},
   "outputs": [
    {
     "data": {
      "text/plain": [
       "<matplotlib.legend.Legend at 0x188d0957630>"
      ]
     },
     "execution_count": 15,
     "metadata": {},
     "output_type": "execute_result"
    },
    {
     "data": {
      "image/png": "[encoded data removed]",
      "text/plain": [
       "<Figure size 432x288 with 1 Axes>"
      ]
     },
     "metadata": {},
     "output_type": "display_data"
    }
   ],
   "source": [
    "plt.clf()\n",
    "for l in set(labels):\n",
    "    selected = [i for i, l_ in enumerate(labels) if l == l_]\n",
    "    plt.scatter(projected[selected, 1],\n",
    "                projected[selected, 2],\n",
    "                marker = colors[selected][0][1],\n",
    "                color = colors[selected][0][0],\n",
    "                label = l)\n",
    "plt.xlabel(\"Component 1\", fontsize=16)\n",
    "plt.ylabel(\"Component 2\", fontsize=16)\n",
    "plt.xlim([-0.5, 1.2])\n",
    "plt.ylim([-0.4, 0.5])\n",
    "plt.legend()"
   ]
  },
  {
   "cell_type": "markdown",
   "metadata": {},
   "source": [
    "Lastly, let's try building a logistic regression model using only components 1-4 and comparing its accuracy to our original model."
   ]
  },
  {
   "cell_type": "code",
   "execution_count": 16,
   "metadata": {},
   "outputs": [
    {
     "name": "stdout",
     "output_type": "stream",
     "text": [
      "Accuracy: 0.6923076923076923\n",
      "Classes: ['Catholic Philosophy' 'Epic Poems' 'Gibbon' 'Greek Comedy'\n",
      " 'Greek Historian' 'Greek Philosophy' 'Greek Tragedy' 'Modern Philosophy'\n",
      " 'Roman Historian']\n",
      "Confusion Matrix:\n",
      "[[1 0 0 0 0 0 0 0 0]\n",
      " [0 0 0 0 0 0 1 0 0]\n",
      " [0 0 2 0 0 0 0 0 0]\n",
      " [0 0 0 1 0 0 0 0 0]\n",
      " [0 0 0 0 1 0 0 0 0]\n",
      " [0 0 0 0 0 0 0 1 0]\n",
      " [0 0 0 0 0 0 2 0 0]\n",
      " [0 0 0 0 0 2 0 1 0]\n",
      " [0 0 0 0 0 0 0 0 1]]\n"
     ]
    },
    {
     "name": "stderr",
     "output_type": "stream",
     "text": [
      "C:\\Users\\nowling\\AppData\\Local\\Continuum\\anaconda3\\lib\\site-packages\\sklearn\\linear_model\\stochastic_gradient.py:117: DeprecationWarning: n_iter parameter is deprecated in 0.19 and will be removed in 0.21. Use max_iter and tol instead.\n",
      "  DeprecationWarning)\n"
     ]
    }
   ],
   "source": [
    "training_X, testing_X, training_y, testing_y = train_test_split(projected[:, 1:5],\n",
    "                                                               numerical_labels,\n",
    "                                                               stratify=numerical_labels)\n",
    "\n",
    "lr = SGDClassifier(loss=\"log\", penalty=\"l2\", n_iter=5000)\n",
    "lr.fit(training_X, training_y)\n",
    "pred_labels = lr.predict(testing_X)\n",
    "\n",
    "accuracy = accuracy_score(testing_y, pred_labels)\n",
    "cm = confusion_matrix(testing_y, pred_labels)\n",
    "\n",
    "print(\"Accuracy:\", accuracy)\n",
    "print(\"Classes:\", str(encoder.classes_))\n",
    "print(\"Confusion Matrix:\")\n",
    "print(cm)"
   ]
  },
  {
   "cell_type": "markdown",
   "metadata": {
    "collapsed": true
   },
   "source": [
    "Our model that uses the new PC variables achieves a similar accuracy."
   ]
  }
 ],
 "metadata": {
  "kernelspec": {
   "display_name": "Python 3",
   "language": "python",
   "name": "python3"
  },
  "language_info": {
   "codemirror_mode": {
    "name": "ipython",
    "version": 3
   },
   "file_extension": ".py",
   "mimetype": "text/x-python",
   "name": "python",
   "nbconvert_exporter": "python",
   "pygments_lexer": "ipython3",
   "version": "3.6.5"
  }
 },
 "nbformat": 4,
 "nbformat_minor": 2
}
