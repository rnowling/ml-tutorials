{
 "cells": [
  {
   "cell_type": "markdown",
   "metadata": {},
   "source": [
    "## Linear Regression Tutorial, Part 3: Categorical Variables\n",
    "\n",
    "RJ Nowling\n",
    "\n",
    "In part 1 of this Linear Regression tutorial, we built a simple linear regression model using the squared footage of real eastate to predict the prices of transactions.  In part 2, we built a multiple linear regression model using the continuous variables.  In part 3, we'll look at using categorical variables.\n",
    "\n",
    "We'll start by importing the various libraries we'll need."
   ]
  },
  {
   "cell_type": "code",
   "execution_count": 1,
   "metadata": {},
   "outputs": [],
   "source": [
    "import numpy as np\n",
    "import pandas as pd\n",
    "import matplotlib.pyplot as plt\n",
    "import seaborn as sns\n",
    "\n",
    "from sklearn.linear_model import SGDRegressor\n",
    "from sklearn.metrics import mean_squared_error\n",
    "from sklearn.model_selection import train_test_split\n",
    "from sklearn.preprocessing import Imputer\n",
    "from sklearn.preprocessing import StandardScaler\n",
    "\n",
    "%matplotlib inline"
   ]
  },
  {
   "cell_type": "markdown",
   "metadata": {},
   "source": [
    "### Load and Clean Data\n",
    "\n",
    "Before we can build any models, we need to import the data and clean it by converting types as necessary."
   ]
  },
  {
   "cell_type": "code",
   "execution_count": 2,
   "metadata": {},
   "outputs": [],
   "source": [
    "df = pd.read_csv(\"Sacramentorealestatetransactions.csv\")"
   ]
  },
  {
   "cell_type": "code",
   "execution_count": 3,
   "metadata": {},
   "outputs": [
    {
     "data": {
      "text/html": [
       "<div>\n",
       "<style scoped>\n",
       "    .dataframe tbody tr th:only-of-type {\n",
       "        vertical-align: middle;\n",
       "    }\n",
       "\n",
       "    .dataframe tbody tr th {\n",
       "        vertical-align: top;\n",
       "    }\n",
       "\n",
       "    .dataframe thead th {\n",
       "        text-align: right;\n",
       "    }\n",
       "</style>\n",
       "<table border=\"1\" class=\"dataframe\">\n",
       "  <thead>\n",
       "    <tr style=\"text-align: right;\">\n",
       "      <th></th>\n",
       "      <th>street</th>\n",
       "      <th>city</th>\n",
       "      <th>zip</th>\n",
       "      <th>state</th>\n",
       "      <th>beds</th>\n",
       "      <th>baths</th>\n",
       "      <th>sq__ft</th>\n",
       "      <th>type</th>\n",
       "      <th>sale_date</th>\n",
       "      <th>price</th>\n",
       "      <th>latitude</th>\n",
       "      <th>longitude</th>\n",
       "    </tr>\n",
       "  </thead>\n",
       "  <tbody>\n",
       "    <tr>\n",
       "      <th>0</th>\n",
       "      <td>3526 HIGH ST</td>\n",
       "      <td>SACRAMENTO</td>\n",
       "      <td>95838</td>\n",
       "      <td>CA</td>\n",
       "      <td>2</td>\n",
       "      <td>1</td>\n",
       "      <td>836</td>\n",
       "      <td>Residential</td>\n",
       "      <td>Wed May 21 00:00:00 EDT 2008</td>\n",
       "      <td>59222</td>\n",
       "      <td>38.631913</td>\n",
       "      <td>-121.434879</td>\n",
       "    </tr>\n",
       "    <tr>\n",
       "      <th>1</th>\n",
       "      <td>51 OMAHA CT</td>\n",
       "      <td>SACRAMENTO</td>\n",
       "      <td>95823</td>\n",
       "      <td>CA</td>\n",
       "      <td>3</td>\n",
       "      <td>1</td>\n",
       "      <td>1167</td>\n",
       "      <td>Residential</td>\n",
       "      <td>Wed May 21 00:00:00 EDT 2008</td>\n",
       "      <td>68212</td>\n",
       "      <td>38.478902</td>\n",
       "      <td>-121.431028</td>\n",
       "    </tr>\n",
       "    <tr>\n",
       "      <th>2</th>\n",
       "      <td>2796 BRANCH ST</td>\n",
       "      <td>SACRAMENTO</td>\n",
       "      <td>95815</td>\n",
       "      <td>CA</td>\n",
       "      <td>2</td>\n",
       "      <td>1</td>\n",
       "      <td>796</td>\n",
       "      <td>Residential</td>\n",
       "      <td>Wed May 21 00:00:00 EDT 2008</td>\n",
       "      <td>68880</td>\n",
       "      <td>38.618305</td>\n",
       "      <td>-121.443839</td>\n",
       "    </tr>\n",
       "    <tr>\n",
       "      <th>3</th>\n",
       "      <td>2805 JANETTE WAY</td>\n",
       "      <td>SACRAMENTO</td>\n",
       "      <td>95815</td>\n",
       "      <td>CA</td>\n",
       "      <td>2</td>\n",
       "      <td>1</td>\n",
       "      <td>852</td>\n",
       "      <td>Residential</td>\n",
       "      <td>Wed May 21 00:00:00 EDT 2008</td>\n",
       "      <td>69307</td>\n",
       "      <td>38.616835</td>\n",
       "      <td>-121.439146</td>\n",
       "    </tr>\n",
       "    <tr>\n",
       "      <th>4</th>\n",
       "      <td>6001 MCMAHON DR</td>\n",
       "      <td>SACRAMENTO</td>\n",
       "      <td>95824</td>\n",
       "      <td>CA</td>\n",
       "      <td>2</td>\n",
       "      <td>1</td>\n",
       "      <td>797</td>\n",
       "      <td>Residential</td>\n",
       "      <td>Wed May 21 00:00:00 EDT 2008</td>\n",
       "      <td>81900</td>\n",
       "      <td>38.519470</td>\n",
       "      <td>-121.435768</td>\n",
       "    </tr>\n",
       "  </tbody>\n",
       "</table>\n",
       "</div>"
      ],
      "text/plain": [
       "             street        city    zip state  beds  baths  sq__ft  \\\n",
       "0      3526 HIGH ST  SACRAMENTO  95838    CA     2      1     836   \n",
       "1       51 OMAHA CT  SACRAMENTO  95823    CA     3      1    1167   \n",
       "2    2796 BRANCH ST  SACRAMENTO  95815    CA     2      1     796   \n",
       "3  2805 JANETTE WAY  SACRAMENTO  95815    CA     2      1     852   \n",
       "4   6001 MCMAHON DR  SACRAMENTO  95824    CA     2      1     797   \n",
       "\n",
       "          type                     sale_date  price   latitude   longitude  \n",
       "0  Residential  Wed May 21 00:00:00 EDT 2008  59222  38.631913 -121.434879  \n",
       "1  Residential  Wed May 21 00:00:00 EDT 2008  68212  38.478902 -121.431028  \n",
       "2  Residential  Wed May 21 00:00:00 EDT 2008  68880  38.618305 -121.443839  \n",
       "3  Residential  Wed May 21 00:00:00 EDT 2008  69307  38.616835 -121.439146  \n",
       "4  Residential  Wed May 21 00:00:00 EDT 2008  81900  38.519470 -121.435768  "
      ]
     },
     "execution_count": 3,
     "metadata": {},
     "output_type": "execute_result"
    }
   ],
   "source": [
    "df.head()"
   ]
  },
  {
   "cell_type": "code",
   "execution_count": 4,
   "metadata": {},
   "outputs": [
    {
     "data": {
      "text/plain": [
       "street        object\n",
       "city          object\n",
       "zip            int64\n",
       "state         object\n",
       "beds           int64\n",
       "baths          int64\n",
       "sq__ft         int64\n",
       "type          object\n",
       "sale_date     object\n",
       "price          int64\n",
       "latitude     float64\n",
       "longitude    float64\n",
       "dtype: object"
      ]
     },
     "execution_count": 4,
     "metadata": {},
     "output_type": "execute_result"
    }
   ],
   "source": [
    "df.dtypes"
   ]
  },
  {
   "cell_type": "markdown",
   "metadata": {},
   "source": [
    "Let's convert our categorical variables to categories.  We can also treat some of the numerical variables (beds, baths) as categorical variables, so we'll create separate categorical variables for them."
   ]
  },
  {
   "cell_type": "code",
   "execution_count": 5,
   "metadata": {},
   "outputs": [],
   "source": [
    "df[\"beds_cats\"] = df[\"beds\"].astype(\"category\")\n",
    "df[\"baths_cats\"] = df[\"baths\"].astype(\"category\")\n",
    "df[\"state\"] = df[\"state\"].astype(\"category\")\n",
    "df[\"zip\"] = df[\"zip\"].astype(\"category\")\n",
    "df[\"type\"] = df[\"type\"].astype(\"category\")"
   ]
  },
  {
   "cell_type": "markdown",
   "metadata": {},
   "source": [
    "Let's define lists of the names of our numerical variables, categorical variables, and numerical variables we may want to try as categorical variables."
   ]
  },
  {
   "cell_type": "code",
   "execution_count": 6,
   "metadata": {},
   "outputs": [],
   "source": [
    "numerical_columns = [\"beds\", \"baths\", \"sq__ft\", \"latitude\", \"longitude\"]\n",
    "categorical_columns = [\"zip\", \"type\", \"state\", \"beds_cats\", \"baths_cats\"]\n",
    "all_columns = numerical_columns + categorical_columns"
   ]
  },
  {
   "cell_type": "markdown",
   "metadata": {},
   "source": [
    "Let's explore our categorical columns."
   ]
  },
  {
   "cell_type": "code",
   "execution_count": 7,
   "metadata": {},
   "outputs": [
    {
     "data": {
      "text/plain": [
       "<matplotlib.axes._subplots.AxesSubplot at 0x1f8656d9390>"
      ]
     },
     "execution_count": 7,
     "metadata": {},
     "output_type": "execute_result"
    },
    {
     "data": {
      "image/png": "[encoded data removed]",
      "text/plain": [
       "<Figure size 432x288 with 1 Axes>"
      ]
     },
     "metadata": {},
     "output_type": "display_data"
    }
   ],
   "source": [
    "df[[\"price\", \"zip\"]].boxplot(by=\"zip\")"
   ]
  },
  {
   "cell_type": "code",
   "execution_count": 8,
   "metadata": {},
   "outputs": [
    {
     "data": {
      "text/plain": [
       "<matplotlib.axes._subplots.AxesSubplot at 0x1f865ffae80>"
      ]
     },
     "execution_count": 8,
     "metadata": {},
     "output_type": "execute_result"
    },
    {
     "data": {
      "image/png": "[encoded data removed]",
      "text/plain": [
       "<Figure size 432x288 with 1 Axes>"
      ]
     },
     "metadata": {},
     "output_type": "display_data"
    }
   ],
   "source": [
    "df[[\"price\", \"type\"]].boxplot(by=\"type\")"
   ]
  },
  {
   "cell_type": "code",
   "execution_count": 9,
   "metadata": {},
   "outputs": [
    {
     "data": {
      "text/plain": [
       "<matplotlib.axes._subplots.AxesSubplot at 0x1f866051e48>"
      ]
     },
     "execution_count": 9,
     "metadata": {},
     "output_type": "execute_result"
    },
    {
     "data": {
      "image/png": "[encoded data removed]",
      "text/plain": [
       "<Figure size 432x288 with 1 Axes>"
      ]
     },
     "metadata": {},
     "output_type": "display_data"
    }
   ],
   "source": [
    "df[[\"price\", \"state\"]].boxplot(by=\"state\")"
   ]
  },
  {
   "cell_type": "code",
   "execution_count": 10,
   "metadata": {},
   "outputs": [
    {
     "data": {
      "text/plain": [
       "<matplotlib.axes._subplots.AxesSubplot at 0x1f866093d68>"
      ]
     },
     "execution_count": 10,
     "metadata": {},
     "output_type": "execute_result"
    },
    {
     "data": {
      "image/png": "[encoded data removed]",
      "text/plain": [
       "<Figure size 432x288 with 1 Axes>"
      ]
     },
     "metadata": {},
     "output_type": "display_data"
    }
   ],
   "source": [
    "df[[\"price\", \"beds_cats\"]].boxplot(by=\"beds_cats\")"
   ]
  },
  {
   "cell_type": "code",
   "execution_count": 11,
   "metadata": {},
   "outputs": [
    {
     "data": {
      "text/plain": [
       "<matplotlib.axes._subplots.AxesSubplot at 0x1f8661765f8>"
      ]
     },
     "execution_count": 11,
     "metadata": {},
     "output_type": "execute_result"
    },
    {
     "data": {
      "image/png": "[encoded data removed]",
      "text/plain": [
       "<Figure size 432x288 with 1 Axes>"
      ]
     },
     "metadata": {},
     "output_type": "display_data"
    }
   ],
   "source": [
    "df[[\"price\", \"baths_cats\"]].boxplot(by=\"baths_cats\")"
   ]
  },
  {
   "cell_type": "markdown",
   "metadata": {},
   "source": [
    "I believe that `bed_cats`, `bath_cats`, `type`, and `zip` will be predictive.  I do not think state will be predictive since there is only one state."
   ]
  },
  {
   "cell_type": "markdown",
   "metadata": {},
   "source": [
    "## Transforming Categorical Variables\n",
    "\n",
    "Before we can use any of the categorical variables in regression models, we need to conver them to dummy variables.  A dummy variable is created for each category in a variable.  A value of 1 indicates that the record is in that category, while a 0 indicates not."
   ]
  },
  {
   "cell_type": "code",
   "execution_count": 12,
   "metadata": {},
   "outputs": [
    {
     "data": {
      "text/html": [
       "<div>\n",
       "<style scoped>\n",
       "    .dataframe tbody tr th:only-of-type {\n",
       "        vertical-align: middle;\n",
       "    }\n",
       "\n",
       "    .dataframe tbody tr th {\n",
       "        vertical-align: top;\n",
       "    }\n",
       "\n",
       "    .dataframe thead th {\n",
       "        text-align: right;\n",
       "    }\n",
       "</style>\n",
       "<table border=\"1\" class=\"dataframe\">\n",
       "  <thead>\n",
       "    <tr style=\"text-align: right;\">\n",
       "      <th></th>\n",
       "      <th>street</th>\n",
       "      <th>city</th>\n",
       "      <th>zip</th>\n",
       "      <th>state</th>\n",
       "      <th>beds</th>\n",
       "      <th>baths</th>\n",
       "      <th>sq__ft</th>\n",
       "      <th>type</th>\n",
       "      <th>sale_date</th>\n",
       "      <th>price</th>\n",
       "      <th>latitude</th>\n",
       "      <th>longitude</th>\n",
       "      <th>beds_cats</th>\n",
       "      <th>baths_cats</th>\n",
       "    </tr>\n",
       "  </thead>\n",
       "  <tbody>\n",
       "    <tr>\n",
       "      <th>0</th>\n",
       "      <td>3526 HIGH ST</td>\n",
       "      <td>SACRAMENTO</td>\n",
       "      <td>95838</td>\n",
       "      <td>CA</td>\n",
       "      <td>2</td>\n",
       "      <td>1</td>\n",
       "      <td>836</td>\n",
       "      <td>Residential</td>\n",
       "      <td>Wed May 21 00:00:00 EDT 2008</td>\n",
       "      <td>59222</td>\n",
       "      <td>38.631913</td>\n",
       "      <td>-121.434879</td>\n",
       "      <td>2</td>\n",
       "      <td>1</td>\n",
       "    </tr>\n",
       "    <tr>\n",
       "      <th>1</th>\n",
       "      <td>51 OMAHA CT</td>\n",
       "      <td>SACRAMENTO</td>\n",
       "      <td>95823</td>\n",
       "      <td>CA</td>\n",
       "      <td>3</td>\n",
       "      <td>1</td>\n",
       "      <td>1167</td>\n",
       "      <td>Residential</td>\n",
       "      <td>Wed May 21 00:00:00 EDT 2008</td>\n",
       "      <td>68212</td>\n",
       "      <td>38.478902</td>\n",
       "      <td>-121.431028</td>\n",
       "      <td>3</td>\n",
       "      <td>1</td>\n",
       "    </tr>\n",
       "    <tr>\n",
       "      <th>2</th>\n",
       "      <td>2796 BRANCH ST</td>\n",
       "      <td>SACRAMENTO</td>\n",
       "      <td>95815</td>\n",
       "      <td>CA</td>\n",
       "      <td>2</td>\n",
       "      <td>1</td>\n",
       "      <td>796</td>\n",
       "      <td>Residential</td>\n",
       "      <td>Wed May 21 00:00:00 EDT 2008</td>\n",
       "      <td>68880</td>\n",
       "      <td>38.618305</td>\n",
       "      <td>-121.443839</td>\n",
       "      <td>2</td>\n",
       "      <td>1</td>\n",
       "    </tr>\n",
       "    <tr>\n",
       "      <th>3</th>\n",
       "      <td>2805 JANETTE WAY</td>\n",
       "      <td>SACRAMENTO</td>\n",
       "      <td>95815</td>\n",
       "      <td>CA</td>\n",
       "      <td>2</td>\n",
       "      <td>1</td>\n",
       "      <td>852</td>\n",
       "      <td>Residential</td>\n",
       "      <td>Wed May 21 00:00:00 EDT 2008</td>\n",
       "      <td>69307</td>\n",
       "      <td>38.616835</td>\n",
       "      <td>-121.439146</td>\n",
       "      <td>2</td>\n",
       "      <td>1</td>\n",
       "    </tr>\n",
       "    <tr>\n",
       "      <th>4</th>\n",
       "      <td>6001 MCMAHON DR</td>\n",
       "      <td>SACRAMENTO</td>\n",
       "      <td>95824</td>\n",
       "      <td>CA</td>\n",
       "      <td>2</td>\n",
       "      <td>1</td>\n",
       "      <td>797</td>\n",
       "      <td>Residential</td>\n",
       "      <td>Wed May 21 00:00:00 EDT 2008</td>\n",
       "      <td>81900</td>\n",
       "      <td>38.519470</td>\n",
       "      <td>-121.435768</td>\n",
       "      <td>2</td>\n",
       "      <td>1</td>\n",
       "    </tr>\n",
       "  </tbody>\n",
       "</table>\n",
       "</div>"
      ],
      "text/plain": [
       "             street        city    zip state  beds  baths  sq__ft  \\\n",
       "0      3526 HIGH ST  SACRAMENTO  95838    CA     2      1     836   \n",
       "1       51 OMAHA CT  SACRAMENTO  95823    CA     3      1    1167   \n",
       "2    2796 BRANCH ST  SACRAMENTO  95815    CA     2      1     796   \n",
       "3  2805 JANETTE WAY  SACRAMENTO  95815    CA     2      1     852   \n",
       "4   6001 MCMAHON DR  SACRAMENTO  95824    CA     2      1     797   \n",
       "\n",
       "          type                     sale_date  price   latitude   longitude  \\\n",
       "0  Residential  Wed May 21 00:00:00 EDT 2008  59222  38.631913 -121.434879   \n",
       "1  Residential  Wed May 21 00:00:00 EDT 2008  68212  38.478902 -121.431028   \n",
       "2  Residential  Wed May 21 00:00:00 EDT 2008  68880  38.618305 -121.443839   \n",
       "3  Residential  Wed May 21 00:00:00 EDT 2008  69307  38.616835 -121.439146   \n",
       "4  Residential  Wed May 21 00:00:00 EDT 2008  81900  38.519470 -121.435768   \n",
       "\n",
       "  beds_cats baths_cats  \n",
       "0         2          1  \n",
       "1         3          1  \n",
       "2         2          1  \n",
       "3         2          1  \n",
       "4         2          1  "
      ]
     },
     "execution_count": 12,
     "metadata": {},
     "output_type": "execute_result"
    }
   ],
   "source": [
    "df.head()"
   ]
  },
  {
   "cell_type": "code",
   "execution_count": 13,
   "metadata": {},
   "outputs": [
    {
     "data": {
      "text/html": [
       "<div>\n",
       "<style scoped>\n",
       "    .dataframe tbody tr th:only-of-type {\n",
       "        vertical-align: middle;\n",
       "    }\n",
       "\n",
       "    .dataframe tbody tr th {\n",
       "        vertical-align: top;\n",
       "    }\n",
       "\n",
       "    .dataframe thead th {\n",
       "        text-align: right;\n",
       "    }\n",
       "</style>\n",
       "<table border=\"1\" class=\"dataframe\">\n",
       "  <thead>\n",
       "    <tr style=\"text-align: right;\">\n",
       "      <th></th>\n",
       "      <th>beds_cats_0</th>\n",
       "      <th>beds_cats_1</th>\n",
       "      <th>beds_cats_2</th>\n",
       "      <th>beds_cats_3</th>\n",
       "      <th>beds_cats_4</th>\n",
       "      <th>beds_cats_5</th>\n",
       "      <th>beds_cats_6</th>\n",
       "      <th>beds_cats_8</th>\n",
       "    </tr>\n",
       "  </thead>\n",
       "  <tbody>\n",
       "    <tr>\n",
       "      <th>0</th>\n",
       "      <td>0</td>\n",
       "      <td>0</td>\n",
       "      <td>1</td>\n",
       "      <td>0</td>\n",
       "      <td>0</td>\n",
       "      <td>0</td>\n",
       "      <td>0</td>\n",
       "      <td>0</td>\n",
       "    </tr>\n",
       "    <tr>\n",
       "      <th>1</th>\n",
       "      <td>0</td>\n",
       "      <td>0</td>\n",
       "      <td>0</td>\n",
       "      <td>1</td>\n",
       "      <td>0</td>\n",
       "      <td>0</td>\n",
       "      <td>0</td>\n",
       "      <td>0</td>\n",
       "    </tr>\n",
       "    <tr>\n",
       "      <th>2</th>\n",
       "      <td>0</td>\n",
       "      <td>0</td>\n",
       "      <td>1</td>\n",
       "      <td>0</td>\n",
       "      <td>0</td>\n",
       "      <td>0</td>\n",
       "      <td>0</td>\n",
       "      <td>0</td>\n",
       "    </tr>\n",
       "    <tr>\n",
       "      <th>3</th>\n",
       "      <td>0</td>\n",
       "      <td>0</td>\n",
       "      <td>1</td>\n",
       "      <td>0</td>\n",
       "      <td>0</td>\n",
       "      <td>0</td>\n",
       "      <td>0</td>\n",
       "      <td>0</td>\n",
       "    </tr>\n",
       "    <tr>\n",
       "      <th>4</th>\n",
       "      <td>0</td>\n",
       "      <td>0</td>\n",
       "      <td>1</td>\n",
       "      <td>0</td>\n",
       "      <td>0</td>\n",
       "      <td>0</td>\n",
       "      <td>0</td>\n",
       "      <td>0</td>\n",
       "    </tr>\n",
       "  </tbody>\n",
       "</table>\n",
       "</div>"
      ],
      "text/plain": [
       "   beds_cats_0  beds_cats_1  beds_cats_2  beds_cats_3  beds_cats_4  \\\n",
       "0            0            0            1            0            0   \n",
       "1            0            0            0            1            0   \n",
       "2            0            0            1            0            0   \n",
       "3            0            0            1            0            0   \n",
       "4            0            0            1            0            0   \n",
       "\n",
       "   beds_cats_5  beds_cats_6  beds_cats_8  \n",
       "0            0            0            0  \n",
       "1            0            0            0  \n",
       "2            0            0            0  \n",
       "3            0            0            0  \n",
       "4            0            0            0  "
      ]
     },
     "execution_count": 13,
     "metadata": {},
     "output_type": "execute_result"
    }
   ],
   "source": [
    "pd.get_dummies(df[\"beds_cats\"], prefix=\"beds_cats\").head()"
   ]
  },
  {
   "cell_type": "code",
   "execution_count": 14,
   "metadata": {},
   "outputs": [
    {
     "data": {
      "text/plain": [
       "array(['street', 'city', 'zip', 'state', 'beds', 'baths', 'sq__ft',\n",
       "       'type', 'sale_date', 'price', 'latitude', 'longitude', 'beds_cats',\n",
       "       'baths_cats'], dtype=object)"
      ]
     },
     "execution_count": 14,
     "metadata": {},
     "output_type": "execute_result"
    }
   ],
   "source": [
    "df.columns.values"
   ]
  },
  {
   "cell_type": "code",
   "execution_count": 15,
   "metadata": {},
   "outputs": [],
   "source": [
    "dummy_columns = {}\n",
    "for col_name in categorical_columns:\n",
    "    dummies = pd.get_dummies(df[col_name], prefix=col_name)\n",
    "    dummy_columns[col_name] = dummies.columns.values\n",
    "    df = df.merge(dummies, left_index=True, right_index=True)\n",
    "    df = df.drop(columns=col_name)"
   ]
  },
  {
   "cell_type": "code",
   "execution_count": 16,
   "metadata": {},
   "outputs": [
    {
     "name": "stdout",
     "output_type": "stream",
     "text": [
      "{'zip': array(['zip_95603', 'zip_95608', 'zip_95610', 'zip_95614', 'zip_95619',\n",
      "       'zip_95621', 'zip_95623', 'zip_95624', 'zip_95626', 'zip_95628',\n",
      "       'zip_95630', 'zip_95631', 'zip_95632', 'zip_95633', 'zip_95635',\n",
      "       'zip_95648', 'zip_95650', 'zip_95655', 'zip_95660', 'zip_95661',\n",
      "       'zip_95662', 'zip_95663', 'zip_95667', 'zip_95670', 'zip_95673',\n",
      "       'zip_95677', 'zip_95678', 'zip_95682', 'zip_95683', 'zip_95690',\n",
      "       'zip_95691', 'zip_95693', 'zip_95722', 'zip_95726', 'zip_95742',\n",
      "       'zip_95746', 'zip_95747', 'zip_95757', 'zip_95758', 'zip_95762',\n",
      "       'zip_95765', 'zip_95811', 'zip_95814', 'zip_95815', 'zip_95816',\n",
      "       'zip_95817', 'zip_95818', 'zip_95819', 'zip_95820', 'zip_95821',\n",
      "       'zip_95822', 'zip_95823', 'zip_95824', 'zip_95825', 'zip_95826',\n",
      "       'zip_95827', 'zip_95828', 'zip_95829', 'zip_95831', 'zip_95832',\n",
      "       'zip_95833', 'zip_95834', 'zip_95835', 'zip_95838', 'zip_95841',\n",
      "       'zip_95842', 'zip_95843', 'zip_95864'], dtype=object), 'type': array(['type_Condo', 'type_Multi-Family', 'type_Residential',\n",
      "       'type_Unkown'], dtype=object), 'state': array(['state_CA'], dtype=object), 'beds_cats': array(['beds_cats_0', 'beds_cats_1', 'beds_cats_2', 'beds_cats_3',\n",
      "       'beds_cats_4', 'beds_cats_5', 'beds_cats_6', 'beds_cats_8'],\n",
      "      dtype=object), 'baths_cats': array(['baths_cats_0', 'baths_cats_1', 'baths_cats_2', 'baths_cats_3',\n",
      "       'baths_cats_4', 'baths_cats_5'], dtype=object)}\n"
     ]
    }
   ],
   "source": [
    "print(dummy_columns)"
   ]
  },
  {
   "cell_type": "code",
   "execution_count": 17,
   "metadata": {},
   "outputs": [
    {
     "data": {
      "text/html": [
       "<div>\n",
       "<style scoped>\n",
       "    .dataframe tbody tr th:only-of-type {\n",
       "        vertical-align: middle;\n",
       "    }\n",
       "\n",
       "    .dataframe tbody tr th {\n",
       "        vertical-align: top;\n",
       "    }\n",
       "\n",
       "    .dataframe thead th {\n",
       "        text-align: right;\n",
       "    }\n",
       "</style>\n",
       "<table border=\"1\" class=\"dataframe\">\n",
       "  <thead>\n",
       "    <tr style=\"text-align: right;\">\n",
       "      <th></th>\n",
       "      <th>street</th>\n",
       "      <th>city</th>\n",
       "      <th>beds</th>\n",
       "      <th>baths</th>\n",
       "      <th>sq__ft</th>\n",
       "      <th>sale_date</th>\n",
       "      <th>price</th>\n",
       "      <th>latitude</th>\n",
       "      <th>longitude</th>\n",
       "      <th>zip_95603</th>\n",
       "      <th>...</th>\n",
       "      <th>beds_cats_4</th>\n",
       "      <th>beds_cats_5</th>\n",
       "      <th>beds_cats_6</th>\n",
       "      <th>beds_cats_8</th>\n",
       "      <th>baths_cats_0</th>\n",
       "      <th>baths_cats_1</th>\n",
       "      <th>baths_cats_2</th>\n",
       "      <th>baths_cats_3</th>\n",
       "      <th>baths_cats_4</th>\n",
       "      <th>baths_cats_5</th>\n",
       "    </tr>\n",
       "  </thead>\n",
       "  <tbody>\n",
       "    <tr>\n",
       "      <th>0</th>\n",
       "      <td>3526 HIGH ST</td>\n",
       "      <td>SACRAMENTO</td>\n",
       "      <td>2</td>\n",
       "      <td>1</td>\n",
       "      <td>836</td>\n",
       "      <td>Wed May 21 00:00:00 EDT 2008</td>\n",
       "      <td>59222</td>\n",
       "      <td>38.631913</td>\n",
       "      <td>-121.434879</td>\n",
       "      <td>0</td>\n",
       "      <td>...</td>\n",
       "      <td>0</td>\n",
       "      <td>0</td>\n",
       "      <td>0</td>\n",
       "      <td>0</td>\n",
       "      <td>0</td>\n",
       "      <td>1</td>\n",
       "      <td>0</td>\n",
       "      <td>0</td>\n",
       "      <td>0</td>\n",
       "      <td>0</td>\n",
       "    </tr>\n",
       "    <tr>\n",
       "      <th>1</th>\n",
       "      <td>51 OMAHA CT</td>\n",
       "      <td>SACRAMENTO</td>\n",
       "      <td>3</td>\n",
       "      <td>1</td>\n",
       "      <td>1167</td>\n",
       "      <td>Wed May 21 00:00:00 EDT 2008</td>\n",
       "      <td>68212</td>\n",
       "      <td>38.478902</td>\n",
       "      <td>-121.431028</td>\n",
       "      <td>0</td>\n",
       "      <td>...</td>\n",
       "      <td>0</td>\n",
       "      <td>0</td>\n",
       "      <td>0</td>\n",
       "      <td>0</td>\n",
       "      <td>0</td>\n",
       "      <td>1</td>\n",
       "      <td>0</td>\n",
       "      <td>0</td>\n",
       "      <td>0</td>\n",
       "      <td>0</td>\n",
       "    </tr>\n",
       "    <tr>\n",
       "      <th>2</th>\n",
       "      <td>2796 BRANCH ST</td>\n",
       "      <td>SACRAMENTO</td>\n",
       "      <td>2</td>\n",
       "      <td>1</td>\n",
       "      <td>796</td>\n",
       "      <td>Wed May 21 00:00:00 EDT 2008</td>\n",
       "      <td>68880</td>\n",
       "      <td>38.618305</td>\n",
       "      <td>-121.443839</td>\n",
       "      <td>0</td>\n",
       "      <td>...</td>\n",
       "      <td>0</td>\n",
       "      <td>0</td>\n",
       "      <td>0</td>\n",
       "      <td>0</td>\n",
       "      <td>0</td>\n",
       "      <td>1</td>\n",
       "      <td>0</td>\n",
       "      <td>0</td>\n",
       "      <td>0</td>\n",
       "      <td>0</td>\n",
       "    </tr>\n",
       "    <tr>\n",
       "      <th>3</th>\n",
       "      <td>2805 JANETTE WAY</td>\n",
       "      <td>SACRAMENTO</td>\n",
       "      <td>2</td>\n",
       "      <td>1</td>\n",
       "      <td>852</td>\n",
       "      <td>Wed May 21 00:00:00 EDT 2008</td>\n",
       "      <td>69307</td>\n",
       "      <td>38.616835</td>\n",
       "      <td>-121.439146</td>\n",
       "      <td>0</td>\n",
       "      <td>...</td>\n",
       "      <td>0</td>\n",
       "      <td>0</td>\n",
       "      <td>0</td>\n",
       "      <td>0</td>\n",
       "      <td>0</td>\n",
       "      <td>1</td>\n",
       "      <td>0</td>\n",
       "      <td>0</td>\n",
       "      <td>0</td>\n",
       "      <td>0</td>\n",
       "    </tr>\n",
       "    <tr>\n",
       "      <th>4</th>\n",
       "      <td>6001 MCMAHON DR</td>\n",
       "      <td>SACRAMENTO</td>\n",
       "      <td>2</td>\n",
       "      <td>1</td>\n",
       "      <td>797</td>\n",
       "      <td>Wed May 21 00:00:00 EDT 2008</td>\n",
       "      <td>81900</td>\n",
       "      <td>38.519470</td>\n",
       "      <td>-121.435768</td>\n",
       "      <td>0</td>\n",
       "      <td>...</td>\n",
       "      <td>0</td>\n",
       "      <td>0</td>\n",
       "      <td>0</td>\n",
       "      <td>0</td>\n",
       "      <td>0</td>\n",
       "      <td>1</td>\n",
       "      <td>0</td>\n",
       "      <td>0</td>\n",
       "      <td>0</td>\n",
       "      <td>0</td>\n",
       "    </tr>\n",
       "  </tbody>\n",
       "</table>\n",
       "<p>5 rows × 96 columns</p>\n",
       "</div>"
      ],
      "text/plain": [
       "             street        city  beds  baths  sq__ft  \\\n",
       "0      3526 HIGH ST  SACRAMENTO     2      1     836   \n",
       "1       51 OMAHA CT  SACRAMENTO     3      1    1167   \n",
       "2    2796 BRANCH ST  SACRAMENTO     2      1     796   \n",
       "3  2805 JANETTE WAY  SACRAMENTO     2      1     852   \n",
       "4   6001 MCMAHON DR  SACRAMENTO     2      1     797   \n",
       "\n",
       "                      sale_date  price   latitude   longitude  zip_95603  \\\n",
       "0  Wed May 21 00:00:00 EDT 2008  59222  38.631913 -121.434879          0   \n",
       "1  Wed May 21 00:00:00 EDT 2008  68212  38.478902 -121.431028          0   \n",
       "2  Wed May 21 00:00:00 EDT 2008  68880  38.618305 -121.443839          0   \n",
       "3  Wed May 21 00:00:00 EDT 2008  69307  38.616835 -121.439146          0   \n",
       "4  Wed May 21 00:00:00 EDT 2008  81900  38.519470 -121.435768          0   \n",
       "\n",
       "       ...       beds_cats_4  beds_cats_5  beds_cats_6  beds_cats_8  \\\n",
       "0      ...                 0            0            0            0   \n",
       "1      ...                 0            0            0            0   \n",
       "2      ...                 0            0            0            0   \n",
       "3      ...                 0            0            0            0   \n",
       "4      ...                 0            0            0            0   \n",
       "\n",
       "   baths_cats_0  baths_cats_1  baths_cats_2  baths_cats_3  baths_cats_4  \\\n",
       "0             0             1             0             0             0   \n",
       "1             0             1             0             0             0   \n",
       "2             0             1             0             0             0   \n",
       "3             0             1             0             0             0   \n",
       "4             0             1             0             0             0   \n",
       "\n",
       "   baths_cats_5  \n",
       "0             0  \n",
       "1             0  \n",
       "2             0  \n",
       "3             0  \n",
       "4             0  \n",
       "\n",
       "[5 rows x 96 columns]"
      ]
     },
     "execution_count": 17,
     "metadata": {},
     "output_type": "execute_result"
    }
   ],
   "source": [
    "df.head()"
   ]
  },
  {
   "cell_type": "markdown",
   "metadata": {},
   "source": [
    "## Experimental Setup\n",
    "\n",
    "Our goal is to build a predictive model.  Predictive models are applied to data where the outcome variable is unknown.  To accurately evaluate our model, we need to see how it performs on unseen data.  We simulate this by dividing our data set into two groups: a training set (75%) and a testing set (25%).  For this linear regression model, we'll use a simple scheme of random assignment.  "
   ]
  },
  {
   "cell_type": "code",
   "execution_count": 18,
   "metadata": {},
   "outputs": [
    {
     "name": "stdout",
     "output_type": "stream",
     "text": [
      "985 738 247\n"
     ]
    }
   ],
   "source": [
    "df_train, df_test = train_test_split(df)\n",
    "print(df.shape[0], df_train.shape[0], df_test.shape[0])"
   ]
  },
  {
   "cell_type": "code",
   "execution_count": 19,
   "metadata": {},
   "outputs": [],
   "source": [
    "y_train = df_train[\"price\"].values\n",
    "y_test = df_test[\"price\"].values"
   ]
  },
  {
   "cell_type": "markdown",
   "metadata": {},
   "source": [
    "## Comparing Beds and Baths as a Numerical Feature vs Categorical Feature\n",
    "\n",
    "Beds and Baths are both recorded as integers in our original dataset.  However, both variables contain a small number of values and could be interpreted as categorical variables.  Here, we demonstrate both how to use categorical variables by building on set of models where each variable is treated as continuous and a second set where the variables are treated as categorical.  By comparing these models, we see that the predictive power of some variables can be increased by changing their representation."
   ]
  },
  {
   "cell_type": "code",
   "execution_count": 20,
   "metadata": {},
   "outputs": [],
   "source": [
    "def create_feature_matrices(df_train, df_test, selected_columns, dummy_columns=None):\n",
    "    \"\"\"\n",
    "    Creates feature matrices for the training and testing sets from the given dataframes.\n",
    "    The feature matrices are built from the columns given in selected columns.\n",
    "    \"\"\"\n",
    "    \n",
    "    if dummy_columns is None:\n",
    "        dummy_columns = dict()\n",
    "    \n",
    "    # keep track of numerical features\n",
    "    numerical_trial_columns = []\n",
    "    \n",
    "    # keep track of dummy features for categorical variables\n",
    "    categorical_trial_columns = []\n",
    "    \n",
    "    # build feature lists\n",
    "    for col_name in selected_columns:\n",
    "        if col_name in dummy_columns:\n",
    "            categorical_trial_columns.extend(dummy_columns[col_name])\n",
    "        else:\n",
    "            numerical_trial_columns.append(col_name)\n",
    "\n",
    "    # transform numerical features\n",
    "    if len(numerical_trial_columns) > 0:\n",
    "        X_train_numerical = df_train[numerical_trial_columns].astype(\"float64\").values\n",
    "        X_test_numerical = df_test[numerical_trial_columns].astype(\"float64\").values\n",
    "    \n",
    "        imputer = Imputer(missing_values=0)\n",
    "        X_train_numerical = imputer.fit_transform(X_train_numerical)\n",
    "        X_test_numerical = imputer.transform(X_test_numerical)\n",
    "    \n",
    "        scaler = StandardScaler()\n",
    "        X_train_numerical = scaler.fit_transform(X_train_numerical)\n",
    "        X_test_numerical = scaler.transform(X_test_numerical)\n",
    "    \n",
    "    # select categorical features\n",
    "    if len(categorical_trial_columns) > 0:\n",
    "        X_train_categorical = df_train[categorical_trial_columns].astype(\"float64\").values\n",
    "        X_test_categorical = df_test[categorical_trial_columns].astype(\"float64\").values\n",
    "    \n",
    "    # concatenate feature matrices\n",
    "    if len(numerical_trial_columns) > 0 and len(categorical_trial_columns) > 0:\n",
    "        X_train = np.hstack([X_train_numerical, X_train_categorical])\n",
    "        X_test = np.hstack([X_test_numerical, X_test_categorical])\n",
    "    elif len(numerical_trial_columns) > 0:\n",
    "        X_train = X_train_numerical\n",
    "        X_test = X_test_numerical\n",
    "    else:\n",
    "        X_train = X_train_categorical\n",
    "        X_test = X_test_categorical\n",
    "        \n",
    "    return X_train, X_test"
   ]
  },
  {
   "cell_type": "code",
   "execution_count": 21,
   "metadata": {},
   "outputs": [
    {
     "name": "stdout",
     "output_type": "stream",
     "text": [
      "Null Model MSE: 19659807000.744835\n",
      "Null Model RMSE: 140213.43373851464\n"
     ]
    }
   ],
   "source": [
    "zeros_train = np.zeros(df_train.shape)\n",
    "zeros_test = np.zeros(df_test.shape)\n",
    "null_lr = SGDRegressor(max_iter=2000)\n",
    "null_lr.fit(zeros_train, y_train)\n",
    "pred_prices_null_test = null_lr.predict(zeros_test)\n",
    "null_mse = mean_squared_error(y_test, pred_prices_null_test)\n",
    "null_rmse = np.sqrt(null_mse)\n",
    "\n",
    "print(\"Null Model MSE:\", null_mse)\n",
    "print(\"Null Model RMSE:\", null_rmse)"
   ]
  },
  {
   "cell_type": "code",
   "execution_count": 22,
   "metadata": {},
   "outputs": [
    {
     "name": "stdout",
     "output_type": "stream",
     "text": [
      "Beds Model MSE: 16942138033.274302\n",
      "Beds Model RMSE: 130161.96845958616\n"
     ]
    }
   ],
   "source": [
    "beds_train, beds_test = create_feature_matrices(df_train, df_test, [\"beds\"], dummy_columns)\n",
    "\n",
    "beds_lr = SGDRegressor(max_iter=5000)\n",
    "beds_lr.fit(beds_train, y_train)\n",
    "pred_prices_beds_test = beds_lr.predict(beds_test)\n",
    "beds_mse = mean_squared_error(y_test, pred_prices_beds_test)\n",
    "beds_rmse = np.sqrt(beds_mse)\n",
    "\n",
    "print(\"Beds Model MSE:\", beds_mse)\n",
    "print(\"Beds Model RMSE:\", beds_rmse)"
   ]
  },
  {
   "cell_type": "code",
   "execution_count": 23,
   "metadata": {},
   "outputs": [
    {
     "name": "stdout",
     "output_type": "stream",
     "text": [
      "Beds Categories Model MSE: 17801547816.30119\n",
      "Beds Categories Model RMSE: 133422.44120200016\n"
     ]
    }
   ],
   "source": [
    "beds_cats_train, beds_cats_test = create_feature_matrices(df_train, df_test, [\"beds_cats\"], dummy_columns)\n",
    "\n",
    "beds_cats_lr = SGDRegressor(max_iter=5000)\n",
    "beds_cats_lr.fit(beds_cats_train, y_train)\n",
    "pred_prices_beds_cats_test = beds_cats_lr.predict(beds_cats_test)\n",
    "beds_cats_mse = mean_squared_error(y_test, pred_prices_beds_cats_test)\n",
    "beds_cats_rmse = np.sqrt(beds_cats_mse)\n",
    "\n",
    "print(\"Beds Categories Model MSE:\", beds_cats_mse)\n",
    "print(\"Beds Categories Model RMSE:\", beds_cats_rmse)"
   ]
  },
  {
   "cell_type": "code",
   "execution_count": 24,
   "metadata": {},
   "outputs": [
    {
     "name": "stdout",
     "output_type": "stream",
     "text": [
      "Baths Model MSE: 15776538646.264917\n",
      "Baths Model RMSE: 125604.69197551864\n"
     ]
    }
   ],
   "source": [
    "baths_train, baths_test = create_feature_matrices(df_train, df_test, [\"baths\"], dummy_columns)\n",
    "\n",
    "baths_lr = SGDRegressor(max_iter=5000)\n",
    "baths_lr.fit(baths_train, y_train)\n",
    "pred_prices_baths_test = baths_lr.predict(baths_test)\n",
    "baths_mse = mean_squared_error(y_test, pred_prices_baths_test)\n",
    "baths_rmse = np.sqrt(baths_mse)\n",
    "\n",
    "print(\"Baths Model MSE:\", baths_mse)\n",
    "print(\"Baths Model RMSE:\", baths_rmse)"
   ]
  },
  {
   "cell_type": "code",
   "execution_count": 25,
   "metadata": {},
   "outputs": [
    {
     "name": "stdout",
     "output_type": "stream",
     "text": [
      "Baths Categories Model MSE: 14480155042.240171\n",
      "Baths Categories Model RMSE: 120333.5158725123\n"
     ]
    }
   ],
   "source": [
    "baths_cats_train, baths_cats_test = create_feature_matrices(df_train, df_test, [\"baths_cats\"], dummy_columns)\n",
    "\n",
    "baths_cats_lr = SGDRegressor(max_iter=5000)\n",
    "baths_cats_lr.fit(baths_cats_train, y_train)\n",
    "pred_prices_baths_cats_test = baths_cats_lr.predict(baths_cats_test)\n",
    "baths_cats_mse = mean_squared_error(y_test, pred_prices_baths_cats_test)\n",
    "baths_cats_rmse = np.sqrt(baths_cats_mse)\n",
    "\n",
    "print(\"Baths Categories Model MSE:\", baths_cats_mse)\n",
    "print(\"Baths Categories Model RMSE:\", baths_cats_rmse)"
   ]
  },
  {
   "cell_type": "markdown",
   "metadata": {},
   "source": [
    "## Greedy Algorithm for Continuous Features\n",
    "\n",
    "Here, we present a greedy algorithm for picking the features to include in a model.  The greedy algorithm for building a model has three phases:\n",
    "\n",
    "1. We build a simple linear regression model for each variable.  We use this model to determine the predictive power of each variable independent of the others.  For each model, we compute the RMSE of the model.\n",
    "2. We use the RMSEs of the models to sort the variables from lowest error to highest error.\n",
    "3. We build a new model using a greedy algorithm:\n",
    "  1. Initialize current model to a \"null\" model only containing an intercept\n",
    "  2. For each variable:\n",
    "     1. Create a new model by adding the variable to the current model\n",
    "     2. If the RMSE of the new model is lower than the current model, replace the current model with the new model\n",
    "     3. If the RMSE of the new model is not better, discard the variable"
   ]
  },
  {
   "cell_type": "code",
   "execution_count": 26,
   "metadata": {},
   "outputs": [],
   "source": [
    "def sort_columns(df_train, df_test, y_train, y_test, all_columns, dummy_columns=None):\n",
    "    column_rmses = []\n",
    "\n",
    "    for col_name in all_columns:\n",
    "        X_train, X_test = create_feature_matrices(df_train,\n",
    "                                                 df_test,\n",
    "                                                 [col_name],\n",
    "                                                 dummy_columns=dummy_columns)\n",
    "    \n",
    "        simple_lr = SGDRegressor(max_iter=5000)\n",
    "        simple_lr.fit(X_train, y_train)\n",
    "        pred_prices_simple_test = simple_lr.predict(X_test)\n",
    "        simple_mse = mean_squared_error(y_test, pred_prices_simple_test)\n",
    "        simple_rmse = np.sqrt(simple_mse)\n",
    "        print()\n",
    "        print(col_name + \" Model MSE:\", simple_mse)\n",
    "        print(col_name + \" Model RMSE:\", simple_rmse)\n",
    "        column_rmses.append((simple_rmse, col_name))\n",
    "    \n",
    "    column_rmses.sort(key=lambda p: p[0])\n",
    "    sorted_columns = [col_name for _, col_name in column_rmses]\n",
    "    print()\n",
    "    print(\"Sorted columns:\" + str(sorted_columns))\n",
    "    \n",
    "    return sorted_columns"
   ]
  },
  {
   "cell_type": "code",
   "execution_count": 27,
   "metadata": {},
   "outputs": [
    {
     "name": "stdout",
     "output_type": "stream",
     "text": [
      "\n",
      "beds Model MSE: 16942111298.992977\n",
      "beds Model RMSE: 130161.86576333706\n",
      "\n",
      "baths Model MSE: 15777658512.8305\n",
      "baths Model RMSE: 125609.14979741922\n",
      "\n",
      "sq__ft Model MSE: 13478369428.322561\n",
      "sq__ft Model RMSE: 116096.37991049748\n",
      "\n",
      "latitude Model MSE: 19589696642.89999\n",
      "latitude Model RMSE: 139963.19745883197\n",
      "\n",
      "longitude Model MSE: 19663459231.195225\n",
      "longitude Model RMSE: 140226.4569587181\n",
      "\n",
      "zip Model MSE: 11831315811.483418\n",
      "zip Model RMSE: 108771.85211020091\n",
      "\n",
      "type Model MSE: 19517506841.062057\n",
      "type Model RMSE: 139705.0709210731\n",
      "\n",
      "state Model MSE: 19659756472.9029\n",
      "state Model RMSE: 140213.25355651262\n",
      "\n",
      "beds_cats Model MSE: 17803720201.495342\n",
      "beds_cats Model RMSE: 133430.58195741838\n",
      "\n",
      "baths_cats Model MSE: 14481201473.162283\n",
      "baths_cats Model RMSE: 120337.86383828775\n",
      "\n",
      "Sorted columns:['zip', 'sq__ft', 'baths_cats', 'baths', 'beds', 'beds_cats', 'type', 'latitude', 'state', 'longitude']\n"
     ]
    }
   ],
   "source": [
    "sorted_columns = sort_columns(df_train, df_test, y_train, y_test, all_columns, dummy_columns=dummy_columns)"
   ]
  },
  {
   "cell_type": "code",
   "execution_count": 28,
   "metadata": {},
   "outputs": [],
   "source": [
    "def select_features(df_train, df_test, y_train, y_test, sorted_columns, dummy_columns=None):\n",
    "    lr = SGDRegressor(max_iter=5000)\n",
    "    \n",
    "    train_zeros = np.zeros((y_train.shape[0], 1))\n",
    "    test_zeros = np.zeros((y_test.shape[0], 1))\n",
    "    lr.fit(train_zeros, y_train)\n",
    "    pred_y_test = lr.predict(test_zeros)\n",
    "    \n",
    "    null_mse = mean_squared_error(y_test, pred_y_test)\n",
    "    null_rmse = np.sqrt(null_mse)\n",
    "    \n",
    "    base_model_columns = []\n",
    "    base_rmse = null_rmse\n",
    "    base_mse = null_mse\n",
    "\n",
    "    print(\"Base Model MSE:\", base_mse)\n",
    "    print(\"Base Model RMSE:\", base_rmse)\n",
    "    print()\n",
    "\n",
    "    for col_name in sorted_columns:\n",
    "        # track all column names\n",
    "        trial_columns = base_model_columns[:]\n",
    "        trial_columns.append(col_name)\n",
    "\n",
    "        X_train, X_test = create_feature_matrices(df_train,\n",
    "                                                  df_test,\n",
    "                                                  trial_columns,\n",
    "                                                  dummy_columns=dummy_columns)\n",
    "    \n",
    "        lr = SGDRegressor(max_iter=5000)\n",
    "        lr.fit(X_train, y_train)\n",
    "        pred_y_test = lr.predict(X_test)\n",
    "        trial_mse = mean_squared_error(y_test, pred_y_test)\n",
    "        trial_rmse = np.sqrt(trial_mse)\n",
    "        print()\n",
    "        print(str(trial_columns) + \" Model MSE:\", trial_mse)\n",
    "        print(str(trial_columns) + \" Model RMSE:\", trial_rmse)\n",
    "    \n",
    "        if trial_rmse < base_rmse:\n",
    "            print(\"Updating base model\")\n",
    "            base_rmse = trial_rmse\n",
    "            base_mse = trial_mse\n",
    "            base_model_columns = trial_columns\n",
    "        \n",
    "        print()\n",
    "        print(\"Base Model MSE:\", base_mse)\n",
    "        print(\"Base Model RMSE:\", base_rmse)\n",
    "        print()\n",
    "    \n",
    "    print(\"Our chosen columns are: \" + str(base_model_columns))\n",
    "    return base_model_columns"
   ]
  },
  {
   "cell_type": "code",
   "execution_count": 29,
   "metadata": {},
   "outputs": [
    {
     "name": "stdout",
     "output_type": "stream",
     "text": [
      "Base Model MSE: 19659865232.77058\n",
      "Base Model RMSE: 140213.64139330588\n",
      "\n",
      "\n",
      "['zip'] Model MSE: 11831159350.968374\n",
      "['zip'] Model RMSE: 108771.1328936514\n",
      "Updating base model\n",
      "\n",
      "Base Model MSE: 11831159350.968374\n",
      "Base Model RMSE: 108771.1328936514\n",
      "\n",
      "\n",
      "['zip', 'sq__ft'] Model MSE: 8648110191.497065\n",
      "['zip', 'sq__ft'] Model RMSE: 92995.21596026896\n",
      "Updating base model\n",
      "\n",
      "Base Model MSE: 8648110191.497065\n",
      "Base Model RMSE: 92995.21596026896\n",
      "\n",
      "\n",
      "['zip', 'sq__ft', 'baths_cats'] Model MSE: 8331113852.799097\n",
      "['zip', 'sq__ft', 'baths_cats'] Model RMSE: 91274.93551243462\n",
      "Updating base model\n",
      "\n",
      "Base Model MSE: 8331113852.799097\n",
      "Base Model RMSE: 91274.93551243462\n",
      "\n",
      "\n",
      "['zip', 'sq__ft', 'baths_cats', 'baths'] Model MSE: 8364488586.201882\n",
      "['zip', 'sq__ft', 'baths_cats', 'baths'] Model RMSE: 91457.57806875209\n",
      "\n",
      "Base Model MSE: 8331113852.799097\n",
      "Base Model RMSE: 91274.93551243462\n",
      "\n",
      "\n",
      "['zip', 'sq__ft', 'baths_cats', 'beds'] Model MSE: 8298140911.267707\n",
      "['zip', 'sq__ft', 'baths_cats', 'beds'] Model RMSE: 91094.13214509323\n",
      "Updating base model\n",
      "\n",
      "Base Model MSE: 8298140911.267707\n",
      "Base Model RMSE: 91094.13214509323\n",
      "\n",
      "\n",
      "['zip', 'sq__ft', 'baths_cats', 'beds', 'beds_cats'] Model MSE: 8780493536.119091\n",
      "['zip', 'sq__ft', 'baths_cats', 'beds', 'beds_cats'] Model RMSE: 93704.287714699\n",
      "\n",
      "Base Model MSE: 8298140911.267707\n",
      "Base Model RMSE: 91094.13214509323\n",
      "\n",
      "\n",
      "['zip', 'sq__ft', 'baths_cats', 'beds', 'type'] Model MSE: 8163923355.497897\n",
      "['zip', 'sq__ft', 'baths_cats', 'beds', 'type'] Model RMSE: 90354.43185310777\n",
      "Updating base model\n",
      "\n",
      "Base Model MSE: 8163923355.497897\n",
      "Base Model RMSE: 90354.43185310777\n",
      "\n",
      "\n",
      "['zip', 'sq__ft', 'baths_cats', 'beds', 'type', 'latitude'] Model MSE: 8143125714.368024\n",
      "['zip', 'sq__ft', 'baths_cats', 'beds', 'type', 'latitude'] Model RMSE: 90239.26924775058\n",
      "Updating base model\n",
      "\n",
      "Base Model MSE: 8143125714.368024\n",
      "Base Model RMSE: 90239.26924775058\n",
      "\n",
      "\n",
      "['zip', 'sq__ft', 'baths_cats', 'beds', 'type', 'latitude', 'state'] Model MSE: 8145532891.661547\n",
      "['zip', 'sq__ft', 'baths_cats', 'beds', 'type', 'latitude', 'state'] Model RMSE: 90252.60601036153\n",
      "\n",
      "Base Model MSE: 8143125714.368024\n",
      "Base Model RMSE: 90239.26924775058\n",
      "\n",
      "\n",
      "['zip', 'sq__ft', 'baths_cats', 'beds', 'type', 'latitude', 'longitude'] Model MSE: 8301020717.93106\n",
      "['zip', 'sq__ft', 'baths_cats', 'beds', 'type', 'latitude', 'longitude'] Model RMSE: 91109.93753664338\n",
      "\n",
      "Base Model MSE: 8143125714.368024\n",
      "Base Model RMSE: 90239.26924775058\n",
      "\n",
      "Our chosen columns are: ['zip', 'sq__ft', 'baths_cats', 'beds', 'type', 'latitude']\n"
     ]
    }
   ],
   "source": [
    "selected_columns = select_features(df_train, df_test, y_train, y_test, sorted_columns, dummy_columns=dummy_columns)"
   ]
  },
  {
   "cell_type": "code",
   "execution_count": 30,
   "metadata": {},
   "outputs": [
    {
     "name": "stdout",
     "output_type": "stream",
     "text": [
      "(738, 81) (247, 81)\n",
      "\n",
      "Model MSE: 8142479708.882816\n",
      "Model RMSE: 90235.68977340848\n"
     ]
    }
   ],
   "source": [
    "X_train, X_test = create_feature_matrices(df_train, df_test, selected_columns, dummy_columns=dummy_columns)\n",
    "\n",
    "print(X_train.shape, X_test.shape)\n",
    "\n",
    "lr = SGDRegressor(max_iter=5000)\n",
    "lr.fit(X_train, y_train)\n",
    "pred_prices_test = lr.predict(X_test)\n",
    "\n",
    "mse = mean_squared_error(y_test, pred_prices_test)\n",
    "rmse = np.sqrt(mse)\n",
    "print()\n",
    "print(\"Model MSE:\", mse)\n",
    "print(\"Model RMSE:\", rmse)"
   ]
  },
  {
   "cell_type": "code",
   "execution_count": 31,
   "metadata": {},
   "outputs": [
    {
     "data": {
      "text/plain": [
       "Text(0,0.5,'Predicted Price')"
      ]
     },
     "execution_count": 31,
     "metadata": {},
     "output_type": "execute_result"
    },
    {
     "data": {
      "image/png": "[encoded data removed]",
      "text/plain": [
       "<Figure size 432x288 with 1 Axes>"
      ]
     },
     "metadata": {},
     "output_type": "display_data"
    }
   ],
   "source": [
    "sns.regplot(x=y_test, y=pred_prices_test, fit_reg=False)\n",
    "plt.plot([0, np.max(y_test)], [0, np.max(pred_prices_test)])\n",
    "plt.xlabel(\"True Price\", fontsize=16)\n",
    "plt.ylabel(\"Predicted Price\", fontsize=16)"
   ]
  },
  {
   "cell_type": "markdown",
   "metadata": {},
   "source": [
    "## All Variables\n",
    "\n",
    "Lastly, let's build a model containing all of the variables and compare to our model that uses feature selection."
   ]
  },
  {
   "cell_type": "code",
   "execution_count": 32,
   "metadata": {},
   "outputs": [
    {
     "name": "stdout",
     "output_type": "stream",
     "text": [
      "(738, 92) (247, 92)\n",
      "\n",
      "Model MSE: 8416551234.136207\n",
      "Model RMSE: 91741.76384905736\n"
     ]
    }
   ],
   "source": [
    "X_train, X_test = create_feature_matrices(df_train, df_test, all_columns, dummy_columns=dummy_columns)\n",
    "\n",
    "print(X_train.shape, X_test.shape)\n",
    "\n",
    "lr = SGDRegressor(max_iter=5000)\n",
    "lr.fit(X_train, y_train)\n",
    "pred_prices_test = lr.predict(X_test)\n",
    "\n",
    "mse = mean_squared_error(y_test, pred_prices_test)\n",
    "rmse = np.sqrt(mse)\n",
    "print()\n",
    "print(\"Model MSE:\", mse)\n",
    "print(\"Model RMSE:\", rmse)"
   ]
  },
  {
   "cell_type": "code",
   "execution_count": 33,
   "metadata": {},
   "outputs": [
    {
     "data": {
      "text/plain": [
       "Text(0,0.5,'Predicted Price')"
      ]
     },
     "execution_count": 33,
     "metadata": {},
     "output_type": "execute_result"
    },
    {
     "data": {
      "image/png": "[encoded data removed]",
      "text/plain": [
       "<Figure size 432x288 with 1 Axes>"
      ]
     },
     "metadata": {},
     "output_type": "display_data"
    }
   ],
   "source": [
    "sns.regplot(x=y_test, y=pred_prices_test, fit_reg=False)\n",
    "plt.plot([0, np.max(y_test)], [0, np.max(pred_prices_test)])\n",
    "plt.xlabel(\"True Price\", fontsize=16)\n",
    "plt.ylabel(\"Predicted Price\", fontsize=16)"
   ]
  },
  {
   "cell_type": "code",
   "execution_count": null,
   "metadata": {},
   "outputs": [],
   "source": []
  }
 ],
 "metadata": {
  "kernelspec": {
   "display_name": "Python 3",
   "language": "python",
   "name": "python3"
  },
  "language_info": {
   "codemirror_mode": {
    "name": "ipython",
    "version": 3
   },
   "file_extension": ".py",
   "mimetype": "text/x-python",
   "name": "python",
   "nbconvert_exporter": "python",
   "pygments_lexer": "ipython3",
   "version": "3.6.5"
  }
 },
 "nbformat": 4,
 "nbformat_minor": 2
}
