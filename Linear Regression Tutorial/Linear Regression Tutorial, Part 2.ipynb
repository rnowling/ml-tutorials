{
 "cells": [
  {
   "cell_type": "markdown",
   "metadata": {},
   "source": [
    "## Linear Regression Tutorial, Part 2: Multiple Linear Regression\n",
    "\n",
    "RJ Nowling\n",
    "\n",
    "In part 1 of this Linear Regression tutorial, we built a simple linear regression model using the squared footage of real eastate to predict the prices of transactions.  when we compared the simple model to a base model that used only an average price, we saw the root-mean square error decrease from by about \\$20,000.  In part 2 of this tutorial, we're going to build a multiple linear regression model that incorporates all of the numerical variables.\n",
    "\n",
    "We'll start by importing the various libraries we'll need."
   ]
  },
  {
   "cell_type": "code",
   "execution_count": 1,
   "metadata": {},
   "outputs": [],
   "source": [
    "import numpy as np\n",
    "import pandas as pd\n",
    "import matplotlib.pyplot as plt\n",
    "import seaborn as sns\n",
    "\n",
    "from sklearn.linear_model import SGDRegressor\n",
    "from sklearn.metrics import mean_squared_error\n",
    "from sklearn.model_selection import train_test_split\n",
    "from sklearn.preprocessing import Imputer\n",
    "from sklearn.preprocessing import StandardScaler\n",
    "\n",
    "%matplotlib inline"
   ]
  },
  {
   "cell_type": "markdown",
   "metadata": {},
   "source": [
    "### Load and Clean Data\n",
    "\n",
    "Before we can build any models, we need to import the data and clean it by converting types as necessary."
   ]
  },
  {
   "cell_type": "code",
   "execution_count": 2,
   "metadata": {},
   "outputs": [],
   "source": [
    "df = pd.read_csv(\"Sacramentorealestatetransactions.csv\")"
   ]
  },
  {
   "cell_type": "code",
   "execution_count": 3,
   "metadata": {},
   "outputs": [
    {
     "data": {
      "text/html": [
       "<div>\n",
       "<style scoped>\n",
       "    .dataframe tbody tr th:only-of-type {\n",
       "        vertical-align: middle;\n",
       "    }\n",
       "\n",
       "    .dataframe tbody tr th {\n",
       "        vertical-align: top;\n",
       "    }\n",
       "\n",
       "    .dataframe thead th {\n",
       "        text-align: right;\n",
       "    }\n",
       "</style>\n",
       "<table border=\"1\" class=\"dataframe\">\n",
       "  <thead>\n",
       "    <tr style=\"text-align: right;\">\n",
       "      <th></th>\n",
       "      <th>street</th>\n",
       "      <th>city</th>\n",
       "      <th>zip</th>\n",
       "      <th>state</th>\n",
       "      <th>beds</th>\n",
       "      <th>baths</th>\n",
       "      <th>sq__ft</th>\n",
       "      <th>type</th>\n",
       "      <th>sale_date</th>\n",
       "      <th>price</th>\n",
       "      <th>latitude</th>\n",
       "      <th>longitude</th>\n",
       "    </tr>\n",
       "  </thead>\n",
       "  <tbody>\n",
       "    <tr>\n",
       "      <th>0</th>\n",
       "      <td>3526 HIGH ST</td>\n",
       "      <td>SACRAMENTO</td>\n",
       "      <td>95838</td>\n",
       "      <td>CA</td>\n",
       "      <td>2</td>\n",
       "      <td>1</td>\n",
       "      <td>836</td>\n",
       "      <td>Residential</td>\n",
       "      <td>Wed May 21 00:00:00 EDT 2008</td>\n",
       "      <td>59222</td>\n",
       "      <td>38.631913</td>\n",
       "      <td>-121.434879</td>\n",
       "    </tr>\n",
       "    <tr>\n",
       "      <th>1</th>\n",
       "      <td>51 OMAHA CT</td>\n",
       "      <td>SACRAMENTO</td>\n",
       "      <td>95823</td>\n",
       "      <td>CA</td>\n",
       "      <td>3</td>\n",
       "      <td>1</td>\n",
       "      <td>1167</td>\n",
       "      <td>Residential</td>\n",
       "      <td>Wed May 21 00:00:00 EDT 2008</td>\n",
       "      <td>68212</td>\n",
       "      <td>38.478902</td>\n",
       "      <td>-121.431028</td>\n",
       "    </tr>\n",
       "    <tr>\n",
       "      <th>2</th>\n",
       "      <td>2796 BRANCH ST</td>\n",
       "      <td>SACRAMENTO</td>\n",
       "      <td>95815</td>\n",
       "      <td>CA</td>\n",
       "      <td>2</td>\n",
       "      <td>1</td>\n",
       "      <td>796</td>\n",
       "      <td>Residential</td>\n",
       "      <td>Wed May 21 00:00:00 EDT 2008</td>\n",
       "      <td>68880</td>\n",
       "      <td>38.618305</td>\n",
       "      <td>-121.443839</td>\n",
       "    </tr>\n",
       "    <tr>\n",
       "      <th>3</th>\n",
       "      <td>2805 JANETTE WAY</td>\n",
       "      <td>SACRAMENTO</td>\n",
       "      <td>95815</td>\n",
       "      <td>CA</td>\n",
       "      <td>2</td>\n",
       "      <td>1</td>\n",
       "      <td>852</td>\n",
       "      <td>Residential</td>\n",
       "      <td>Wed May 21 00:00:00 EDT 2008</td>\n",
       "      <td>69307</td>\n",
       "      <td>38.616835</td>\n",
       "      <td>-121.439146</td>\n",
       "    </tr>\n",
       "    <tr>\n",
       "      <th>4</th>\n",
       "      <td>6001 MCMAHON DR</td>\n",
       "      <td>SACRAMENTO</td>\n",
       "      <td>95824</td>\n",
       "      <td>CA</td>\n",
       "      <td>2</td>\n",
       "      <td>1</td>\n",
       "      <td>797</td>\n",
       "      <td>Residential</td>\n",
       "      <td>Wed May 21 00:00:00 EDT 2008</td>\n",
       "      <td>81900</td>\n",
       "      <td>38.519470</td>\n",
       "      <td>-121.435768</td>\n",
       "    </tr>\n",
       "  </tbody>\n",
       "</table>\n",
       "</div>"
      ],
      "text/plain": [
       "             street        city    zip state  beds  baths  sq__ft  \\\n",
       "0      3526 HIGH ST  SACRAMENTO  95838    CA     2      1     836   \n",
       "1       51 OMAHA CT  SACRAMENTO  95823    CA     3      1    1167   \n",
       "2    2796 BRANCH ST  SACRAMENTO  95815    CA     2      1     796   \n",
       "3  2805 JANETTE WAY  SACRAMENTO  95815    CA     2      1     852   \n",
       "4   6001 MCMAHON DR  SACRAMENTO  95824    CA     2      1     797   \n",
       "\n",
       "          type                     sale_date  price   latitude   longitude  \n",
       "0  Residential  Wed May 21 00:00:00 EDT 2008  59222  38.631913 -121.434879  \n",
       "1  Residential  Wed May 21 00:00:00 EDT 2008  68212  38.478902 -121.431028  \n",
       "2  Residential  Wed May 21 00:00:00 EDT 2008  68880  38.618305 -121.443839  \n",
       "3  Residential  Wed May 21 00:00:00 EDT 2008  69307  38.616835 -121.439146  \n",
       "4  Residential  Wed May 21 00:00:00 EDT 2008  81900  38.519470 -121.435768  "
      ]
     },
     "execution_count": 3,
     "metadata": {},
     "output_type": "execute_result"
    }
   ],
   "source": [
    "df.head()"
   ]
  },
  {
   "cell_type": "code",
   "execution_count": 4,
   "metadata": {},
   "outputs": [
    {
     "data": {
      "text/plain": [
       "street        object\n",
       "city          object\n",
       "zip            int64\n",
       "state         object\n",
       "beds           int64\n",
       "baths          int64\n",
       "sq__ft         int64\n",
       "type          object\n",
       "sale_date     object\n",
       "price          int64\n",
       "latitude     float64\n",
       "longitude    float64\n",
       "dtype: object"
      ]
     },
     "execution_count": 4,
     "metadata": {},
     "output_type": "execute_result"
    }
   ],
   "source": [
    "df.dtypes"
   ]
  },
  {
   "cell_type": "markdown",
   "metadata": {},
   "source": [
    "For this part of the tutorial, we're only going to use the numerical variables, so we don't need to transform anything right now.  Let's check if there are any records missing a value for this field."
   ]
  },
  {
   "cell_type": "code",
   "execution_count": 5,
   "metadata": {},
   "outputs": [
    {
     "name": "stdout",
     "output_type": "stream",
     "text": [
      "beds 0\n",
      "baths 0\n",
      "sq__ft 0\n",
      "latitude 0\n",
      "longitude 0\n"
     ]
    }
   ],
   "source": [
    "numerical_columns = [\"beds\", \"baths\", \"sq__ft\", \"latitude\", \"longitude\"]\n",
    "for col_name in numerical_columns:\n",
    "    print(col_name, df[col_name].isnull().sum())"
   ]
  },
  {
   "cell_type": "markdown",
   "metadata": {},
   "source": [
    "The data doesn't appear to have any missing data.  Let's check the histogram just to make sure."
   ]
  },
  {
   "cell_type": "code",
   "execution_count": 6,
   "metadata": {},
   "outputs": [
    {
     "name": "stderr",
     "output_type": "stream",
     "text": [
      "C:\\Users\\nowling\\AppData\\Local\\Continuum\\anaconda3\\lib\\site-packages\\matplotlib\\axes\\_axes.py:6462: UserWarning: The 'normed' kwarg is deprecated, and has been replaced by the 'density' kwarg.\n",
      "  warnings.warn(\"The 'normed' kwarg is deprecated, and has been \"\n"
     ]
    },
    {
     "data": {
      "text/plain": [
       "<matplotlib.axes._subplots.AxesSubplot at 0x22eac5470f0>"
      ]
     },
     "execution_count": 6,
     "metadata": {},
     "output_type": "execute_result"
    },
    {
     "data": {
      "image/png": "[encoded data removed]",
      "text/plain": [
       "<Figure size 432x288 with 1 Axes>"
      ]
     },
     "metadata": {},
     "output_type": "display_data"
    }
   ],
   "source": [
    "sns.distplot(df[\"sq__ft\"], kde=False)"
   ]
  },
  {
   "cell_type": "code",
   "execution_count": 7,
   "metadata": {},
   "outputs": [
    {
     "name": "stderr",
     "output_type": "stream",
     "text": [
      "C:\\Users\\nowling\\AppData\\Local\\Continuum\\anaconda3\\lib\\site-packages\\matplotlib\\axes\\_axes.py:6462: UserWarning: The 'normed' kwarg is deprecated, and has been replaced by the 'density' kwarg.\n",
      "  warnings.warn(\"The 'normed' kwarg is deprecated, and has been \"\n"
     ]
    },
    {
     "data": {
      "text/plain": [
       "<matplotlib.axes._subplots.AxesSubplot at 0x22eac97a940>"
      ]
     },
     "execution_count": 7,
     "metadata": {},
     "output_type": "execute_result"
    },
    {
     "data": {
      "image/png": "[encoded data removed]",
      "text/plain": [
       "<Figure size 432x288 with 1 Axes>"
      ]
     },
     "metadata": {},
     "output_type": "display_data"
    }
   ],
   "source": [
    "sns.distplot(df[\"beds\"], kde=False)"
   ]
  },
  {
   "cell_type": "code",
   "execution_count": 8,
   "metadata": {},
   "outputs": [
    {
     "name": "stderr",
     "output_type": "stream",
     "text": [
      "C:\\Users\\nowling\\AppData\\Local\\Continuum\\anaconda3\\lib\\site-packages\\matplotlib\\axes\\_axes.py:6462: UserWarning: The 'normed' kwarg is deprecated, and has been replaced by the 'density' kwarg.\n",
      "  warnings.warn(\"The 'normed' kwarg is deprecated, and has been \"\n"
     ]
    },
    {
     "data": {
      "text/plain": [
       "<matplotlib.axes._subplots.AxesSubplot at 0x22eaca256a0>"
      ]
     },
     "execution_count": 8,
     "metadata": {},
     "output_type": "execute_result"
    },
    {
     "data": {
      "image/png": "[encoded data removed]",
      "text/plain": [
       "<Figure size 432x288 with 1 Axes>"
      ]
     },
     "metadata": {},
     "output_type": "display_data"
    }
   ],
   "source": [
    "sns.distplot(df[\"baths\"], kde=False)"
   ]
  },
  {
   "cell_type": "code",
   "execution_count": 9,
   "metadata": {},
   "outputs": [
    {
     "name": "stderr",
     "output_type": "stream",
     "text": [
      "C:\\Users\\nowling\\AppData\\Local\\Continuum\\anaconda3\\lib\\site-packages\\matplotlib\\axes\\_axes.py:6462: UserWarning: The 'normed' kwarg is deprecated, and has been replaced by the 'density' kwarg.\n",
      "  warnings.warn(\"The 'normed' kwarg is deprecated, and has been \"\n"
     ]
    },
    {
     "data": {
      "text/plain": [
       "<matplotlib.axes._subplots.AxesSubplot at 0x22eacaacba8>"
      ]
     },
     "execution_count": 9,
     "metadata": {},
     "output_type": "execute_result"
    },
    {
     "data": {
      "image/png": "[encoded data removed]",
      "text/plain": [
       "<Figure size 432x288 with 1 Axes>"
      ]
     },
     "metadata": {},
     "output_type": "display_data"
    }
   ],
   "source": [
    "sns.distplot(df[\"latitude\"], kde=False)"
   ]
  },
  {
   "cell_type": "code",
   "execution_count": 10,
   "metadata": {},
   "outputs": [
    {
     "name": "stderr",
     "output_type": "stream",
     "text": [
      "C:\\Users\\nowling\\AppData\\Local\\Continuum\\anaconda3\\lib\\site-packages\\matplotlib\\axes\\_axes.py:6462: UserWarning: The 'normed' kwarg is deprecated, and has been replaced by the 'density' kwarg.\n",
      "  warnings.warn(\"The 'normed' kwarg is deprecated, and has been \"\n"
     ]
    },
    {
     "data": {
      "text/plain": [
       "<matplotlib.axes._subplots.AxesSubplot at 0x22eaca6fc50>"
      ]
     },
     "execution_count": 10,
     "metadata": {},
     "output_type": "execute_result"
    },
    {
     "data": {
      "image/png": "[encoded data removed]",
      "text/plain": [
       "<Figure size 432x288 with 1 Axes>"
      ]
     },
     "metadata": {},
     "output_type": "display_data"
    }
   ],
   "source": [
    "sns.distplot(df[\"longitude\"], kde=False)"
   ]
  },
  {
   "cell_type": "markdown",
   "metadata": {},
   "source": [
    "Latitude and longitude don't seem to have any zero values. Some properties have 0 bedrooms and bathrooms but that may not be abnormal since our data set includes commercial real estate as well as residential real estate.  We're not gonna handle this now -- we'll handle it later on."
   ]
  },
  {
   "cell_type": "markdown",
   "metadata": {},
   "source": [
    "## Experimental Setup\n",
    "\n",
    "Our goal is to build a predictive model.  Predictive models are applied to data where the outcome variable is unknown.  To accurately evaluate our model, we need to see how it performs on unseen data.  We simulate this by dividing our data set into two groups: a training set (75%) and a testing set (25%).  For this linear regression model, we'll use a simple scheme of random assignment.  "
   ]
  },
  {
   "cell_type": "code",
   "execution_count": 11,
   "metadata": {},
   "outputs": [
    {
     "name": "stdout",
     "output_type": "stream",
     "text": [
      "985 738 247\n"
     ]
    }
   ],
   "source": [
    "df_train, df_test = train_test_split(df)\n",
    "print(df.shape[0], df_train.shape[0], df_test.shape[0])"
   ]
  },
  {
   "cell_type": "markdown",
   "metadata": {},
   "source": [
    "## Multiple Linear Regression Model\n",
    "\n",
    "Now, we will fit a multiple linear regression model.  A multiple linear regression model has a multiple variables in it:\n",
    "\n",
    "$$\n",
    "\\hat{y} = \\beta_0 + \\beta_1 x_1 + \\cdots + \\beta_p x_p\n",
    "$$\n",
    "\n",
    "where $\\hat{y}$ is the predicted price, $x_1, x_2, \\cdots, x_p$ will be our features, and $\\beta_0, \\beta_1, \\cdots, \\beta_p$ are coefficients fit by the model based on the data.\n",
    "\n",
    "Let's define a utility function to make it easier to build feature matrices.  The utility function will handle imputing and scaling the numerical variables for us.  The utility function will also incorporate categorical variables, but we won't get to those quite yet."
   ]
  },
  {
   "cell_type": "code",
   "execution_count": 12,
   "metadata": {},
   "outputs": [],
   "source": [
    "def create_feature_matrices(df_train, df_test, selected_columns, dummy_columns=None):\n",
    "    \"\"\"\n",
    "    Creates feature matrices for the training and testing sets from the given dataframes.\n",
    "    The feature matrices are built from the columns given in selected columns.\n",
    "    \"\"\"\n",
    "    \n",
    "    if dummy_columns is None:\n",
    "        dummy_columns = dict()\n",
    "    \n",
    "    # keep track of numerical features\n",
    "    numerical_trial_columns = []\n",
    "    \n",
    "    # keep track of dummy features for categorical variables\n",
    "    categorical_trial_columns = []\n",
    "    \n",
    "    # build feature lists\n",
    "    for col_name in selected_columns:\n",
    "        if col_name in dummy_columns:\n",
    "            categorical_trial_columns.extend(dummy_columns[col_name])\n",
    "        else:\n",
    "            numerical_trial_columns.append(col_name)\n",
    "\n",
    "    # transform numerical features\n",
    "    if len(numerical_trial_columns) > 0:\n",
    "        X_train_numerical = df_train[numerical_trial_columns].astype(\"float64\").values\n",
    "        X_test_numerical = df_test[numerical_trial_columns].astype(\"float64\").values\n",
    "    \n",
    "        imputer = Imputer(missing_values=0)\n",
    "        X_train_numerical = imputer.fit_transform(X_train_numerical)\n",
    "        X_test_numerical = imputer.transform(X_test_numerical)\n",
    "    \n",
    "        scaler = StandardScaler()\n",
    "        X_train_numerical = scaler.fit_transform(X_train_numerical)\n",
    "        X_test_numerical = scaler.transform(X_test_numerical)\n",
    "    \n",
    "    # select categorical features\n",
    "    if len(categorical_trial_columns) > 0:\n",
    "        X_train_categorical = df_train[categorical_trial_columns].astype(\"float64\").values\n",
    "        X_test_categorical = df_test[categorical_trial_columns].astype(\"float64\").values\n",
    "    \n",
    "    # concatenate feature matrices\n",
    "    if len(numerical_trial_columns) > 0 and len(categorical_trial_columns) > 0:\n",
    "        X_train = np.hstack([X_train_numerical, X_train_categorical])\n",
    "        X_test = np.hstack([X_test_numerical, X_test_categorical])\n",
    "    elif len(numerical_trial_columns) > 0:\n",
    "        X_train = X_train_numerical\n",
    "        X_test = X_test_numerical\n",
    "    else:\n",
    "        X_train = X_train_categorical\n",
    "        X_test = X_test_categorical\n",
    "        \n",
    "    return X_train, X_test"
   ]
  },
  {
   "cell_type": "markdown",
   "metadata": {},
   "source": [
    "We now create the vectors for our response variables and apply the utility function to create our feature matrices."
   ]
  },
  {
   "cell_type": "code",
   "execution_count": 13,
   "metadata": {},
   "outputs": [
    {
     "name": "stdout",
     "output_type": "stream",
     "text": [
      "(738,) (247,) (738, 5) (738, 5)\n"
     ]
    }
   ],
   "source": [
    "y_train = df_train[\"price\"].values\n",
    "y_test = df_test[\"price\"].values\n",
    "\n",
    "X_train, X_test = create_feature_matrices(df_train, df_test, numerical_columns)\n",
    "\n",
    "print(y_train.shape, y_test.shape, X_train.shape, X_train.shape)"
   ]
  },
  {
   "cell_type": "markdown",
   "metadata": {},
   "source": [
    "With the response vectors and feature matrices, we can build a multiple linear regression model and then calculate the model error on the testing set."
   ]
  },
  {
   "cell_type": "code",
   "execution_count": 14,
   "metadata": {},
   "outputs": [
    {
     "name": "stdout",
     "output_type": "stream",
     "text": [
      "\n",
      "Model MSE: 12502979133.546888\n",
      "Model RMSE: 111816.72117150854\n"
     ]
    }
   ],
   "source": [
    "lr = SGDRegressor(max_iter=5000)\n",
    "lr.fit(X_train, y_train)\n",
    "pred_prices_test = lr.predict(X_test)\n",
    "\n",
    "mse = mean_squared_error(y_test, pred_prices_test)\n",
    "rmse = np.sqrt(mse)\n",
    "print()\n",
    "print(\"Model MSE:\", mse)\n",
    "print(\"Model RMSE:\", rmse)"
   ]
  },
  {
   "cell_type": "code",
   "execution_count": 15,
   "metadata": {},
   "outputs": [
    {
     "data": {
      "text/plain": [
       "Text(0,0.5,'Predicted Price')"
      ]
     },
     "execution_count": 15,
     "metadata": {},
     "output_type": "execute_result"
    },
    {
     "data": {
      "image/png": "[encoded data removed]",
      "text/plain": [
       "<Figure size 432x288 with 1 Axes>"
      ]
     },
     "metadata": {},
     "output_type": "display_data"
    }
   ],
   "source": [
    "sns.regplot(x=y_test, y=pred_prices_test, fit_reg=False)\n",
    "plt.plot([0, np.max(y_test)], [0, np.max(pred_prices_test)])\n",
    "plt.xlabel(\"True Price\", fontsize=16)\n",
    "plt.ylabel(\"Predicted Price\", fontsize=16)"
   ]
  },
  {
   "cell_type": "markdown",
   "metadata": {},
   "source": [
    "Compared to our simple linear regression model using only the squared footage, we see more correlation between the true prices and predicted prices. "
   ]
  },
  {
   "cell_type": "markdown",
   "metadata": {},
   "source": [
    "## Variable Selection"
   ]
  },
  {
   "cell_type": "code",
   "execution_count": 16,
   "metadata": {},
   "outputs": [],
   "source": [
    "def sort_columns(df_train, df_test, y_train, y_test, all_columns):\n",
    "    column_rmses = []\n",
    "\n",
    "    for col_name in all_columns:\n",
    "        X_train, X_test = create_feature_matrices(df_train,\n",
    "                                                 df_test,\n",
    "                                                 [col_name])\n",
    "    \n",
    "        simple_lr = SGDRegressor(max_iter=5000)\n",
    "        simple_lr.fit(X_train, y_train)\n",
    "        pred_prices_simple_test = simple_lr.predict(X_test)\n",
    "        simple_mse = mean_squared_error(y_test, pred_prices_simple_test)\n",
    "        simple_rmse = np.sqrt(simple_mse)\n",
    "        print()\n",
    "        print(col_name + \" Model MSE:\", simple_mse)\n",
    "        print(col_name + \" Model RMSE:\", simple_rmse)\n",
    "        column_rmses.append((simple_rmse, col_name))\n",
    "    \n",
    "    column_rmses.sort(key=lambda p: p[0])\n",
    "    sorted_columns = [col_name for _, col_name in column_rmses]\n",
    "    print()\n",
    "    print(\"Sorted columns:\" + str(sorted_columns))\n",
    "    \n",
    "    return sorted_columns"
   ]
  },
  {
   "cell_type": "code",
   "execution_count": 17,
   "metadata": {},
   "outputs": [
    {
     "name": "stdout",
     "output_type": "stream",
     "text": [
      "\n",
      "beds Model MSE: 17295948317.978592\n",
      "beds Model RMSE: 131514.06129375898\n",
      "\n",
      "baths Model MSE: 16277050123.359692\n",
      "baths Model RMSE: 127581.54303565893\n",
      "\n",
      "sq__ft Model MSE: 14544169852.217216\n",
      "sq__ft Model RMSE: 120599.21165669872\n",
      "\n",
      "latitude Model MSE: 21364129944.329884\n",
      "latitude Model RMSE: 146164.73563869597\n",
      "\n",
      "longitude Model MSE: 19057577885.15069\n",
      "longitude Model RMSE: 138049.18647044135\n",
      "\n",
      "Sorted columns:['sq__ft', 'baths', 'beds', 'longitude', 'latitude']\n"
     ]
    }
   ],
   "source": [
    "sorted_columns = sort_columns(df_train, df_test, y_train, y_test, numerical_columns)"
   ]
  },
  {
   "cell_type": "code",
   "execution_count": 18,
   "metadata": {},
   "outputs": [],
   "source": [
    "def select_features(df_train, df_test, y_train, y_test, sorted_columns, dummy_columns=None):\n",
    "    lr = SGDRegressor(max_iter=5000)\n",
    "    \n",
    "    train_zeros = np.zeros((y_train.shape[0], 1))\n",
    "    test_zeros = np.zeros((y_test.shape[0], 1))\n",
    "    lr.fit(train_zeros, y_train)\n",
    "    pred_y_test = lr.predict(test_zeros)\n",
    "    \n",
    "    null_mse = mean_squared_error(y_test, pred_y_test)\n",
    "    null_rmse = np.sqrt(null_mse)\n",
    "    \n",
    "    base_model_columns = []\n",
    "    base_rmse = null_rmse\n",
    "    base_mse = null_mse\n",
    "\n",
    "    print(\"Base Model MSE:\", base_mse)\n",
    "    print(\"Base Model RMSE:\", base_rmse)\n",
    "    print()\n",
    "\n",
    "    for col_name in sorted_columns:\n",
    "        # track all column names\n",
    "        trial_columns = base_model_columns[:]\n",
    "        trial_columns.append(col_name)\n",
    "\n",
    "        X_train, X_test = create_feature_matrices(df_train,\n",
    "                                                  df_test,\n",
    "                                                  trial_columns,\n",
    "                                                  dummy_columns=dummy_columns)\n",
    "    \n",
    "        lr = SGDRegressor(max_iter=5000)\n",
    "        lr.fit(X_train, y_train)\n",
    "        pred_y_test = lr.predict(X_test)\n",
    "        trial_mse = mean_squared_error(y_test, pred_y_test)\n",
    "        trial_rmse = np.sqrt(trial_mse)\n",
    "        print()\n",
    "        print(str(trial_columns) + \" Model MSE:\", trial_mse)\n",
    "        print(str(trial_columns) + \" Model RMSE:\", trial_rmse)\n",
    "    \n",
    "        if trial_rmse < base_rmse:\n",
    "            print(\"Updating base model\")\n",
    "            base_rmse = trial_rmse\n",
    "            base_mse = trial_mse\n",
    "            base_model_columns = trial_columns\n",
    "        \n",
    "        print()\n",
    "        print(\"Base Model MSE:\", base_mse)\n",
    "        print(\"Base Model RMSE:\", base_rmse)\n",
    "        print()\n",
    "    \n",
    "    print(\"Our chosen columns are: \" + str(base_model_columns))\n",
    "    return base_model_columns"
   ]
  },
  {
   "cell_type": "code",
   "execution_count": 19,
   "metadata": {},
   "outputs": [
    {
     "name": "stdout",
     "output_type": "stream",
     "text": [
      "Base Model MSE: 21372413234.039253\n",
      "Base Model RMSE: 146193.06835154412\n",
      "\n",
      "\n",
      "['sq__ft'] Model MSE: 14549038972.06379\n",
      "['sq__ft'] Model RMSE: 120619.3971634073\n",
      "Updating base model\n",
      "\n",
      "Base Model MSE: 14549038972.06379\n",
      "Base Model RMSE: 120619.3971634073\n",
      "\n",
      "\n",
      "['sq__ft', 'baths'] Model MSE: 14068088023.888708\n",
      "['sq__ft', 'baths'] Model RMSE: 118608.97109362642\n",
      "Updating base model\n",
      "\n",
      "Base Model MSE: 14068088023.888708\n",
      "Base Model RMSE: 118608.97109362642\n",
      "\n",
      "\n",
      "['sq__ft', 'baths', 'beds'] Model MSE: 14068863176.17611\n",
      "['sq__ft', 'baths', 'beds'] Model RMSE: 118612.23872845546\n",
      "\n",
      "Base Model MSE: 14068088023.888708\n",
      "Base Model RMSE: 118608.97109362642\n",
      "\n",
      "\n",
      "['sq__ft', 'baths', 'longitude'] Model MSE: 12706665057.381838\n",
      "['sq__ft', 'baths', 'longitude'] Model RMSE: 112723.84422730551\n",
      "Updating base model\n",
      "\n",
      "Base Model MSE: 12706665057.381838\n",
      "Base Model RMSE: 112723.84422730551\n",
      "\n",
      "\n",
      "['sq__ft', 'baths', 'longitude', 'latitude'] Model MSE: 12521651098.245872\n",
      "['sq__ft', 'baths', 'longitude', 'latitude'] Model RMSE: 111900.183638124\n",
      "Updating base model\n",
      "\n",
      "Base Model MSE: 12521651098.245872\n",
      "Base Model RMSE: 111900.183638124\n",
      "\n",
      "Our chosen columns are: ['sq__ft', 'baths', 'longitude', 'latitude']\n"
     ]
    }
   ],
   "source": [
    "selected_columns = select_features(df_train, df_test, y_train, y_test, sorted_columns)"
   ]
  },
  {
   "cell_type": "code",
   "execution_count": 20,
   "metadata": {},
   "outputs": [
    {
     "name": "stdout",
     "output_type": "stream",
     "text": [
      "(738, 4) (247, 4)\n",
      "\n",
      "Model MSE: 12517779040.976194\n",
      "Model RMSE: 111882.88091113936\n"
     ]
    }
   ],
   "source": [
    "X_train, X_test = create_feature_matrices(df_train, df_test, selected_columns)\n",
    "\n",
    "print(X_train.shape, X_test.shape)\n",
    "\n",
    "lr = SGDRegressor(max_iter=5000)\n",
    "lr.fit(X_train, y_train)\n",
    "pred_prices_test = lr.predict(X_test)\n",
    "\n",
    "mse = mean_squared_error(y_test, pred_prices_test)\n",
    "rmse = np.sqrt(mse)\n",
    "print()\n",
    "print(\"Model MSE:\", mse)\n",
    "print(\"Model RMSE:\", rmse)"
   ]
  },
  {
   "cell_type": "code",
   "execution_count": 21,
   "metadata": {},
   "outputs": [
    {
     "data": {
      "text/plain": [
       "Text(0,0.5,'Predicted Price')"
      ]
     },
     "execution_count": 21,
     "metadata": {},
     "output_type": "execute_result"
    },
    {
     "data": {
      "image/png": "[encoded data removed]",
      "text/plain": [
       "<Figure size 432x288 with 1 Axes>"
      ]
     },
     "metadata": {},
     "output_type": "display_data"
    }
   ],
   "source": [
    "sns.regplot(x=y_test, y=pred_prices_test, fit_reg=False)\n",
    "plt.plot([0, np.max(y_test)], [0, np.max(pred_prices_test)])\n",
    "plt.xlabel(\"True Price\", fontsize=16)\n",
    "plt.ylabel(\"Predicted Price\", fontsize=16)"
   ]
  },
  {
   "cell_type": "code",
   "execution_count": null,
   "metadata": {},
   "outputs": [],
   "source": []
  }
 ],
 "metadata": {
  "kernelspec": {
   "display_name": "Python 3",
   "language": "python",
   "name": "python3"
  },
  "language_info": {
   "codemirror_mode": {
    "name": "ipython",
    "version": 3
   },
   "file_extension": ".py",
   "mimetype": "text/x-python",
   "name": "python",
   "nbconvert_exporter": "python",
   "pygments_lexer": "ipython3",
   "version": "3.6.5"
  }
 },
 "nbformat": 4,
 "nbformat_minor": 2
}
