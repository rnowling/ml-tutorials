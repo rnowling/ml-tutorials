{
 "cells": [
  {
   "cell_type": "markdown",
   "metadata": {},
   "source": [
    "## Logistic Regression\n",
    "\n",
    "Despite the name, [Logistic Regression](http://scikit-learn.org/stable/modules/linear_model.html#logistic-regression) is a popular and powerful method for classification.  Unlike other classification methods, it is able to accurately compute the probability that a sample belongs to one of several mutually-exclusive classes.  In this tutorial, we'll go through the process of evaluating models using accuracy and confusion matrices and selecting features to optimize a model.\n",
    "\n",
    "For this tutorial, we will be using the [animal scat](https://topepo.github.io/caret/data-sets.html#animal-scat-data) data set.  A biologist collected animal droppings from various sites and characterized the properties (e.g. location, age, number of deposits, length) of the droppings.  The outcome variable is the species (coyote, bobcat, or grey fox) -- we want to predict which animal created the droppings."
   ]
  },
  {
   "cell_type": "code",
   "execution_count": 1,
   "metadata": {},
   "outputs": [],
   "source": [
    "import numpy as np\n",
    "import pandas as pd\n",
    "import matplotlib.pyplot as plt\n",
    "import seaborn as sns\n",
    "\n",
    "from sklearn.linear_model import SGDClassifier\n",
    "from sklearn.metrics import accuracy_score\n",
    "from sklearn.metrics import confusion_matrix\n",
    "from sklearn.metrics import log_loss\n",
    "from sklearn.model_selection import train_test_split\n",
    "from sklearn.preprocessing import Imputer\n",
    "from sklearn.preprocessing import LabelEncoder\n",
    "from sklearn.preprocessing import StandardScaler\n",
    "\n",
    "%matplotlib inline"
   ]
  },
  {
   "cell_type": "markdown",
   "metadata": {},
   "source": [
    "## Import and Clean Data"
   ]
  },
  {
   "cell_type": "code",
   "execution_count": 2,
   "metadata": {},
   "outputs": [],
   "source": [
    "df = pd.read_csv(\"scat.csv\")"
   ]
  },
  {
   "cell_type": "code",
   "execution_count": 3,
   "metadata": {},
   "outputs": [
    {
     "data": {
      "text/html": [
       "<div>\n",
       "<style scoped>\n",
       "    .dataframe tbody tr th:only-of-type {\n",
       "        vertical-align: middle;\n",
       "    }\n",
       "\n",
       "    .dataframe tbody tr th {\n",
       "        vertical-align: top;\n",
       "    }\n",
       "\n",
       "    .dataframe thead th {\n",
       "        text-align: right;\n",
       "    }\n",
       "</style>\n",
       "<table border=\"1\" class=\"dataframe\">\n",
       "  <thead>\n",
       "    <tr style=\"text-align: right;\">\n",
       "      <th></th>\n",
       "      <th>Species</th>\n",
       "      <th>Month</th>\n",
       "      <th>Year</th>\n",
       "      <th>Site</th>\n",
       "      <th>Location</th>\n",
       "      <th>Age</th>\n",
       "      <th>Number</th>\n",
       "      <th>Length</th>\n",
       "      <th>Diameter</th>\n",
       "      <th>Taper</th>\n",
       "      <th>TI</th>\n",
       "      <th>Mass</th>\n",
       "      <th>d13C</th>\n",
       "      <th>d15N</th>\n",
       "      <th>CN</th>\n",
       "      <th>ropey</th>\n",
       "      <th>segmented</th>\n",
       "      <th>flat</th>\n",
       "      <th>scrape</th>\n",
       "    </tr>\n",
       "  </thead>\n",
       "  <tbody>\n",
       "    <tr>\n",
       "      <th>0</th>\n",
       "      <td>coyote</td>\n",
       "      <td>January</td>\n",
       "      <td>2012</td>\n",
       "      <td>YOLA</td>\n",
       "      <td>edge</td>\n",
       "      <td>5</td>\n",
       "      <td>2</td>\n",
       "      <td>9.5</td>\n",
       "      <td>25.7</td>\n",
       "      <td>41.9</td>\n",
       "      <td>1.63</td>\n",
       "      <td>15.89</td>\n",
       "      <td>-26.85</td>\n",
       "      <td>6.94</td>\n",
       "      <td>8.5</td>\n",
       "      <td>0</td>\n",
       "      <td>0</td>\n",
       "      <td>0</td>\n",
       "      <td>0</td>\n",
       "    </tr>\n",
       "    <tr>\n",
       "      <th>1</th>\n",
       "      <td>coyote</td>\n",
       "      <td>January</td>\n",
       "      <td>2012</td>\n",
       "      <td>YOLA</td>\n",
       "      <td>edge</td>\n",
       "      <td>3</td>\n",
       "      <td>2</td>\n",
       "      <td>14.0</td>\n",
       "      <td>25.4</td>\n",
       "      <td>37.1</td>\n",
       "      <td>1.46</td>\n",
       "      <td>17.61</td>\n",
       "      <td>-29.62</td>\n",
       "      <td>9.87</td>\n",
       "      <td>11.3</td>\n",
       "      <td>0</td>\n",
       "      <td>0</td>\n",
       "      <td>0</td>\n",
       "      <td>0</td>\n",
       "    </tr>\n",
       "    <tr>\n",
       "      <th>2</th>\n",
       "      <td>bobcat</td>\n",
       "      <td>January</td>\n",
       "      <td>2012</td>\n",
       "      <td>YOLA</td>\n",
       "      <td>middle</td>\n",
       "      <td>3</td>\n",
       "      <td>2</td>\n",
       "      <td>9.0</td>\n",
       "      <td>18.8</td>\n",
       "      <td>16.5</td>\n",
       "      <td>0.88</td>\n",
       "      <td>8.40</td>\n",
       "      <td>-28.73</td>\n",
       "      <td>8.52</td>\n",
       "      <td>8.1</td>\n",
       "      <td>1</td>\n",
       "      <td>1</td>\n",
       "      <td>0</td>\n",
       "      <td>1</td>\n",
       "    </tr>\n",
       "    <tr>\n",
       "      <th>3</th>\n",
       "      <td>coyote</td>\n",
       "      <td>January</td>\n",
       "      <td>2012</td>\n",
       "      <td>YOLA</td>\n",
       "      <td>middle</td>\n",
       "      <td>5</td>\n",
       "      <td>2</td>\n",
       "      <td>8.5</td>\n",
       "      <td>18.1</td>\n",
       "      <td>24.7</td>\n",
       "      <td>1.36</td>\n",
       "      <td>7.40</td>\n",
       "      <td>-20.07</td>\n",
       "      <td>5.79</td>\n",
       "      <td>11.5</td>\n",
       "      <td>1</td>\n",
       "      <td>0</td>\n",
       "      <td>0</td>\n",
       "      <td>0</td>\n",
       "    </tr>\n",
       "    <tr>\n",
       "      <th>4</th>\n",
       "      <td>coyote</td>\n",
       "      <td>January</td>\n",
       "      <td>2012</td>\n",
       "      <td>YOLA</td>\n",
       "      <td>edge</td>\n",
       "      <td>5</td>\n",
       "      <td>4</td>\n",
       "      <td>8.0</td>\n",
       "      <td>20.7</td>\n",
       "      <td>20.1</td>\n",
       "      <td>0.97</td>\n",
       "      <td>25.45</td>\n",
       "      <td>-23.24</td>\n",
       "      <td>7.01</td>\n",
       "      <td>10.6</td>\n",
       "      <td>0</td>\n",
       "      <td>1</td>\n",
       "      <td>0</td>\n",
       "      <td>0</td>\n",
       "    </tr>\n",
       "  </tbody>\n",
       "</table>\n",
       "</div>"
      ],
      "text/plain": [
       "  Species    Month  Year  Site Location  Age  Number  Length  Diameter  Taper  \\\n",
       "0  coyote  January  2012  YOLA     edge    5       2     9.5      25.7   41.9   \n",
       "1  coyote  January  2012  YOLA     edge    3       2    14.0      25.4   37.1   \n",
       "2  bobcat  January  2012  YOLA   middle    3       2     9.0      18.8   16.5   \n",
       "3  coyote  January  2012  YOLA   middle    5       2     8.5      18.1   24.7   \n",
       "4  coyote  January  2012  YOLA     edge    5       4     8.0      20.7   20.1   \n",
       "\n",
       "     TI   Mass   d13C  d15N    CN  ropey  segmented  flat  scrape  \n",
       "0  1.63  15.89 -26.85  6.94   8.5      0          0     0       0  \n",
       "1  1.46  17.61 -29.62  9.87  11.3      0          0     0       0  \n",
       "2  0.88   8.40 -28.73  8.52   8.1      1          1     0       1  \n",
       "3  1.36   7.40 -20.07  5.79  11.5      1          0     0       0  \n",
       "4  0.97  25.45 -23.24  7.01  10.6      0          1     0       0  "
      ]
     },
     "execution_count": 3,
     "metadata": {},
     "output_type": "execute_result"
    }
   ],
   "source": [
    "df.head()"
   ]
  },
  {
   "cell_type": "code",
   "execution_count": 4,
   "metadata": {},
   "outputs": [
    {
     "data": {
      "text/plain": [
       "Species       object\n",
       "Month         object\n",
       "Year           int64\n",
       "Site          object\n",
       "Location      object\n",
       "Age            int64\n",
       "Number         int64\n",
       "Length       float64\n",
       "Diameter     float64\n",
       "Taper        float64\n",
       "TI           float64\n",
       "Mass         float64\n",
       "d13C         float64\n",
       "d15N         float64\n",
       "CN           float64\n",
       "ropey          int64\n",
       "segmented      int64\n",
       "flat           int64\n",
       "scrape         int64\n",
       "dtype: object"
      ]
     },
     "execution_count": 4,
     "metadata": {},
     "output_type": "execute_result"
    }
   ],
   "source": [
    "df.dtypes"
   ]
  },
  {
   "cell_type": "markdown",
   "metadata": {},
   "source": [
    "Species, Month, Site, and Location should all be categorical variables.  The rest of the variables are fine as is."
   ]
  },
  {
   "cell_type": "code",
   "execution_count": 5,
   "metadata": {},
   "outputs": [],
   "source": [
    "for col_name in [\"Species\", \"Month\", \"Site\", \"Location\", \"ropey\", \"segmented\", \"flat\", \"scrape\"]:\n",
    "    df[col_name] = df[col_name].astype(\"category\")"
   ]
  },
  {
   "cell_type": "code",
   "execution_count": 6,
   "metadata": {},
   "outputs": [
    {
     "data": {
      "text/plain": [
       "Species      category\n",
       "Month        category\n",
       "Year            int64\n",
       "Site         category\n",
       "Location     category\n",
       "Age             int64\n",
       "Number          int64\n",
       "Length        float64\n",
       "Diameter      float64\n",
       "Taper         float64\n",
       "TI            float64\n",
       "Mass          float64\n",
       "d13C          float64\n",
       "d15N          float64\n",
       "CN            float64\n",
       "ropey        category\n",
       "segmented    category\n",
       "flat         category\n",
       "scrape       category\n",
       "dtype: object"
      ]
     },
     "execution_count": 6,
     "metadata": {},
     "output_type": "execute_result"
    }
   ],
   "source": [
    "df.dtypes"
   ]
  },
  {
   "cell_type": "markdown",
   "metadata": {},
   "source": [
    "## Data Exploration\n",
    "\n",
    "First, let's look at the distribution of the outcome variable Species."
   ]
  },
  {
   "cell_type": "code",
   "execution_count": 7,
   "metadata": {},
   "outputs": [
    {
     "name": "stdout",
     "output_type": "stream",
     "text": [
      "bobcat      57\n",
      "coyote      28\n",
      "gray_fox    25\n",
      "Name: Species, dtype: int64\n"
     ]
    },
    {
     "data": {
      "text/plain": [
       "Text(0,0.5,'Number of Samples')"
      ]
     },
     "execution_count": 7,
     "metadata": {},
     "output_type": "execute_result"
    },
    {
     "data": {
      "image/png": "[encoded data removed]",
      "text/plain": [
       "<Figure size 432x288 with 1 Axes>"
      ]
     },
     "metadata": {},
     "output_type": "display_data"
    }
   ],
   "source": [
    "species_counts = df[\"Species\"].value_counts()\n",
    "print(species_counts)\n",
    "species_counts.plot.bar()\n",
    "plt.ylabel(\"Number of Samples\", fontsize=16)"
   ]
  },
  {
   "cell_type": "markdown",
   "metadata": {},
   "source": [
    "Our data set is imbalanced.  Meaning, we have twice as many bobcat samples as coyote or gray fox samples.\n",
    "\n",
    "Next, we start looking at relationships of each of the input variables against the outcome variable (Species).  We start with the numerical variables.  We use box plots since the outcome variable is categorical."
   ]
  },
  {
   "cell_type": "code",
   "execution_count": 8,
   "metadata": {},
   "outputs": [
    {
     "data": {
      "text/plain": [
       "<matplotlib.axes._subplots.AxesSubplot at 0x2132abec6a0>"
      ]
     },
     "execution_count": 8,
     "metadata": {},
     "output_type": "execute_result"
    },
    {
     "data": {
      "image/png": "[encoded data removed]",
      "text/plain": [
       "<Figure size 432x288 with 1 Axes>"
      ]
     },
     "metadata": {},
     "output_type": "display_data"
    }
   ],
   "source": [
    "df[[\"Species\", \"Year\"]].boxplot(by=\"Species\")"
   ]
  },
  {
   "cell_type": "code",
   "execution_count": 9,
   "metadata": {},
   "outputs": [
    {
     "data": {
      "text/plain": [
       "<matplotlib.axes._subplots.AxesSubplot at 0x2132aec28d0>"
      ]
     },
     "execution_count": 9,
     "metadata": {},
     "output_type": "execute_result"
    },
    {
     "data": {
      "image/png": "[encoded data removed]",
      "text/plain": [
       "<Figure size 432x288 with 1 Axes>"
      ]
     },
     "metadata": {},
     "output_type": "display_data"
    }
   ],
   "source": [
    "df[[\"Species\", \"Age\"]].boxplot(by=\"Species\")"
   ]
  },
  {
   "cell_type": "code",
   "execution_count": 10,
   "metadata": {},
   "outputs": [
    {
     "data": {
      "text/plain": [
       "<matplotlib.axes._subplots.AxesSubplot at 0x2132aeae978>"
      ]
     },
     "execution_count": 10,
     "metadata": {},
     "output_type": "execute_result"
    },
    {
     "data": {
      "image/png": "[encoded data removed]",
      "text/plain": [
       "<Figure size 432x288 with 1 Axes>"
      ]
     },
     "metadata": {},
     "output_type": "display_data"
    }
   ],
   "source": [
    "df[[\"Species\", \"Number\"]].boxplot(by=\"Species\")"
   ]
  },
  {
   "cell_type": "code",
   "execution_count": 11,
   "metadata": {},
   "outputs": [
    {
     "data": {
      "text/plain": [
       "<matplotlib.axes._subplots.AxesSubplot at 0x2132afe3908>"
      ]
     },
     "execution_count": 11,
     "metadata": {},
     "output_type": "execute_result"
    },
    {
     "data": {
      "image/png": "[encoded data removed]",
      "text/plain": [
       "<Figure size 432x288 with 1 Axes>"
      ]
     },
     "metadata": {},
     "output_type": "display_data"
    }
   ],
   "source": [
    "df[[\"Species\", \"Length\"]].boxplot(by=\"Species\")"
   ]
  },
  {
   "cell_type": "code",
   "execution_count": 12,
   "metadata": {},
   "outputs": [
    {
     "data": {
      "text/plain": [
       "<matplotlib.axes._subplots.AxesSubplot at 0x2132b068b38>"
      ]
     },
     "execution_count": 12,
     "metadata": {},
     "output_type": "execute_result"
    },
    {
     "data": {
      "image/png": "[encoded data removed]",
      "text/plain": [
       "<Figure size 432x288 with 1 Axes>"
      ]
     },
     "metadata": {},
     "output_type": "display_data"
    }
   ],
   "source": [
    "df[[\"Species\", \"Diameter\"]].boxplot(by=\"Species\")"
   ]
  },
  {
   "cell_type": "code",
   "execution_count": 13,
   "metadata": {},
   "outputs": [
    {
     "data": {
      "text/plain": [
       "<matplotlib.axes._subplots.AxesSubplot at 0x2132b0d97f0>"
      ]
     },
     "execution_count": 13,
     "metadata": {},
     "output_type": "execute_result"
    },
    {
     "data": {
      "image/png": "[encoded data removed]",
      "text/plain": [
       "<Figure size 432x288 with 1 Axes>"
      ]
     },
     "metadata": {},
     "output_type": "display_data"
    }
   ],
   "source": [
    "df[[\"Species\", \"Taper\"]].boxplot(by=\"Species\")"
   ]
  },
  {
   "cell_type": "code",
   "execution_count": 14,
   "metadata": {},
   "outputs": [
    {
     "data": {
      "text/plain": [
       "<matplotlib.axes._subplots.AxesSubplot at 0x2132b1557b8>"
      ]
     },
     "execution_count": 14,
     "metadata": {},
     "output_type": "execute_result"
    },
    {
     "data": {
      "image/png": "[encoded data removed]",
      "text/plain": [
       "<Figure size 432x288 with 1 Axes>"
      ]
     },
     "metadata": {},
     "output_type": "display_data"
    }
   ],
   "source": [
    "df[[\"Species\", \"TI\"]].boxplot(by=\"Species\")"
   ]
  },
  {
   "cell_type": "code",
   "execution_count": 15,
   "metadata": {},
   "outputs": [
    {
     "data": {
      "text/plain": [
       "<matplotlib.axes._subplots.AxesSubplot at 0x2132b19ab00>"
      ]
     },
     "execution_count": 15,
     "metadata": {},
     "output_type": "execute_result"
    },
    {
     "data": {
      "image/png": "[encoded data removed]",
      "text/plain": [
       "<Figure size 432x288 with 1 Axes>"
      ]
     },
     "metadata": {},
     "output_type": "display_data"
    }
   ],
   "source": [
    "df[[\"Species\", \"Mass\"]].boxplot(by=\"Species\")"
   ]
  },
  {
   "cell_type": "code",
   "execution_count": 16,
   "metadata": {},
   "outputs": [
    {
     "data": {
      "text/plain": [
       "<matplotlib.axes._subplots.AxesSubplot at 0x2132b274320>"
      ]
     },
     "execution_count": 16,
     "metadata": {},
     "output_type": "execute_result"
    },
    {
     "data": {
      "image/png": "[encoded data removed]",
      "text/plain": [
       "<Figure size 432x288 with 1 Axes>"
      ]
     },
     "metadata": {},
     "output_type": "display_data"
    }
   ],
   "source": [
    "df[[\"Species\", \"d13C\"]].boxplot(by=\"Species\")"
   ]
  },
  {
   "cell_type": "code",
   "execution_count": 17,
   "metadata": {},
   "outputs": [
    {
     "data": {
      "text/plain": [
       "<matplotlib.axes._subplots.AxesSubplot at 0x2132b2f3a20>"
      ]
     },
     "execution_count": 17,
     "metadata": {},
     "output_type": "execute_result"
    },
    {
     "data": {
      "image/png": "[encoded data removed]",
      "text/plain": [
       "<Figure size 432x288 with 1 Axes>"
      ]
     },
     "metadata": {},
     "output_type": "display_data"
    }
   ],
   "source": [
    "df[[\"Species\", \"d15N\"]].boxplot(by=\"Species\")"
   ]
  },
  {
   "cell_type": "code",
   "execution_count": 18,
   "metadata": {},
   "outputs": [
    {
     "data": {
      "text/plain": [
       "<matplotlib.axes._subplots.AxesSubplot at 0x2132b3839e8>"
      ]
     },
     "execution_count": 18,
     "metadata": {},
     "output_type": "execute_result"
    },
    {
     "data": {
      "image/png": "[encoded data removed]",
      "text/plain": [
       "<Figure size 432x288 with 1 Axes>"
      ]
     },
     "metadata": {},
     "output_type": "display_data"
    }
   ],
   "source": [
    "df[[\"Species\", \"CN\"]].boxplot(by=\"Species\")"
   ]
  },
  {
   "cell_type": "markdown",
   "metadata": {},
   "source": [
    "## Feature Extraction\n",
    "\n",
    "Next, we create dummy variables for each categorical variable."
   ]
  },
  {
   "cell_type": "code",
   "execution_count": 19,
   "metadata": {},
   "outputs": [],
   "source": [
    "df[\"Number_cats\"] = df[\"Number\"].astype(\"category\")"
   ]
  },
  {
   "cell_type": "code",
   "execution_count": 20,
   "metadata": {},
   "outputs": [],
   "source": [
    "categorical_columns = [\"Species\", \"Month\", \"Site\", \"Location\", \"ropey\", \"segmented\", \"flat\", \"scrape\", \"Number_cats\"]\n",
    "dummy_columns = {}\n",
    "for col_name in categorical_columns:\n",
    "    dummies = pd.get_dummies(df[col_name], prefix=col_name)\n",
    "    dummy_columns[col_name] = dummies.columns.values\n",
    "    df = df.merge(dummies, left_index=True, right_index=True)"
   ]
  },
  {
   "cell_type": "code",
   "execution_count": 21,
   "metadata": {},
   "outputs": [
    {
     "data": {
      "text/html": [
       "<div>\n",
       "<style scoped>\n",
       "    .dataframe tbody tr th:only-of-type {\n",
       "        vertical-align: middle;\n",
       "    }\n",
       "\n",
       "    .dataframe tbody tr th {\n",
       "        vertical-align: top;\n",
       "    }\n",
       "\n",
       "    .dataframe thead th {\n",
       "        text-align: right;\n",
       "    }\n",
       "</style>\n",
       "<table border=\"1\" class=\"dataframe\">\n",
       "  <thead>\n",
       "    <tr style=\"text-align: right;\">\n",
       "      <th></th>\n",
       "      <th>Species</th>\n",
       "      <th>Month</th>\n",
       "      <th>Year</th>\n",
       "      <th>Site</th>\n",
       "      <th>Location</th>\n",
       "      <th>Age</th>\n",
       "      <th>Number</th>\n",
       "      <th>Length</th>\n",
       "      <th>Diameter</th>\n",
       "      <th>Taper</th>\n",
       "      <th>...</th>\n",
       "      <th>flat_1</th>\n",
       "      <th>scrape_0</th>\n",
       "      <th>scrape_1</th>\n",
       "      <th>Number_cats_1</th>\n",
       "      <th>Number_cats_2</th>\n",
       "      <th>Number_cats_3</th>\n",
       "      <th>Number_cats_4</th>\n",
       "      <th>Number_cats_5</th>\n",
       "      <th>Number_cats_6</th>\n",
       "      <th>Number_cats_7</th>\n",
       "    </tr>\n",
       "  </thead>\n",
       "  <tbody>\n",
       "    <tr>\n",
       "      <th>0</th>\n",
       "      <td>coyote</td>\n",
       "      <td>January</td>\n",
       "      <td>2012</td>\n",
       "      <td>YOLA</td>\n",
       "      <td>edge</td>\n",
       "      <td>5</td>\n",
       "      <td>2</td>\n",
       "      <td>9.5</td>\n",
       "      <td>25.7</td>\n",
       "      <td>41.9</td>\n",
       "      <td>...</td>\n",
       "      <td>0</td>\n",
       "      <td>1</td>\n",
       "      <td>0</td>\n",
       "      <td>0</td>\n",
       "      <td>1</td>\n",
       "      <td>0</td>\n",
       "      <td>0</td>\n",
       "      <td>0</td>\n",
       "      <td>0</td>\n",
       "      <td>0</td>\n",
       "    </tr>\n",
       "    <tr>\n",
       "      <th>1</th>\n",
       "      <td>coyote</td>\n",
       "      <td>January</td>\n",
       "      <td>2012</td>\n",
       "      <td>YOLA</td>\n",
       "      <td>edge</td>\n",
       "      <td>3</td>\n",
       "      <td>2</td>\n",
       "      <td>14.0</td>\n",
       "      <td>25.4</td>\n",
       "      <td>37.1</td>\n",
       "      <td>...</td>\n",
       "      <td>0</td>\n",
       "      <td>1</td>\n",
       "      <td>0</td>\n",
       "      <td>0</td>\n",
       "      <td>1</td>\n",
       "      <td>0</td>\n",
       "      <td>0</td>\n",
       "      <td>0</td>\n",
       "      <td>0</td>\n",
       "      <td>0</td>\n",
       "    </tr>\n",
       "    <tr>\n",
       "      <th>2</th>\n",
       "      <td>bobcat</td>\n",
       "      <td>January</td>\n",
       "      <td>2012</td>\n",
       "      <td>YOLA</td>\n",
       "      <td>middle</td>\n",
       "      <td>3</td>\n",
       "      <td>2</td>\n",
       "      <td>9.0</td>\n",
       "      <td>18.8</td>\n",
       "      <td>16.5</td>\n",
       "      <td>...</td>\n",
       "      <td>0</td>\n",
       "      <td>0</td>\n",
       "      <td>1</td>\n",
       "      <td>0</td>\n",
       "      <td>1</td>\n",
       "      <td>0</td>\n",
       "      <td>0</td>\n",
       "      <td>0</td>\n",
       "      <td>0</td>\n",
       "      <td>0</td>\n",
       "    </tr>\n",
       "    <tr>\n",
       "      <th>3</th>\n",
       "      <td>coyote</td>\n",
       "      <td>January</td>\n",
       "      <td>2012</td>\n",
       "      <td>YOLA</td>\n",
       "      <td>middle</td>\n",
       "      <td>5</td>\n",
       "      <td>2</td>\n",
       "      <td>8.5</td>\n",
       "      <td>18.1</td>\n",
       "      <td>24.7</td>\n",
       "      <td>...</td>\n",
       "      <td>0</td>\n",
       "      <td>1</td>\n",
       "      <td>0</td>\n",
       "      <td>0</td>\n",
       "      <td>1</td>\n",
       "      <td>0</td>\n",
       "      <td>0</td>\n",
       "      <td>0</td>\n",
       "      <td>0</td>\n",
       "      <td>0</td>\n",
       "    </tr>\n",
       "    <tr>\n",
       "      <th>4</th>\n",
       "      <td>coyote</td>\n",
       "      <td>January</td>\n",
       "      <td>2012</td>\n",
       "      <td>YOLA</td>\n",
       "      <td>edge</td>\n",
       "      <td>5</td>\n",
       "      <td>4</td>\n",
       "      <td>8.0</td>\n",
       "      <td>20.7</td>\n",
       "      <td>20.1</td>\n",
       "      <td>...</td>\n",
       "      <td>0</td>\n",
       "      <td>1</td>\n",
       "      <td>0</td>\n",
       "      <td>0</td>\n",
       "      <td>0</td>\n",
       "      <td>0</td>\n",
       "      <td>1</td>\n",
       "      <td>0</td>\n",
       "      <td>0</td>\n",
       "      <td>0</td>\n",
       "    </tr>\n",
       "  </tbody>\n",
       "</table>\n",
       "<p>5 rows × 52 columns</p>\n",
       "</div>"
      ],
      "text/plain": [
       "  Species    Month  Year  Site Location  Age  Number  Length  Diameter  Taper  \\\n",
       "0  coyote  January  2012  YOLA     edge    5       2     9.5      25.7   41.9   \n",
       "1  coyote  January  2012  YOLA     edge    3       2    14.0      25.4   37.1   \n",
       "2  bobcat  January  2012  YOLA   middle    3       2     9.0      18.8   16.5   \n",
       "3  coyote  January  2012  YOLA   middle    5       2     8.5      18.1   24.7   \n",
       "4  coyote  January  2012  YOLA     edge    5       4     8.0      20.7   20.1   \n",
       "\n",
       "       ...       flat_1  scrape_0  scrape_1  Number_cats_1  Number_cats_2  \\\n",
       "0      ...            0         1         0              0              1   \n",
       "1      ...            0         1         0              0              1   \n",
       "2      ...            0         0         1              0              1   \n",
       "3      ...            0         1         0              0              1   \n",
       "4      ...            0         1         0              0              0   \n",
       "\n",
       "  Number_cats_3 Number_cats_4 Number_cats_5 Number_cats_6 Number_cats_7  \n",
       "0             0             0             0             0             0  \n",
       "1             0             0             0             0             0  \n",
       "2             0             0             0             0             0  \n",
       "3             0             0             0             0             0  \n",
       "4             0             1             0             0             0  \n",
       "\n",
       "[5 rows x 52 columns]"
      ]
     },
     "execution_count": 21,
     "metadata": {},
     "output_type": "execute_result"
    }
   ],
   "source": [
    "df.head()"
   ]
  },
  {
   "cell_type": "markdown",
   "metadata": {},
   "source": [
    "## Experimental Setup"
   ]
  },
  {
   "cell_type": "code",
   "execution_count": 22,
   "metadata": {},
   "outputs": [
    {
     "name": "stdout",
     "output_type": "stream",
     "text": [
      "110 82 28\n"
     ]
    }
   ],
   "source": [
    "df_train, df_test = train_test_split(df, stratify=df[\"Species\"])\n",
    "print(df.shape[0], df_train.shape[0], df_test.shape[0])"
   ]
  },
  {
   "cell_type": "markdown",
   "metadata": {},
   "source": [
    "Our labels are given as a strings, which we then converted to a categorical variable.  Scikit-Learn classifiers expect that outcome variables are denoted by integers -- one integer per category.  We can use the `LabelEncoder` to transform the strings to integers and store an internal representation for easier conversation back later."
   ]
  },
  {
   "cell_type": "code",
   "execution_count": 23,
   "metadata": {},
   "outputs": [
    {
     "name": "stdout",
     "output_type": "stream",
     "text": [
      "[0 2 0 1 2 0 0 0 0 1 0 0 2 2 0 0 0 0 0 0 1 0 0 0 0 0 0 2 0 1 2 1 1 0 2 2 0\n",
      " 0 0 2 1 1 1 1 0 1 2 0 0 0 1 0 0 1 0 1 1 0 2 0 1 2 0 1 0 2 0 1 0 1 1 0 0 0\n",
      " 1 0 2 2 2 2 2 2]\n"
     ]
    }
   ],
   "source": [
    "encoder = LabelEncoder()\n",
    "y_train = encoder.fit_transform(df_train[\"Species\"].astype(\"str\"))\n",
    "y_test = encoder.transform(df_test[\"Species\"].astype(\"str\"))\n",
    "print(y_train)"
   ]
  },
  {
   "cell_type": "markdown",
   "metadata": {},
   "source": [
    "## Simple Logistic Regression\n",
    "\n",
    "We start by building null and simple Logistic Regression models to get a sense of how to train and evaluate these models.  We use two metrics: accuracy and a confusion matrix.  Accuracy is defined as the number of correctly classified samples divided by the total number of samples:\n",
    "\n",
    "$$\n",
    "Accuracy = \\frac{\\sum_{i=1}^N \\mathbf{1}(\\hat{y}_i, y_i)}{N}\n",
    "$$\n",
    "\n",
    "A confusion matrix tells us how samples of each class have been predicted to belong in each class.  If the matrix only has a diagonal, then that means the model has correctly predicted the class of every data point."
   ]
  },
  {
   "cell_type": "code",
   "execution_count": 24,
   "metadata": {},
   "outputs": [
    {
     "name": "stdout",
     "output_type": "stream",
     "text": [
      "Accuracy: 0.5357142857142857\n",
      "Loss: 1.012431056228776\n",
      "Labels: ['bobcat' 'coyote' 'gray_fox']\n",
      "Confusion matrix:\n",
      "[[15  0  0]\n",
      " [ 7  0  0]\n",
      " [ 6  0  0]]\n"
     ]
    }
   ],
   "source": [
    "zeros_train = np.zeros(df_train.shape)\n",
    "zeros_test = np.zeros(df_test.shape)\n",
    "\n",
    "null_lr = SGDClassifier(max_iter=10000, loss=\"log\")\n",
    "null_lr.fit(zeros_train, y_train)\n",
    "pred_null_labels = null_lr.predict(zeros_test)\n",
    "pred_prob = null_lr.predict_proba(zeros_test)\n",
    "\n",
    "null_accuracy = accuracy_score(y_test, pred_null_labels)\n",
    "null_loss = log_loss(y_test, pred_prob)\n",
    "cm = confusion_matrix(y_test, pred_null_labels)\n",
    "\n",
    "print(\"Accuracy:\", null_accuracy)\n",
    "print(\"Loss:\", null_loss)\n",
    "print(\"Labels:\", encoder.classes_)\n",
    "print(\"Confusion matrix:\")\n",
    "print(cm)"
   ]
  },
  {
   "cell_type": "code",
   "execution_count": 25,
   "metadata": {},
   "outputs": [
    {
     "name": "stdout",
     "output_type": "stream",
     "text": [
      "Accuracy: 0.5714285714285714\n",
      "Loss: 1.012431056228776\n",
      "Labels: ['bobcat' 'coyote' 'gray_fox']\n",
      "Confusion matrix:\n",
      "[[14  0  1]\n",
      " [ 3  0  4]\n",
      " [ 4  0  2]]\n"
     ]
    }
   ],
   "source": [
    "X_train = df_train[[\"CN\"]].astype(\"float64\").values\n",
    "X_test = df_test[[\"CN\"]].astype(\"float64\").values\n",
    "\n",
    "imputer = Imputer()\n",
    "X_train = imputer.fit_transform(X_train)\n",
    "X_test = imputer.transform(X_test)\n",
    "\n",
    "scaler = StandardScaler()\n",
    "X_train = scaler.fit_transform(X_train)\n",
    "X_test = scaler.transform(X_test)\n",
    "\n",
    "simple_lr = SGDClassifier(max_iter=10000, loss=\"log\")\n",
    "simple_lr.fit(X_train, y_train)\n",
    "pred_labels = simple_lr.predict(X_test)\n",
    "pred_prob = simple_lr.predict_proba(X_test)\n",
    "\n",
    "null_accuracy = accuracy_score(y_test, pred_labels)\n",
    "loss = log_loss(y_test, pred_prob)\n",
    "cm = confusion_matrix(y_test, pred_labels)\n",
    "\n",
    "print(\"Accuracy:\", null_accuracy)\n",
    "print(\"Loss:\", null_loss)\n",
    "print(\"Labels:\", encoder.classes_)\n",
    "print(\"Confusion matrix:\")\n",
    "print(cm)"
   ]
  },
  {
   "cell_type": "markdown",
   "metadata": {},
   "source": [
    "## Feature Selection with Greedy Algorithm"
   ]
  },
  {
   "cell_type": "code",
   "execution_count": 26,
   "metadata": {},
   "outputs": [],
   "source": [
    "numerical_columns = [\"Year\", \"Age\", \"Number\", \"Length\", \"Diameter\", \"Taper\", \"TI\", \"Mass\", \"d13C\", \"d15N\", \"CN\"]\n",
    "categorical_columns = [\"Month\", \"Site\", \"Location\", \"ropey\", \"segmented\", \"flat\", \"scrape\", \"Number_cats\"]\n",
    "candidate_columns = numerical_columns + categorical_columns"
   ]
  },
  {
   "cell_type": "code",
   "execution_count": 27,
   "metadata": {},
   "outputs": [],
   "source": [
    "def create_feature_matrices(df_train, df_test, selected_columns, dummy_columns):\n",
    "    \"\"\"\n",
    "    Creates feature matrices for the training and testing sets from the given dataframes.\n",
    "    The feature matrices are built from the columns given in selected columns.\n",
    "    \"\"\"\n",
    "    \n",
    "    # keep track of numerical features\n",
    "    numerical_trial_columns = []\n",
    "    \n",
    "    # keep track of dummy features for categorical variables\n",
    "    categorical_trial_columns = []\n",
    "    \n",
    "    # build feature lists\n",
    "    for col_name in selected_columns:\n",
    "        if col_name in dummy_columns:\n",
    "            categorical_trial_columns.extend(dummy_columns[col_name])\n",
    "        else:\n",
    "            numerical_trial_columns.append(col_name)\n",
    "\n",
    "    # transform numerical features\n",
    "    if len(numerical_trial_columns) > 0:\n",
    "        X_train_numerical = df_train[numerical_trial_columns].astype(\"float64\").values\n",
    "        X_test_numerical = df_test[numerical_trial_columns].astype(\"float64\").values\n",
    "    \n",
    "        imputer = Imputer()\n",
    "        X_train_numerical = imputer.fit_transform(X_train_numerical)\n",
    "        X_test_numerical = imputer.transform(X_test_numerical)\n",
    "    \n",
    "        scaler = StandardScaler()\n",
    "        X_train_numerical = scaler.fit_transform(X_train_numerical)\n",
    "        X_test_numerical = scaler.transform(X_test_numerical)\n",
    "    \n",
    "    # select categorical features\n",
    "    if len(categorical_trial_columns) > 0:\n",
    "        X_train_categorical = df_train[categorical_trial_columns].astype(\"float64\").values\n",
    "        X_test_categorical = df_test[categorical_trial_columns].astype(\"float64\").values\n",
    "    \n",
    "    # concatenate feature matrices\n",
    "    if len(numerical_trial_columns) > 0 and len(categorical_trial_columns) > 0:\n",
    "        X_train = np.hstack([X_train_numerical, X_train_categorical])\n",
    "        X_test = np.hstack([X_test_numerical, X_test_categorical])\n",
    "    elif len(numerical_trial_columns) > 0:\n",
    "        X_train = X_train_numerical\n",
    "        X_test = X_test_numerical\n",
    "    else:\n",
    "        X_train = X_train_categorical\n",
    "        X_test = X_test_categorical\n",
    "        \n",
    "    return X_train, X_test"
   ]
  },
  {
   "cell_type": "code",
   "execution_count": 28,
   "metadata": {},
   "outputs": [
    {
     "name": "stdout",
     "output_type": "stream",
     "text": [
      "Null Model Accuracy: 0.5714285714285714\n",
      "\n",
      "Year Accuracy: 0.6071428571428571\n",
      "Year Loss: 0.9095675502664647\n",
      "\n",
      "Age Accuracy: 0.5357142857142857\n",
      "Age Loss: 1.0461014737969232\n",
      "\n",
      "Number Accuracy: 0.5357142857142857\n",
      "Number Loss: 0.9628206151197999\n",
      "\n",
      "Length Accuracy: 0.5357142857142857\n",
      "Length Loss: 1.0225742205455672\n",
      "\n",
      "Diameter Accuracy: 0.6071428571428571\n",
      "Diameter Loss: 0.9715359103240305\n",
      "\n",
      "Taper Accuracy: 0.5714285714285714\n",
      "Taper Loss: 1.074581886505284\n",
      "\n",
      "TI Accuracy: 0.5357142857142857\n",
      "TI Loss: 1.0634761895174294\n",
      "\n",
      "Mass Accuracy: 0.5357142857142857\n",
      "Mass Loss: 0.9854102104150039\n",
      "\n",
      "d13C Accuracy: 0.6071428571428571\n",
      "d13C Loss: 0.9451313460840033\n",
      "\n",
      "d15N Accuracy: 0.6428571428571429\n",
      "d15N Loss: 0.8057836973714035\n",
      "\n",
      "CN Accuracy: 0.5714285714285714\n",
      "CN Loss: 0.8654791890623043\n",
      "\n",
      "Month Accuracy: 0.5714285714285714\n",
      "Month Loss: 0.8485881258942097\n",
      "\n",
      "Site Accuracy: 0.5357142857142857\n",
      "Site Loss: 0.9962785321321553\n",
      "\n",
      "Location Accuracy: 0.5357142857142857\n",
      "Location Loss: 0.9721618018383963\n",
      "\n",
      "ropey Accuracy: 0.5357142857142857\n",
      "ropey Loss: 1.018245566037047\n",
      "\n",
      "segmented Accuracy: 0.5\n",
      "segmented Loss: 0.9898092333932652\n",
      "\n",
      "flat Accuracy: 0.6071428571428571\n",
      "flat Loss: 0.9182185426675563\n",
      "\n",
      "scrape Accuracy: 0.5357142857142857\n",
      "scrape Loss: 0.9907290217375494\n",
      "\n",
      "Number_cats Accuracy: 0.5357142857142857\n",
      "Number_cats Loss: 1.0855134029232256\n",
      "\n",
      "Sorted columns:['d15N', 'Year', 'Diameter', 'd13C', 'flat', 'Taper', 'CN', 'Month', 'Age', 'Number', 'Length', 'TI', 'Mass', 'Site', 'Location', 'ropey', 'scrape', 'Number_cats', 'segmented']\n"
     ]
    }
   ],
   "source": [
    "print(\"Null Model Accuracy:\", null_accuracy)\n",
    "\n",
    "column_accuracies = []\n",
    "\n",
    "for col_name in candidate_columns:\n",
    "    X_train, X_test = create_feature_matrices(df_train,\n",
    "                                             df_test,\n",
    "                                             [col_name],\n",
    "                                             dummy_columns)\n",
    "    \n",
    "    simple_lr = SGDClassifier(max_iter=10000, loss=\"log\")\n",
    "    simple_lr.fit(X_train, y_train)\n",
    "    pred_labels = simple_lr.predict(X_test)\n",
    "    pred_probs = simple_lr.predict_proba(X_test)\n",
    "    simple_accuracy = accuracy_score(y_test, pred_labels)\n",
    "    simple_loss = log_loss(y_test, pred_probs)\n",
    "    print()\n",
    "    print(col_name + \" Accuracy:\", simple_accuracy)\n",
    "    print(col_name + \" Loss:\", simple_loss)\n",
    "    column_accuracies.append((simple_accuracy, col_name))\n",
    "    \n",
    "column_accuracies.sort(key=lambda p: p[0], reverse=True)\n",
    "sorted_columns = [col_name for _, col_name in column_accuracies]\n",
    "print()\n",
    "print(\"Sorted columns:\" + str(sorted_columns))"
   ]
  },
  {
   "cell_type": "code",
   "execution_count": 29,
   "metadata": {},
   "outputs": [
    {
     "name": "stdout",
     "output_type": "stream",
     "text": [
      "Base Model Accuracy: 0.5714285714285714\n",
      "Base Model Loss: 1.012431056228776\n",
      "\n",
      "\n",
      "['d15N'] Model Accuracy: 0.6428571428571429\n",
      "['d15N'] Model Loss: 0.8059299409140195\n",
      "Updating base model\n",
      "\n",
      "Base Model Loss: 0.8059299409140195\n",
      "Base Model Accuracy: 0.6428571428571429\n",
      "\n",
      "\n",
      "['d15N', 'Year'] Model Accuracy: 0.7142857142857143\n",
      "['d15N', 'Year'] Model Loss: 0.7479587756491567\n",
      "Updating base model\n",
      "\n",
      "Base Model Loss: 0.7479587756491567\n",
      "Base Model Accuracy: 0.7142857142857143\n",
      "\n",
      "\n",
      "['d15N', 'Year', 'Diameter'] Model Accuracy: 0.6785714285714286\n",
      "['d15N', 'Year', 'Diameter'] Model Loss: 0.6646484138321772\n",
      "\n",
      "Base Model Loss: 0.7479587756491567\n",
      "Base Model Accuracy: 0.7142857142857143\n",
      "\n",
      "\n",
      "['d15N', 'Year', 'd13C'] Model Accuracy: 0.7142857142857143\n",
      "['d15N', 'Year', 'd13C'] Model Loss: 0.7730606807205032\n",
      "\n",
      "Base Model Loss: 0.7479587756491567\n",
      "Base Model Accuracy: 0.7142857142857143\n",
      "\n",
      "\n",
      "['d15N', 'Year', 'flat'] Model Accuracy: 0.7857142857142857\n",
      "['d15N', 'Year', 'flat'] Model Loss: 0.6391162422398887\n",
      "Updating base model\n",
      "\n",
      "Base Model Loss: 0.6391162422398887\n",
      "Base Model Accuracy: 0.7857142857142857\n",
      "\n",
      "\n",
      "['d15N', 'Year', 'flat', 'Taper'] Model Accuracy: 0.8214285714285714\n",
      "['d15N', 'Year', 'flat', 'Taper'] Model Loss: 0.6833242111163687\n",
      "Updating base model\n",
      "\n",
      "Base Model Loss: 0.6833242111163687\n",
      "Base Model Accuracy: 0.8214285714285714\n",
      "\n",
      "\n",
      "['d15N', 'Year', 'flat', 'Taper', 'CN'] Model Accuracy: 0.8214285714285714\n",
      "['d15N', 'Year', 'flat', 'Taper', 'CN'] Model Loss: 0.639281186536479\n",
      "\n",
      "Base Model Loss: 0.6833242111163687\n",
      "Base Model Accuracy: 0.8214285714285714\n",
      "\n",
      "\n",
      "['d15N', 'Year', 'flat', 'Taper', 'Month'] Model Accuracy: 0.7142857142857143\n",
      "['d15N', 'Year', 'flat', 'Taper', 'Month'] Model Loss: 0.6563213050415013\n",
      "\n",
      "Base Model Loss: 0.6833242111163687\n",
      "Base Model Accuracy: 0.8214285714285714\n",
      "\n",
      "\n",
      "['d15N', 'Year', 'flat', 'Taper', 'Age'] Model Accuracy: 0.75\n",
      "['d15N', 'Year', 'flat', 'Taper', 'Age'] Model Loss: 0.7231973458045099\n",
      "\n",
      "Base Model Loss: 0.6833242111163687\n",
      "Base Model Accuracy: 0.8214285714285714\n",
      "\n",
      "\n",
      "['d15N', 'Year', 'flat', 'Taper', 'Number'] Model Accuracy: 0.7857142857142857\n",
      "['d15N', 'Year', 'flat', 'Taper', 'Number'] Model Loss: 0.6838438862332213\n",
      "\n",
      "Base Model Loss: 0.6833242111163687\n",
      "Base Model Accuracy: 0.8214285714285714\n",
      "\n",
      "\n",
      "['d15N', 'Year', 'flat', 'Taper', 'Length'] Model Accuracy: 0.7857142857142857\n",
      "['d15N', 'Year', 'flat', 'Taper', 'Length'] Model Loss: 0.6925733579573071\n",
      "\n",
      "Base Model Loss: 0.6833242111163687\n",
      "Base Model Accuracy: 0.8214285714285714\n",
      "\n",
      "\n",
      "['d15N', 'Year', 'flat', 'Taper', 'TI'] Model Accuracy: 0.8571428571428571\n",
      "['d15N', 'Year', 'flat', 'Taper', 'TI'] Model Loss: 0.5243685648944976\n",
      "Updating base model\n",
      "\n",
      "Base Model Loss: 0.5243685648944976\n",
      "Base Model Accuracy: 0.8571428571428571\n",
      "\n",
      "\n",
      "['d15N', 'Year', 'flat', 'Taper', 'TI', 'Mass'] Model Accuracy: 0.75\n",
      "['d15N', 'Year', 'flat', 'Taper', 'TI', 'Mass'] Model Loss: 0.656897999886049\n",
      "\n",
      "Base Model Loss: 0.5243685648944976\n",
      "Base Model Accuracy: 0.8571428571428571\n",
      "\n",
      "\n",
      "['d15N', 'Year', 'flat', 'Taper', 'TI', 'Site'] Model Accuracy: 0.8214285714285714\n",
      "['d15N', 'Year', 'flat', 'Taper', 'TI', 'Site'] Model Loss: 0.5306440177054087\n",
      "\n",
      "Base Model Loss: 0.5243685648944976\n",
      "Base Model Accuracy: 0.8571428571428571\n",
      "\n",
      "\n",
      "['d15N', 'Year', 'flat', 'Taper', 'TI', 'Location'] Model Accuracy: 0.8928571428571429\n",
      "['d15N', 'Year', 'flat', 'Taper', 'TI', 'Location'] Model Loss: 0.545974305355014\n",
      "Updating base model\n",
      "\n",
      "Base Model Loss: 0.545974305355014\n",
      "Base Model Accuracy: 0.8928571428571429\n",
      "\n",
      "\n",
      "['d15N', 'Year', 'flat', 'Taper', 'TI', 'Location', 'ropey'] Model Accuracy: 0.8214285714285714\n",
      "['d15N', 'Year', 'flat', 'Taper', 'TI', 'Location', 'ropey'] Model Loss: 0.5510173532615331\n",
      "\n",
      "Base Model Loss: 0.545974305355014\n",
      "Base Model Accuracy: 0.8928571428571429\n",
      "\n",
      "\n",
      "['d15N', 'Year', 'flat', 'Taper', 'TI', 'Location', 'scrape'] Model Accuracy: 0.8214285714285714\n",
      "['d15N', 'Year', 'flat', 'Taper', 'TI', 'Location', 'scrape'] Model Loss: 0.5203234151259132\n",
      "\n",
      "Base Model Loss: 0.545974305355014\n",
      "Base Model Accuracy: 0.8928571428571429\n",
      "\n",
      "\n",
      "['d15N', 'Year', 'flat', 'Taper', 'TI', 'Location', 'Number_cats'] Model Accuracy: 0.8214285714285714\n",
      "['d15N', 'Year', 'flat', 'Taper', 'TI', 'Location', 'Number_cats'] Model Loss: 0.6051940838820181\n",
      "\n",
      "Base Model Loss: 0.545974305355014\n",
      "Base Model Accuracy: 0.8928571428571429\n",
      "\n",
      "\n",
      "['d15N', 'Year', 'flat', 'Taper', 'TI', 'Location', 'segmented'] Model Accuracy: 0.75\n",
      "['d15N', 'Year', 'flat', 'Taper', 'TI', 'Location', 'segmented'] Model Loss: 0.5455290189030971\n",
      "\n",
      "Base Model Loss: 0.545974305355014\n",
      "Base Model Accuracy: 0.8928571428571429\n",
      "\n",
      "Our chosen columns are: ['d15N', 'Year', 'flat', 'Taper', 'TI', 'Location']\n"
     ]
    }
   ],
   "source": [
    "base_model_columns = []\n",
    "base_loss = null_loss\n",
    "base_accuracy = null_accuracy\n",
    "\n",
    "print(\"Base Model Accuracy:\", base_accuracy)\n",
    "print(\"Base Model Loss:\", base_loss)\n",
    "print()\n",
    "\n",
    "for col_name in sorted_columns:\n",
    "    # track all column names\n",
    "    trial_columns = base_model_columns[:]\n",
    "    trial_columns.append(col_name)\n",
    "\n",
    "    X_train, X_test = create_feature_matrices(df_train,\n",
    "                                             df_test,\n",
    "                                             trial_columns,\n",
    "                                             dummy_columns)\n",
    "    \n",
    "    trial_lr = SGDClassifier(max_iter=50000, loss=\"log\", penalty=\"l2\")\n",
    "    trial_lr.fit(X_train, y_train)\n",
    "    pred_labels = trial_lr.predict(X_test)\n",
    "    pred_prob = trial_lr.predict_proba(X_test)\n",
    "    trial_accuracy = accuracy_score(y_test, pred_labels)\n",
    "    trial_loss = log_loss(y_test, pred_prob)\n",
    "    print()\n",
    "    print(str(trial_columns) + \" Model Accuracy:\", trial_accuracy)\n",
    "    print(str(trial_columns) + \" Model Loss:\", trial_loss)\n",
    "\n",
    "    if trial_accuracy > base_accuracy:\n",
    "        print(\"Updating base model\")\n",
    "        base_loss = trial_loss\n",
    "        base_model_columns = trial_columns\n",
    "        base_accuracy = trial_accuracy\n",
    "    print()\n",
    "    print(\"Base Model Loss:\", base_loss)\n",
    "    print(\"Base Model Accuracy:\", base_accuracy)\n",
    "    print()\n",
    "    \n",
    "print(\"Our chosen columns are: \" + str(base_model_columns))"
   ]
  },
  {
   "cell_type": "code",
   "execution_count": 30,
   "metadata": {},
   "outputs": [
    {
     "name": "stdout",
     "output_type": "stream",
     "text": [
      "\n",
      "Model Accuracy: 0.8928571428571429\n",
      "Labels: ['bobcat' 'coyote' 'gray_fox']\n",
      "Confusion matrix:\n",
      "[[15  0  0]\n",
      " [ 1  6  0]\n",
      " [ 2  0  4]]\n"
     ]
    }
   ],
   "source": [
    "X_train, X_test = create_feature_matrices(df_train,\n",
    "                                          df_test,\n",
    "                                          base_model_columns,\n",
    "                                          dummy_columns)\n",
    "    \n",
    "lr = SGDClassifier(max_iter=10000, loss=\"log\")\n",
    "lr.fit(X_train, y_train)\n",
    "pred_labels = lr.predict(X_test)\n",
    "trial_accuracy = accuracy_score(y_test, pred_labels)\n",
    "cm = confusion_matrix(y_test, pred_labels)\n",
    "print()\n",
    "print(\"Model Accuracy:\", trial_accuracy)\n",
    "print(\"Labels:\", encoder.classes_)\n",
    "print(\"Confusion matrix:\")\n",
    "print(cm)"
   ]
  },
  {
   "cell_type": "code",
   "execution_count": 32,
   "metadata": {},
   "outputs": [
    {
     "data": {
      "text/plain": [
       "Text(0,0.5,'True Positive Rate')"
      ]
     },
     "execution_count": 32,
     "metadata": {},
     "output_type": "execute_result"
    },
    {
     "data": {
      "image/png": "[encoded data removed]",
      "text/plain": [
       "<Figure size 432x288 with 1 Axes>"
      ]
     },
     "metadata": {},
     "output_type": "display_data"
    }
   ],
   "source": [
    "from sklearn.metrics import roc_curve\n",
    "\n",
    "pred_proba = lr.predict_proba(X_test)\n",
    "\n",
    "# turn multiclass problem into binary problem\n",
    "pred_proba_1 = 1.0 - pred_proba[:, 0]\n",
    "y_test_1 = [0 if y == 0 else 1 for y in y_test]\n",
    "\n",
    "fpr, tpr, _ = roc_curve(y_test_1, pred_proba_1)\n",
    "\n",
    "plt.plot(fpr, tpr)\n",
    "plt.plot([0.0, 1.0], [0.0, 1.0])\n",
    "plt.xlabel(\"False Positive Rate\", fontsize=16)\n",
    "plt.ylabel(\"True Positive Rate\", fontsize=16)"
   ]
  },
  {
   "cell_type": "code",
   "execution_count": null,
   "metadata": {},
   "outputs": [],
   "source": []
  }
 ],
 "metadata": {
  "kernelspec": {
   "display_name": "Python 3",
   "language": "python",
   "name": "python3"
  },
  "language_info": {
   "codemirror_mode": {
    "name": "ipython",
    "version": 3
   },
   "file_extension": ".py",
   "mimetype": "text/x-python",
   "name": "python",
   "nbconvert_exporter": "python",
   "pygments_lexer": "ipython3",
   "version": "3.6.5"
  }
 },
 "nbformat": 4,
 "nbformat_minor": 2
}
