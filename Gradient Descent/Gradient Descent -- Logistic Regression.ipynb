{
 "cells": [
  {
   "cell_type": "markdown",
   "metadata": {},
   "source": [
    "## Gradient Descent for Logistic Regression\n",
    "\n",
    "**YOUR NAME HERE**\n",
    "\n",
    "In last week's lab, we implemented gradient descent for fitting a linear regression model.  This week, we are going to implement gradient descent for fitting a logistic regression model.\n",
    "\n",
    "Complete the code for the following functions:\n",
    "\n",
    "* dLdw1(x, w0, w1) and dLdw0(x, w0, w1) -- partial derivatives for the loss function\n",
    "* predict_p(x, w0, w1) -- logistic regression prediction function\n",
    "* loss(p, y) -- loss function"
   ]
  },
  {
   "cell_type": "code",
   "execution_count": 1,
   "metadata": {},
   "outputs": [],
   "source": [
    "# loading necessary libraries and setting up plotting libraries\n",
    "import numpy as np\n",
    "import pandas as pd\n",
    "import matplotlib.pyplot as plt\n",
    "\n",
    "# generate plots within notebook\n",
    "%matplotlib inline"
   ]
  },
  {
   "cell_type": "code",
   "execution_count": 2,
   "metadata": {},
   "outputs": [],
   "source": [
    "# generating data to fit the model on\n",
    "\n",
    "X = 2 * np.random.rand(100)\n",
    "y = np.zeros(100)\n",
    "y[X > 1] = 1.0"
   ]
  },
  {
   "cell_type": "code",
   "execution_count": 3,
   "metadata": {},
   "outputs": [],
   "source": [
    "# hyper-parameters\n",
    "alpha = 0.01\n",
    "tol = 1e-11\n",
    "maxiter = 250\n",
    "dispiter = 10\n",
    "\n",
    "# track iterations\n",
    "iters = 0\n",
    "\n",
    "# parameter initialization\n",
    "w0 = 0\n",
    "w1 = 1"
   ]
  },
  {
   "cell_type": "code",
   "execution_count": 4,
   "metadata": {},
   "outputs": [],
   "source": [
    "# track results for plotting parameter convergence\n",
    "w0plot = [0.0]*(maxiter+1)\n",
    "w1plot = [0.0]*(maxiter+1)\n",
    "tplot  = [0]*(maxiter+1)\n",
    "cplot  = [0]*(maxiter+1)"
   ]
  },
  {
   "cell_type": "markdown",
   "metadata": {},
   "source": [
    "## Functions you need to complete"
   ]
  },
  {
   "cell_type": "code",
   "execution_count": null,
   "metadata": {},
   "outputs": [],
   "source": [
    "# logistic regression prediction function\n",
    "def predict_prob(x, w0, w1):\n",
    "    ##################### \n",
    "    # fill this in\n",
    "\n",
    "    #####################\n",
    "    \n",
    "# partial derivative of the cost(loss) with respect to w1 (slogpe)\n",
    "def dLdw1(x, w0, w1):\n",
    "    ##################### \n",
    "    sum = 0\n",
    "    m = X.size\n",
    "\n",
    "    #####################\n",
    "    \n",
    "# partial derivative of the cost(loss) with respect to w0 (slogpe)\n",
    "def dLdw0(x, w0, w1):\n",
    "    ##################### \n",
    "    # fill this in\n",
    "    sum = 0\n",
    "    m = X.size\n",
    "    \n",
    "    #####################\n",
    "    \n",
    "def log_loss(p, y):\n",
    "    ##################### \n",
    "    # fill this in\n",
    "    sum = 0\n",
    "    m = X.size\n",
    "\n",
    "    #####################"
   ]
  },
  {
   "cell_type": "markdown",
   "metadata": {},
   "source": [
    "## Main training loop"
   ]
  },
  {
   "cell_type": "code",
   "execution_count": null,
   "metadata": {},
   "outputs": [],
   "source": [
    "# main algorithm loop starts here\n",
    "iters = 0\n",
    "maxiters = 10\n",
    "while True:\n",
    "    # Note: need to implement dLdw1 and dLdw0 (above)\n",
    "    delta1 = alpha * dLdw1(x, w0, w1)\n",
    "    delta0 = alpha * dLdw0(x, w0, w1)\n",
    "    \n",
    "    iters += 1\n",
    "    w1 = w1 - delta1\n",
    "    w0 = w0 - delta0\n",
    "\n",
    "    # Store data for plotting convergence of parameters\n",
    "    p = predict_prob(x, w0, w1)\n",
    "    tplot[iters] = iters\n",
    "    w0plot[iters] = w0\n",
    "    w1plot[iters] = w1\n",
    "    cplot[iters] = log_loss(p, x)\n",
    " \n",
    "\n",
    " \n",
    "    # display progress\n",
    "    if iters % dispiter == 0:\n",
    "        print(str(iters), \", w0=\", str(w0), \" delta0=\", str(delta0), \"w1=\", str(w1), \", delta1=\", str(delta1))\n",
    "\n",
    "    if abs(delta1) <= tol or abs(delta0) <= tol or iters > maxiter:\n",
    "        break\n",
    "\n",
    "print(\"\\nConvergence after \" + str(iters) + \" iterations: w0=\" + str(w0) + \", w1=\" + str(w1));\n",
    "\n",
    "print(cplot)\n"
   ]
  },
  {
   "cell_type": "markdown",
   "metadata": {},
   "source": [
    "## Plot convergence of data"
   ]
  },
  {
   "cell_type": "code",
   "execution_count": null,
   "metadata": {},
   "outputs": [],
   "source": [
    "# Adding labels\n",
    "# Create a Figure object.\n",
    "fig = plt.figure(figsize=(8, 6))\n",
    "# Create an Axes object.\n",
    "ax = fig.add_subplot(1,1,1) # one row, one column, first plot\n",
    "# Plot the data.    \n",
    "ax.plot(tplot, w0plot, color=\"blue\", label=\"w0\")\n",
    "ax.plot(tplot, w1plot, color=\"red\", label=\"w1\")\n",
    "# Add a title.\n",
    "ax.set_title(\"Convergence of w0 and w1\")\n",
    "# Add axis labels.\n",
    "ax.set_xlabel(\"Iterations\")\n",
    "ax.set_ylabel(\"Parameters\")\n",
    "ax.legend(loc='right')"
   ]
  },
  {
   "cell_type": "markdown",
   "metadata": {},
   "source": [
    "## Plot convergence of cost function"
   ]
  },
  {
   "cell_type": "code",
   "execution_count": null,
   "metadata": {},
   "outputs": [],
   "source": [
    "# Adding labels\n",
    "# Create a Figure object.\n",
    "fig = plt.figure(figsize=(8, 6))\n",
    "# Create an Axes object.\n",
    "ax = fig.add_subplot(1,1,1) # one row, one column, first plot\n",
    "# Plot the data.    \n",
    "ax.plot(tplot, cplot, color=\"blue\", label=\"Cost\")\n",
    "# Add a title.\n",
    "ax.set_title(\"Cost function trend\")\n",
    "# Add axis labels.\n",
    "ax.set_xlabel(\"Iterations\")\n",
    "ax.set_ylabel(\"Log Loss\")\n",
    "ax.legend(loc='right')"
   ]
  },
  {
   "cell_type": "markdown",
   "metadata": {},
   "source": []
  }
 ],
 "metadata": {
  "kernelspec": {
   "display_name": "Python 3",
   "language": "python",
   "name": "python3"
  },
  "language_info": {
   "codemirror_mode": {
    "name": "ipython",
    "version": 3
   },
   "file_extension": ".py",
   "mimetype": "text/x-python",
   "name": "python",
   "nbconvert_exporter": "python",
   "pygments_lexer": "ipython3",
   "version": "3.6.5"
  }
 },
 "nbformat": 4,
 "nbformat_minor": 2
}
