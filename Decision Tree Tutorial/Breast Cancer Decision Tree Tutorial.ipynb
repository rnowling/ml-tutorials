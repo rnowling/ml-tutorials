{
 "cells": [
  {
   "cell_type": "markdown",
   "metadata": {},
   "source": [
    "## Decision Trees and Random Forests\n",
    "\n",
    "[Decision Trees](http://scikit-learn.org/stable/modules/tree.html) are a model for classification that utilizes trees.  Each node in the decision tree applies an inequality to a particular feature, resulting in a boolean output.  For each of the two possible outputs, there is a child node.  The leaves of the tree representing classification decisions; the predicted labels for the leaf nodes come from determining what the most common label is among the samples at that leaf. \n",
    "\n",
    "The decision tree is trained through a greedy algorithm.  All combinations of features and thresholds are evaluated at each split.  The feature and threshold combination that optimizes the \"gini impurity\" is used for that node.  The goal is to divide the divide by class as quickly as possible.\n",
    "\n",
    "To classify a given sample, you start from the top of the tree.  At each node, you evaluate the inequality and move the sample down to the left (true) or right (false) child.  When you reach a leaf, you use the label associated with that leaf to classify the sample.\n",
    "\n",
    "Advantages of decision trees include:\n",
    "\n",
    "* Feature selection -- the decision tree can pick the fits it finds to be most useful\n",
    "* Interpretability -- decision trees can be easily interpreted to explain how samples are classified\n",
    "\n",
    "The downsides of decision trees include:\n",
    "\n",
    "* Unstable -- small changes in the training set can result in very different trees\n",
    "* Feature selection is good but not perfect\n",
    "* Not as accurate as other technique\n",
    "\n",
    "To illustrate the feature selection capabilities, we'll use our greedy method for choosing features and compare with training a decision tree on all of our features.  We'll then repeat this process using [Random Forests](http://scikit-learn.org/stable/modules/generated/sklearn.ensemble.RandomForestClassifier.html), a more advanced technique that builds on decision trees.\n",
    "\n",
    "For this tutorial, we will use the Wisconsin breast cancer data set.  We will classify tumors as benign or malignant based on their properties."
   ]
  },
  {
   "cell_type": "code",
   "execution_count": 1,
   "metadata": {},
   "outputs": [],
   "source": [
    "import numpy as np\n",
    "import pandas as pd\n",
    "import matplotlib.pyplot as plt\n",
    "import seaborn as sns\n",
    "\n",
    "from sklearn.tree import DecisionTreeClassifier\n",
    "from sklearn.ensemble import RandomForestClassifier\n",
    "from sklearn.metrics import accuracy_score\n",
    "from sklearn.metrics import confusion_matrix\n",
    "from sklearn.model_selection import train_test_split\n",
    "from sklearn.preprocessing import Imputer\n",
    "from sklearn.preprocessing import LabelEncoder\n",
    "from sklearn.preprocessing import StandardScaler\n",
    "\n",
    "%matplotlib inline"
   ]
  },
  {
   "cell_type": "markdown",
   "metadata": {},
   "source": [
    "## Import and Clean Data"
   ]
  },
  {
   "cell_type": "code",
   "execution_count": 2,
   "metadata": {},
   "outputs": [],
   "source": [
    "df = pd.read_csv(\"breast_cancer.csv\")"
   ]
  },
  {
   "cell_type": "code",
   "execution_count": 3,
   "metadata": {},
   "outputs": [
    {
     "data": {
      "text/html": [
       "<div>\n",
       "<style scoped>\n",
       "    .dataframe tbody tr th:only-of-type {\n",
       "        vertical-align: middle;\n",
       "    }\n",
       "\n",
       "    .dataframe tbody tr th {\n",
       "        vertical-align: top;\n",
       "    }\n",
       "\n",
       "    .dataframe thead th {\n",
       "        text-align: right;\n",
       "    }\n",
       "</style>\n",
       "<table border=\"1\" class=\"dataframe\">\n",
       "  <thead>\n",
       "    <tr style=\"text-align: right;\">\n",
       "      <th></th>\n",
       "      <th>Id</th>\n",
       "      <th>Cl.thickness</th>\n",
       "      <th>Cell.size</th>\n",
       "      <th>Cell.shape</th>\n",
       "      <th>Marg.adhesion</th>\n",
       "      <th>Epith.c.size</th>\n",
       "      <th>Bare.nuclei</th>\n",
       "      <th>Bl.cromatin</th>\n",
       "      <th>Normal.nucleoli</th>\n",
       "      <th>Mitoses</th>\n",
       "      <th>Class</th>\n",
       "    </tr>\n",
       "  </thead>\n",
       "  <tbody>\n",
       "    <tr>\n",
       "      <th>0</th>\n",
       "      <td>1000025</td>\n",
       "      <td>5</td>\n",
       "      <td>1</td>\n",
       "      <td>1</td>\n",
       "      <td>1</td>\n",
       "      <td>2</td>\n",
       "      <td>1.0</td>\n",
       "      <td>3</td>\n",
       "      <td>1</td>\n",
       "      <td>1</td>\n",
       "      <td>benign</td>\n",
       "    </tr>\n",
       "    <tr>\n",
       "      <th>1</th>\n",
       "      <td>1002945</td>\n",
       "      <td>5</td>\n",
       "      <td>4</td>\n",
       "      <td>4</td>\n",
       "      <td>5</td>\n",
       "      <td>7</td>\n",
       "      <td>10.0</td>\n",
       "      <td>3</td>\n",
       "      <td>2</td>\n",
       "      <td>1</td>\n",
       "      <td>benign</td>\n",
       "    </tr>\n",
       "    <tr>\n",
       "      <th>2</th>\n",
       "      <td>1015425</td>\n",
       "      <td>3</td>\n",
       "      <td>1</td>\n",
       "      <td>1</td>\n",
       "      <td>1</td>\n",
       "      <td>2</td>\n",
       "      <td>2.0</td>\n",
       "      <td>3</td>\n",
       "      <td>1</td>\n",
       "      <td>1</td>\n",
       "      <td>benign</td>\n",
       "    </tr>\n",
       "    <tr>\n",
       "      <th>3</th>\n",
       "      <td>1016277</td>\n",
       "      <td>6</td>\n",
       "      <td>8</td>\n",
       "      <td>8</td>\n",
       "      <td>1</td>\n",
       "      <td>3</td>\n",
       "      <td>4.0</td>\n",
       "      <td>3</td>\n",
       "      <td>7</td>\n",
       "      <td>1</td>\n",
       "      <td>benign</td>\n",
       "    </tr>\n",
       "    <tr>\n",
       "      <th>4</th>\n",
       "      <td>1017023</td>\n",
       "      <td>4</td>\n",
       "      <td>1</td>\n",
       "      <td>1</td>\n",
       "      <td>3</td>\n",
       "      <td>2</td>\n",
       "      <td>1.0</td>\n",
       "      <td>3</td>\n",
       "      <td>1</td>\n",
       "      <td>1</td>\n",
       "      <td>benign</td>\n",
       "    </tr>\n",
       "  </tbody>\n",
       "</table>\n",
       "</div>"
      ],
      "text/plain": [
       "        Id  Cl.thickness  Cell.size  Cell.shape  Marg.adhesion  Epith.c.size  \\\n",
       "0  1000025             5          1           1              1             2   \n",
       "1  1002945             5          4           4              5             7   \n",
       "2  1015425             3          1           1              1             2   \n",
       "3  1016277             6          8           8              1             3   \n",
       "4  1017023             4          1           1              3             2   \n",
       "\n",
       "   Bare.nuclei  Bl.cromatin  Normal.nucleoli  Mitoses   Class  \n",
       "0          1.0            3                1        1  benign  \n",
       "1         10.0            3                2        1  benign  \n",
       "2          2.0            3                1        1  benign  \n",
       "3          4.0            3                7        1  benign  \n",
       "4          1.0            3                1        1  benign  "
      ]
     },
     "execution_count": 3,
     "metadata": {},
     "output_type": "execute_result"
    }
   ],
   "source": [
    "df.head()"
   ]
  },
  {
   "cell_type": "code",
   "execution_count": 4,
   "metadata": {},
   "outputs": [
    {
     "data": {
      "text/plain": [
       "Id                   int64\n",
       "Cl.thickness         int64\n",
       "Cell.size            int64\n",
       "Cell.shape           int64\n",
       "Marg.adhesion        int64\n",
       "Epith.c.size         int64\n",
       "Bare.nuclei        float64\n",
       "Bl.cromatin          int64\n",
       "Normal.nucleoli      int64\n",
       "Mitoses              int64\n",
       "Class               object\n",
       "dtype: object"
      ]
     },
     "execution_count": 4,
     "metadata": {},
     "output_type": "execute_result"
    }
   ],
   "source": [
    "df.dtypes"
   ]
  },
  {
   "cell_type": "markdown",
   "metadata": {},
   "source": [
    "## Data Exploration\n",
    "\n",
    "Let's look at the distribution of the outcome variable `Class`."
   ]
  },
  {
   "cell_type": "code",
   "execution_count": 5,
   "metadata": {},
   "outputs": [
    {
     "name": "stdout",
     "output_type": "stream",
     "text": [
      "benign       458\n",
      "malignant    241\n",
      "Name: Class, dtype: int64\n"
     ]
    },
    {
     "data": {
      "text/plain": [
       "Text(0,0.5,'Number of Samples')"
      ]
     },
     "execution_count": 5,
     "metadata": {},
     "output_type": "execute_result"
    },
    {
     "data": {
      "image/png": "[encoded data removed]",
      "text/plain": [
       "<Figure size 432x288 with 1 Axes>"
      ]
     },
     "metadata": {},
     "output_type": "display_data"
    }
   ],
   "source": [
    "class_counts = df[\"Class\"].value_counts()\n",
    "print(class_counts)\n",
    "class_counts.plot.bar()\n",
    "plt.ylabel(\"Number of Samples\", fontsize=16)"
   ]
  },
  {
   "cell_type": "markdown",
   "metadata": {},
   "source": [
    "Our data set is imbalanced.  Meaning, we have twice as many benign samples as malignant samples."
   ]
  },
  {
   "cell_type": "markdown",
   "metadata": {},
   "source": [
    "## Experimental Setup"
   ]
  },
  {
   "cell_type": "code",
   "execution_count": 6,
   "metadata": {},
   "outputs": [
    {
     "name": "stdout",
     "output_type": "stream",
     "text": [
      "699 524 175\n"
     ]
    }
   ],
   "source": [
    "df_train, df_test = train_test_split(df, stratify=df[\"Class\"])\n",
    "print(df.shape[0], df_train.shape[0], df_test.shape[0])"
   ]
  },
  {
   "cell_type": "markdown",
   "metadata": {},
   "source": [
    "Our labels are given as a strings, which we then converted to a categorical variable.  Scikit-Learn classifiers expect that outcome variables are denoted by integers -- one integer per category.  We can use the `LabelEncoder` to transform the strings to integers and store an internal representation for easier conversation back later."
   ]
  },
  {
   "cell_type": "code",
   "execution_count": 7,
   "metadata": {},
   "outputs": [
    {
     "name": "stdout",
     "output_type": "stream",
     "text": [
      "[0 0 0 1 0 0 1 0 0 0 0 0 1 1 1 0 1 0 0 1 0 0 0 0 1 0 1 0 0 0 0 0 1 0 0 1 0\n",
      " 0 1 0 0 0 0 0 1 0 0 1 0 0 0 1 0 1 0 0 1 0 1 1 0 0 1 0 0 0 0 0 0 0 0 0 0 0\n",
      " 1 1 0 0 0 0 0 1 0 0 0 1 1 0 1 0 1 0 0 1 1 0 1 1 0 0 0 0 1 0 0 0 0 0 0 1 1\n",
      " 1 0 0 1 0 0 1 1 1 0 0 1 1 1 0 0 1 0 1 1 0 0 1 0 0 0 0 1 1 0 1 1 0 1 0 0 0\n",
      " 0 0 1 0 0 0 0 1 0 0 0 0 0 1 0 0 0 0 1 1 1 0 0 1 0 1 0 0 0 1 0 1 0 1 0 1 0\n",
      " 0 1 1 1 1 0 1 1 1 0 0 1 0 1 0 0 0 0 1 1 1 0 1 0 0 0 1 0 1 1 0 0 0 0 1 1 0\n",
      " 0 1 0 1 0 1 0 0 0 0 0 1 0 0 0 0 0 1 0 1 0 0 1 1 0 1 1 0 0 1 0 0 1 0 0 0 0\n",
      " 1 0 1 0 0 0 0 0 1 0 1 1 1 0 0 1 0 0 0 1 1 1 0 1 1 1 0 1 1 0 0 0 0 1 0 1 1\n",
      " 0 0 0 0 1 0 0 0 0 0 0 0 1 0 0 0 0 1 0 0 0 0 1 0 0 0 0 0 0 1 0 0 0 0 0 0 0\n",
      " 0 0 0 0 0 1 0 0 0 0 0 0 0 0 1 0 1 0 0 0 1 0 1 0 0 0 0 0 0 0 1 0 1 0 0 0 0\n",
      " 0 0 1 1 0 1 0 0 0 0 0 0 1 0 1 0 0 1 1 0 0 1 0 0 1 0 1 0 0 0 1 0 0 1 0 0 0\n",
      " 0 1 0 1 0 0 1 0 0 1 0 0 1 0 1 0 0 0 0 0 1 1 0 0 0 0 1 0 1 1 1 1 0 1 0 0 0\n",
      " 1 1 0 0 0 1 1 0 0 1 0 1 0 0 0 0 0 1 0 0 0 0 0 1 0 1 0 1 0 0 1 0 0 0 1 0 1\n",
      " 0 1 1 0 1 0 0 1 0 1 0 0 1 1 0 1 0 0 1 1 1 0 0 0 0 0 1 0 0 1 0 0 0 1 0 0 0\n",
      " 1 1 1 0 1 1]\n"
     ]
    }
   ],
   "source": [
    "encoder = LabelEncoder()\n",
    "y_train = encoder.fit_transform(df_train[\"Class\"].astype(\"str\"))\n",
    "y_test = encoder.transform(df_test[\"Class\"].astype(\"str\"))\n",
    "print(y_train)"
   ]
  },
  {
   "cell_type": "markdown",
   "metadata": {},
   "source": [
    "## Feature Selection with Greedy Algorithm\n",
    "\n",
    "The Wisconsin Breast Cancer data set features are all numerical, so we don't transform anything into dummy variables.  We just create some placeholder data structures so we can reuse our existing code."
   ]
  },
  {
   "cell_type": "code",
   "execution_count": 8,
   "metadata": {},
   "outputs": [],
   "source": [
    "candidate_columns = df.columns[1:-1]\n",
    "dummy_columns = dict()"
   ]
  },
  {
   "cell_type": "code",
   "execution_count": 9,
   "metadata": {},
   "outputs": [],
   "source": [
    "def create_feature_matrices(df_train, df_test, selected_columns, dummy_columns):\n",
    "    \"\"\"\n",
    "    Creates feature matrices for the training and testing sets from the given dataframes.\n",
    "    The feature matrices are built from the columns given in selected columns.\n",
    "    \"\"\"\n",
    "    \n",
    "    # keep track of numerical features\n",
    "    numerical_trial_columns = []\n",
    "    \n",
    "    # keep track of dummy features for categorical variables\n",
    "    categorical_trial_columns = []\n",
    "    \n",
    "    # build feature lists\n",
    "    for col_name in selected_columns:\n",
    "        if col_name in dummy_columns:\n",
    "            categorical_trial_columns.extend(dummy_columns[col_name])\n",
    "        else:\n",
    "            numerical_trial_columns.append(col_name)\n",
    "\n",
    "    # transform numerical features\n",
    "    if len(numerical_trial_columns) > 0:\n",
    "        X_train_numerical = df_train[numerical_trial_columns].astype(\"float64\").values\n",
    "        X_test_numerical = df_test[numerical_trial_columns].astype(\"float64\").values\n",
    "    \n",
    "        imputer = Imputer()\n",
    "        X_train_numerical = imputer.fit_transform(X_train_numerical)\n",
    "        X_test_numerical = imputer.transform(X_test_numerical)\n",
    "    \n",
    "        scaler = StandardScaler()\n",
    "        X_train_numerical = scaler.fit_transform(X_train_numerical)\n",
    "        X_test_numerical = scaler.transform(X_test_numerical)\n",
    "    \n",
    "    # select categorical features\n",
    "    if len(categorical_trial_columns) > 0:\n",
    "        X_train_categorical = df_train[categorical_trial_columns].astype(\"float64\").values\n",
    "        X_test_categorical = df_test[categorical_trial_columns].astype(\"float64\").values\n",
    "    \n",
    "    # concatenate feature matrices\n",
    "    if len(numerical_trial_columns) > 0 and len(categorical_trial_columns) > 0:\n",
    "        X_train = np.hstack([X_train_numerical, X_train_categorical])\n",
    "        X_test = np.hstack([X_test_numerical, X_test_categorical])\n",
    "    elif len(numerical_trial_columns) > 0:\n",
    "        X_train = X_train_numerical\n",
    "        X_test = X_test_numerical\n",
    "    else:\n",
    "        X_train = X_train_categorical\n",
    "        X_test = X_test_categorical\n",
    "        \n",
    "    return X_train, X_test"
   ]
  },
  {
   "cell_type": "code",
   "execution_count": 10,
   "metadata": {},
   "outputs": [
    {
     "name": "stdout",
     "output_type": "stream",
     "text": [
      "Null Model Accuracy: 0.0\n",
      "\n",
      "Cl.thickness Accuracy: 0.8628571428571429\n",
      "\n",
      "Cell.size Accuracy: 0.9257142857142857\n",
      "\n",
      "Cell.shape Accuracy: 0.92\n",
      "\n",
      "Marg.adhesion Accuracy: 0.8742857142857143\n",
      "\n",
      "Epith.c.size Accuracy: 0.8914285714285715\n",
      "\n",
      "Bare.nuclei Accuracy: 0.88\n",
      "\n",
      "Bl.cromatin Accuracy: 0.9028571428571428\n",
      "\n",
      "Normal.nucleoli Accuracy: 0.92\n",
      "\n",
      "Mitoses Accuracy: 0.8057142857142857\n",
      "\n",
      "Sorted columns:['Cell.size', 'Cell.shape', 'Normal.nucleoli', 'Bl.cromatin', 'Epith.c.size', 'Bare.nuclei', 'Marg.adhesion', 'Cl.thickness', 'Mitoses']\n"
     ]
    }
   ],
   "source": [
    "null_accuracy = 0.0\n",
    "print(\"Null Model Accuracy:\", null_accuracy)\n",
    "\n",
    "column_accuracies = []\n",
    "\n",
    "for col_name in candidate_columns:\n",
    "    X_train, X_test = create_feature_matrices(df_train,\n",
    "                                             df_test,\n",
    "                                             [col_name],\n",
    "                                             dummy_columns)\n",
    "    \n",
    "    dt = DecisionTreeClassifier()\n",
    "    dt.fit(X_train, y_train)\n",
    "    pred_labels = dt.predict(X_test)\n",
    "    pred_probs = dt.predict_proba(X_test)\n",
    "    simple_accuracy = accuracy_score(y_test, pred_labels)\n",
    "    print()\n",
    "    print(col_name + \" Accuracy:\", simple_accuracy)\n",
    "    column_accuracies.append((simple_accuracy, col_name))\n",
    "    \n",
    "column_accuracies.sort(key=lambda p: p[0], reverse=True)\n",
    "sorted_columns = [col_name for _, col_name in column_accuracies]\n",
    "print()\n",
    "print(\"Sorted columns:\" + str(sorted_columns))"
   ]
  },
  {
   "cell_type": "code",
   "execution_count": 11,
   "metadata": {},
   "outputs": [
    {
     "name": "stdout",
     "output_type": "stream",
     "text": [
      "Base Model Accuracy: 0.0\n",
      "\n",
      "\n",
      "['Cell.size'] Model Accuracy: 0.9257142857142857\n",
      "Updating base model\n",
      "\n",
      "Base Model Accuracy: 0.9257142857142857\n",
      "\n",
      "\n",
      "['Cell.size', 'Cell.shape'] Model Accuracy: 0.92\n",
      "\n",
      "Base Model Accuracy: 0.9257142857142857\n",
      "\n",
      "\n",
      "['Cell.size', 'Normal.nucleoli'] Model Accuracy: 0.9314285714285714\n",
      "Updating base model\n",
      "\n",
      "Base Model Accuracy: 0.9314285714285714\n",
      "\n",
      "\n",
      "['Cell.size', 'Normal.nucleoli', 'Bl.cromatin'] Model Accuracy: 0.9428571428571428\n",
      "Updating base model\n",
      "\n",
      "Base Model Accuracy: 0.9428571428571428\n",
      "\n",
      "\n",
      "['Cell.size', 'Normal.nucleoli', 'Bl.cromatin', 'Epith.c.size'] Model Accuracy: 0.92\n",
      "\n",
      "Base Model Accuracy: 0.9428571428571428\n",
      "\n",
      "\n",
      "['Cell.size', 'Normal.nucleoli', 'Bl.cromatin', 'Bare.nuclei'] Model Accuracy: 0.9257142857142857\n",
      "\n",
      "Base Model Accuracy: 0.9428571428571428\n",
      "\n",
      "\n",
      "['Cell.size', 'Normal.nucleoli', 'Bl.cromatin', 'Marg.adhesion'] Model Accuracy: 0.8971428571428571\n",
      "\n",
      "Base Model Accuracy: 0.9428571428571428\n",
      "\n",
      "\n",
      "['Cell.size', 'Normal.nucleoli', 'Bl.cromatin', 'Cl.thickness'] Model Accuracy: 0.9485714285714286\n",
      "Updating base model\n",
      "\n",
      "Base Model Accuracy: 0.9485714285714286\n",
      "\n",
      "\n",
      "['Cell.size', 'Normal.nucleoli', 'Bl.cromatin', 'Cl.thickness', 'Mitoses'] Model Accuracy: 0.9542857142857143\n",
      "Updating base model\n",
      "\n",
      "Base Model Accuracy: 0.9542857142857143\n",
      "\n",
      "Our chosen columns are: ['Cell.size', 'Normal.nucleoli', 'Bl.cromatin', 'Cl.thickness', 'Mitoses']\n"
     ]
    }
   ],
   "source": [
    "base_model_columns = []\n",
    "base_accuracy = null_accuracy\n",
    "\n",
    "print(\"Base Model Accuracy:\", base_accuracy)\n",
    "print()\n",
    "\n",
    "for col_name in sorted_columns:\n",
    "    # track all column names\n",
    "    trial_columns = base_model_columns[:]\n",
    "    trial_columns.append(col_name)\n",
    "\n",
    "    X_train, X_test = create_feature_matrices(df_train,\n",
    "                                             df_test,\n",
    "                                             trial_columns,\n",
    "                                             dummy_columns)\n",
    "    \n",
    "    trial_dt = DecisionTreeClassifier()\n",
    "    trial_dt.fit(X_train, y_train)\n",
    "    pred_labels = trial_dt.predict(X_test)\n",
    "    trial_accuracy = accuracy_score(y_test, pred_labels)\n",
    "    print()\n",
    "    print(str(trial_columns) + \" Model Accuracy:\", trial_accuracy)\n",
    "\n",
    "    if trial_accuracy > base_accuracy:\n",
    "        print(\"Updating base model\")\n",
    "        base_model_columns = trial_columns\n",
    "        base_accuracy = trial_accuracy\n",
    "    print()\n",
    "    print(\"Base Model Accuracy:\", base_accuracy)\n",
    "    print()\n",
    "    \n",
    "print(\"Our chosen columns are: \" + str(base_model_columns))"
   ]
  },
  {
   "cell_type": "markdown",
   "metadata": {},
   "source": [
    "Now, let's try putting all of our features into a Decision Tree model."
   ]
  },
  {
   "cell_type": "code",
   "execution_count": 12,
   "metadata": {},
   "outputs": [
    {
     "name": "stdout",
     "output_type": "stream",
     "text": [
      "\n",
      "Model Accuracy: 0.9542857142857143\n",
      "Labels: ['benign' 'malignant']\n",
      "Confusion matrix:\n",
      "[[114   1]\n",
      " [  7  53]]\n"
     ]
    }
   ],
   "source": [
    "X_train, X_test = create_feature_matrices(df_train,\n",
    "                                          df_test,\n",
    "                                          sorted_columns,\n",
    "                                          dummy_columns)\n",
    "    \n",
    "dt = DecisionTreeClassifier()\n",
    "dt.fit(X_train, y_train)\n",
    "pred_labels = dt.predict(X_test)\n",
    "trial_accuracy = accuracy_score(y_test, pred_labels)\n",
    "cm = confusion_matrix(y_test, pred_labels)\n",
    "print()\n",
    "print(\"Model Accuracy:\", trial_accuracy)\n",
    "print(\"Labels:\", encoder.classes_)\n",
    "print(\"Confusion matrix:\")\n",
    "print(cm)"
   ]
  },
  {
   "cell_type": "markdown",
   "metadata": {},
   "source": [
    "Our greedy process for evaluating features achieved an accuracy of 95%, which is on par with the Decision Tree model."
   ]
  },
  {
   "cell_type": "markdown",
   "metadata": {},
   "source": [
    "## Random Forests\n",
    "\n",
    "We are now going to try the more sophisticated Random Forests method.  We will go through the greedy process as well as trying to throw all of the features into a model."
   ]
  },
  {
   "cell_type": "code",
   "execution_count": 13,
   "metadata": {},
   "outputs": [
    {
     "name": "stdout",
     "output_type": "stream",
     "text": [
      "Null Model Accuracy: 0.0\n",
      "\n",
      "Cl.thickness Accuracy: 0.8628571428571429\n",
      "\n",
      "Cell.size Accuracy: 0.9257142857142857\n",
      "\n",
      "Cell.shape Accuracy: 0.92\n",
      "\n",
      "Marg.adhesion Accuracy: 0.8514285714285714\n",
      "\n",
      "Epith.c.size Accuracy: 0.8914285714285715\n",
      "\n",
      "Bare.nuclei Accuracy: 0.88\n",
      "\n",
      "Bl.cromatin Accuracy: 0.9028571428571428\n",
      "\n",
      "Normal.nucleoli Accuracy: 0.92\n",
      "\n",
      "Mitoses Accuracy: 0.8057142857142857\n",
      "\n",
      "Sorted columns:['Cell.size', 'Cell.shape', 'Normal.nucleoli', 'Bl.cromatin', 'Epith.c.size', 'Bare.nuclei', 'Cl.thickness', 'Marg.adhesion', 'Mitoses']\n"
     ]
    }
   ],
   "source": [
    "null_accuracy = 0.0\n",
    "print(\"Null Model Accuracy:\", null_accuracy)\n",
    "\n",
    "column_accuracies = []\n",
    "\n",
    "for col_name in candidate_columns:\n",
    "    X_train, X_test = create_feature_matrices(df_train,\n",
    "                                             df_test,\n",
    "                                             [col_name],\n",
    "                                             dummy_columns)\n",
    "    \n",
    "    rf = RandomForestClassifier(n_estimators=100)\n",
    "    rf.fit(X_train, y_train)\n",
    "    pred_labels = rf.predict(X_test)\n",
    "    pred_probs = rf.predict_proba(X_test)\n",
    "    simple_accuracy = accuracy_score(y_test, pred_labels)\n",
    "    print()\n",
    "    print(col_name + \" Accuracy:\", simple_accuracy)\n",
    "    column_accuracies.append((simple_accuracy, col_name))\n",
    "    \n",
    "column_accuracies.sort(key=lambda p: p[0], reverse=True)\n",
    "sorted_columns = [col_name for _, col_name in column_accuracies]\n",
    "print()\n",
    "print(\"Sorted columns:\" + str(sorted_columns))"
   ]
  },
  {
   "cell_type": "code",
   "execution_count": 14,
   "metadata": {},
   "outputs": [
    {
     "name": "stdout",
     "output_type": "stream",
     "text": [
      "Base Model Accuracy: 0.0\n",
      "\n",
      "\n",
      "['Cell.size'] Model Accuracy: 0.9257142857142857\n",
      "Updating base model\n",
      "\n",
      "Base Model Accuracy: 0.9257142857142857\n",
      "\n",
      "\n",
      "['Cell.size', 'Cell.shape'] Model Accuracy: 0.9257142857142857\n",
      "\n",
      "Base Model Accuracy: 0.9257142857142857\n",
      "\n",
      "\n",
      "['Cell.size', 'Normal.nucleoli'] Model Accuracy: 0.9428571428571428\n",
      "Updating base model\n",
      "\n",
      "Base Model Accuracy: 0.9428571428571428\n",
      "\n",
      "\n",
      "['Cell.size', 'Normal.nucleoli', 'Bl.cromatin'] Model Accuracy: 0.96\n",
      "Updating base model\n",
      "\n",
      "Base Model Accuracy: 0.96\n",
      "\n",
      "\n",
      "['Cell.size', 'Normal.nucleoli', 'Bl.cromatin', 'Epith.c.size'] Model Accuracy: 0.9542857142857143\n",
      "\n",
      "Base Model Accuracy: 0.96\n",
      "\n",
      "\n",
      "['Cell.size', 'Normal.nucleoli', 'Bl.cromatin', 'Bare.nuclei'] Model Accuracy: 0.9542857142857143\n",
      "\n",
      "Base Model Accuracy: 0.96\n",
      "\n",
      "\n",
      "['Cell.size', 'Normal.nucleoli', 'Bl.cromatin', 'Cl.thickness'] Model Accuracy: 0.9542857142857143\n",
      "\n",
      "Base Model Accuracy: 0.96\n",
      "\n",
      "\n",
      "['Cell.size', 'Normal.nucleoli', 'Bl.cromatin', 'Marg.adhesion'] Model Accuracy: 0.9485714285714286\n",
      "\n",
      "Base Model Accuracy: 0.96\n",
      "\n",
      "\n",
      "['Cell.size', 'Normal.nucleoli', 'Bl.cromatin', 'Mitoses'] Model Accuracy: 0.9542857142857143\n",
      "\n",
      "Base Model Accuracy: 0.96\n",
      "\n",
      "Our chosen columns are: ['Cell.size', 'Normal.nucleoli', 'Bl.cromatin']\n"
     ]
    }
   ],
   "source": [
    "base_model_columns = []\n",
    "base_accuracy = null_accuracy\n",
    "\n",
    "print(\"Base Model Accuracy:\", base_accuracy)\n",
    "print()\n",
    "\n",
    "for col_name in sorted_columns:\n",
    "    # track all column names\n",
    "    trial_columns = base_model_columns[:]\n",
    "    trial_columns.append(col_name)\n",
    "\n",
    "    X_train, X_test = create_feature_matrices(df_train,\n",
    "                                             df_test,\n",
    "                                             trial_columns,\n",
    "                                             dummy_columns)\n",
    "    \n",
    "    rf = RandomForestClassifier(n_estimators=100)\n",
    "    rf.fit(X_train, y_train)\n",
    "    pred_labels = rf.predict(X_test)\n",
    "    trial_accuracy = accuracy_score(y_test, pred_labels)\n",
    "    print()\n",
    "    print(str(trial_columns) + \" Model Accuracy:\", trial_accuracy)\n",
    "\n",
    "    if trial_accuracy > base_accuracy:\n",
    "        print(\"Updating base model\")\n",
    "        base_model_columns = trial_columns\n",
    "        base_accuracy = trial_accuracy\n",
    "    print()\n",
    "    print(\"Base Model Accuracy:\", base_accuracy)\n",
    "    print()\n",
    "    \n",
    "print(\"Our chosen columns are: \" + str(base_model_columns))"
   ]
  },
  {
   "cell_type": "code",
   "execution_count": 15,
   "metadata": {},
   "outputs": [
    {
     "name": "stdout",
     "output_type": "stream",
     "text": [
      "\n",
      "Model Accuracy: 0.9714285714285714\n",
      "Labels: ['benign' 'malignant']\n",
      "Confusion matrix:\n",
      "[[114   1]\n",
      " [  4  56]]\n"
     ]
    }
   ],
   "source": [
    "X_train, X_test = create_feature_matrices(df_train,\n",
    "                                          df_test,\n",
    "                                          sorted_columns,\n",
    "                                          dummy_columns)\n",
    "    \n",
    "rf = RandomForestClassifier(n_estimators=100)\n",
    "rf.fit(X_train, y_train)\n",
    "pred_labels = rf.predict(X_test)\n",
    "trial_accuracy = accuracy_score(y_test, pred_labels)\n",
    "cm = confusion_matrix(y_test, pred_labels)\n",
    "print()\n",
    "print(\"Model Accuracy:\", trial_accuracy)\n",
    "print(\"Labels:\", encoder.classes_)\n",
    "print(\"Confusion matrix:\")\n",
    "print(cm)"
   ]
  },
  {
   "cell_type": "markdown",
   "metadata": {},
   "source": [
    "Our two approaches achieved the same results.  A Random Forest model is actually slightly better at feature selection than our greedy process."
   ]
  },
  {
   "cell_type": "code",
   "execution_count": null,
   "metadata": {},
   "outputs": [],
   "source": []
  }
 ],
 "metadata": {
  "kernelspec": {
   "display_name": "Python 3",
   "language": "python",
   "name": "python3"
  },
  "language_info": {
   "codemirror_mode": {
    "name": "ipython",
    "version": 3
   },
   "file_extension": ".py",
   "mimetype": "text/x-python",
   "name": "python",
   "nbconvert_exporter": "python",
   "pygments_lexer": "ipython3",
   "version": "3.6.5"
  }
 },
 "nbformat": 4,
 "nbformat_minor": 2
}
